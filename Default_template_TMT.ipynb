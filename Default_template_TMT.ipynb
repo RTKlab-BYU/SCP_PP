{
 "cells": [
  {
   "cell_type": "code",
   "execution_count": 1,
   "id": "c9b4cd45",
   "metadata": {},
   "outputs": [],
   "source": [
    "import pandas as pd\n",
    "\n",
    "# import scipy\n",
    "# from scipy.stats import t\n",
    "# import seaborn as sns\n",
    "# from datetime import datetime, timedelta\n",
    "# import plotly.express as px\n",
    "# from pathlib import Path\n",
    "# import statsmodels.api as sm\n",
    "# from sklearn.preprocessing import StandardScaler\n",
    "# from statsmodels.stats.multitest import multipletests\n",
    "# from scipy.stats import f_oneway as anova\n",
    "# from statsmodels.formula.api import ols \n",
    "  \n",
    "# import math\n",
    "# from select import select\n",
    "\n",
    "#kernal must be restarted if these module change \n",
    "from SCP_plotter import SCP_plotter\n",
    "plotter = SCP_plotter(write_output = True)\n",
    "from SCP_processor import SCP_processor\n",
    "processor = SCP_processor(data_type=\"TMT\")"
   ]
  },
  {
   "cell_type": "code",
   "execution_count": 2,
   "id": "62a44dde",
   "metadata": {},
   "outputs": [],
   "source": [
    "#Method put files in, one dictionary for each analysis, if there is only one file or you are looking in all files, then you don't need @'s in your SETTINGS_FILE\n",
    "WRITE_OUTPUT = True\n",
    "USE_MaxLFQ = False\n",
    "filelist = [\n",
    "             {\"input1\":\"input/tmt-report/abundance_protein_MD.tsv\",\n",
    "             \"input2\":\"input/tmt-report/abundance_peptide_MD.tsv\",\n",
    "             \"input3\":\"report.pg_matrix.tsv\",\n",
    "             \"input4\":\"report.pr_matrix.tsv\",\n",
    "             \"input5\":\"summary.txt\",\n",
    "             \"process_app\": \"FragPipe_TMT\"},\n",
    "          \n",
    "            ]\n",
    "\n",
    "            #Order of files\n",
    "                #For FragPipe\n",
    "                    #input1= Protein with MBR\n",
    "                    #input2= Peptide with MBR\n",
    "                #For DIANN\n",
    "                    #input1= pg_matrix\n",
    "                    #input2= pr_matrix \n",
    "                    #input3= pg_matrix MS2\n",
    "                    #input4= pr_matrix MS2\n",
    "                #For PD\n",
    "                    #input1= Protein \n",
    "                    #input2= Peptide Groups\n",
    "                    #input3= blank\n",
    "                    #input4= blank\n",
    "                    #input5= inpit_files\n",
    "\n",
    "\n",
    "SETTINGS_FILE = \"settings_test_TMT.txt\" #tab delimited\n",
    "    #Format\n",
    "    #Required Columns\n",
    "        #Group Name\t\n",
    "        #filter_in: a string pattern contained in desired raw filenames in analysis followed by an @ + the file number (filelist index) to look in\n",
    "        #filter_out: a string pattern contained in undesired raw filenames\n",
    "    #Extra columns\n",
    "        #can be used to group by color, layer, or x position in CV and ID graphs"
   ]
  },
  {
   "cell_type": "code",
   "execution_count": 3,
   "id": "b540d36f",
   "metadata": {},
   "outputs": [],
   "source": [
    "# define group names and assign analysis to different groups(web app version was done through GUI so\n",
    "# steps are taken to make sure they have same output)\n",
    "x = processor.read_files(grouped_input_files=filelist)\n",
    "\n",
    "\n"
   ]
  },
  {
   "cell_type": "code",
   "execution_count": 4,
   "id": "cf5e3652",
   "metadata": {},
   "outputs": [
    {
     "name": "stdout",
     "output_type": "stream",
     "text": [
      "***\n"
     ]
    }
   ],
   "source": [
    "data_obj = processor.outer_join_data_objects(x)\n"
   ]
  },
  {
   "cell_type": "code",
   "execution_count": 5,
   "id": "c4662c59",
   "metadata": {},
   "outputs": [],
   "source": [
    "saved_settings = processor.sort_runs(data_obj,SETTINGS_FILE)\n"
   ]
  },
  {
   "cell_type": "code",
   "execution_count": 8,
   "id": "c3496d1b",
   "metadata": {},
   "outputs": [
    {
     "name": "stdout",
     "output_type": "stream",
     "text": [
      "  names  MS2_IDs  MBR_IDs  Total_IDs\n",
      "0   0-0      502        0        502\n",
      "1   0-1      498        0        498\n",
      "2   0-2      393        0        393\n",
      "Downloading links...\n"
     ]
    },
    {
     "name": "stderr",
     "output_type": "stream",
     "text": [
      "c:\\VS_Code\\SCP_PP\\SCP_plotter.py:611: FutureWarning:\n",
      "\n",
      "The frame.append method is deprecated and will be removed from pandas in a future version. Use pandas.concat instead.\n",
      "\n",
      "c:\\VS_Code\\SCP_PP\\SCP_plotter.py:611: FutureWarning:\n",
      "\n",
      "The frame.append method is deprecated and will be removed from pandas in a future version. Use pandas.concat instead.\n",
      "\n",
      "c:\\VS_Code\\SCP_PP\\SCP_plotter.py:611: FutureWarning:\n",
      "\n",
      "The frame.append method is deprecated and will be removed from pandas in a future version. Use pandas.concat instead.\n",
      "\n"
     ]
    },
    {
     "data": {
      "application/vnd.plotly.v1+json": {
       "config": {
        "plotlyServerURL": "https://plot.ly"
       },
       "data": [
        {
         "marker": {
          "color": "#3E6990"
         },
         "name": "33.3",
         "text": [
          "0"
         ],
         "type": "bar",
         "x": [
          "FP22"
         ],
         "y": [
          0
         ]
        },
        {
         "base": [
          0
         ],
         "marker": {
          "color": "#AABD8C"
         },
         "name": "50",
         "text": [
          "0"
         ],
         "type": "bar",
         "x": [
          "FP22"
         ],
         "y": [
          0
         ]
        },
        {
         "base": [
          0
         ],
         "marker": {
          "color": "#E9E3B4"
         },
         "name": "99",
         "text": [
          "0"
         ],
         "type": "bar",
         "x": [
          "FP22"
         ],
         "y": [
          0
         ]
        }
       ],
       "layout": {
        "barmode": "stack",
        "paper_bgcolor": "rgba(255,255,255,255)",
        "plot_bgcolor": "rgba(255, 255, 255, 255)",
        "template": {
         "data": {
          "bar": [
           {
            "error_x": {
             "color": "#2a3f5f"
            },
            "error_y": {
             "color": "#2a3f5f"
            },
            "marker": {
             "line": {
              "color": "#E5ECF6",
              "width": 0.5
             },
             "pattern": {
              "fillmode": "overlay",
              "size": 10,
              "solidity": 0.2
             }
            },
            "type": "bar"
           }
          ],
          "barpolar": [
           {
            "marker": {
             "line": {
              "color": "#E5ECF6",
              "width": 0.5
             },
             "pattern": {
              "fillmode": "overlay",
              "size": 10,
              "solidity": 0.2
             }
            },
            "type": "barpolar"
           }
          ],
          "carpet": [
           {
            "aaxis": {
             "endlinecolor": "#2a3f5f",
             "gridcolor": "white",
             "linecolor": "white",
             "minorgridcolor": "white",
             "startlinecolor": "#2a3f5f"
            },
            "baxis": {
             "endlinecolor": "#2a3f5f",
             "gridcolor": "white",
             "linecolor": "white",
             "minorgridcolor": "white",
             "startlinecolor": "#2a3f5f"
            },
            "type": "carpet"
           }
          ],
          "choropleth": [
           {
            "colorbar": {
             "outlinewidth": 0,
             "ticks": ""
            },
            "type": "choropleth"
           }
          ],
          "contour": [
           {
            "colorbar": {
             "outlinewidth": 0,
             "ticks": ""
            },
            "colorscale": [
             [
              0,
              "#0d0887"
             ],
             [
              0.1111111111111111,
              "#46039f"
             ],
             [
              0.2222222222222222,
              "#7201a8"
             ],
             [
              0.3333333333333333,
              "#9c179e"
             ],
             [
              0.4444444444444444,
              "#bd3786"
             ],
             [
              0.5555555555555556,
              "#d8576b"
             ],
             [
              0.6666666666666666,
              "#ed7953"
             ],
             [
              0.7777777777777778,
              "#fb9f3a"
             ],
             [
              0.8888888888888888,
              "#fdca26"
             ],
             [
              1,
              "#f0f921"
             ]
            ],
            "type": "contour"
           }
          ],
          "contourcarpet": [
           {
            "colorbar": {
             "outlinewidth": 0,
             "ticks": ""
            },
            "type": "contourcarpet"
           }
          ],
          "heatmap": [
           {
            "colorbar": {
             "outlinewidth": 0,
             "ticks": ""
            },
            "colorscale": [
             [
              0,
              "#0d0887"
             ],
             [
              0.1111111111111111,
              "#46039f"
             ],
             [
              0.2222222222222222,
              "#7201a8"
             ],
             [
              0.3333333333333333,
              "#9c179e"
             ],
             [
              0.4444444444444444,
              "#bd3786"
             ],
             [
              0.5555555555555556,
              "#d8576b"
             ],
             [
              0.6666666666666666,
              "#ed7953"
             ],
             [
              0.7777777777777778,
              "#fb9f3a"
             ],
             [
              0.8888888888888888,
              "#fdca26"
             ],
             [
              1,
              "#f0f921"
             ]
            ],
            "type": "heatmap"
           }
          ],
          "heatmapgl": [
           {
            "colorbar": {
             "outlinewidth": 0,
             "ticks": ""
            },
            "colorscale": [
             [
              0,
              "#0d0887"
             ],
             [
              0.1111111111111111,
              "#46039f"
             ],
             [
              0.2222222222222222,
              "#7201a8"
             ],
             [
              0.3333333333333333,
              "#9c179e"
             ],
             [
              0.4444444444444444,
              "#bd3786"
             ],
             [
              0.5555555555555556,
              "#d8576b"
             ],
             [
              0.6666666666666666,
              "#ed7953"
             ],
             [
              0.7777777777777778,
              "#fb9f3a"
             ],
             [
              0.8888888888888888,
              "#fdca26"
             ],
             [
              1,
              "#f0f921"
             ]
            ],
            "type": "heatmapgl"
           }
          ],
          "histogram": [
           {
            "marker": {
             "pattern": {
              "fillmode": "overlay",
              "size": 10,
              "solidity": 0.2
             }
            },
            "type": "histogram"
           }
          ],
          "histogram2d": [
           {
            "colorbar": {
             "outlinewidth": 0,
             "ticks": ""
            },
            "colorscale": [
             [
              0,
              "#0d0887"
             ],
             [
              0.1111111111111111,
              "#46039f"
             ],
             [
              0.2222222222222222,
              "#7201a8"
             ],
             [
              0.3333333333333333,
              "#9c179e"
             ],
             [
              0.4444444444444444,
              "#bd3786"
             ],
             [
              0.5555555555555556,
              "#d8576b"
             ],
             [
              0.6666666666666666,
              "#ed7953"
             ],
             [
              0.7777777777777778,
              "#fb9f3a"
             ],
             [
              0.8888888888888888,
              "#fdca26"
             ],
             [
              1,
              "#f0f921"
             ]
            ],
            "type": "histogram2d"
           }
          ],
          "histogram2dcontour": [
           {
            "colorbar": {
             "outlinewidth": 0,
             "ticks": ""
            },
            "colorscale": [
             [
              0,
              "#0d0887"
             ],
             [
              0.1111111111111111,
              "#46039f"
             ],
             [
              0.2222222222222222,
              "#7201a8"
             ],
             [
              0.3333333333333333,
              "#9c179e"
             ],
             [
              0.4444444444444444,
              "#bd3786"
             ],
             [
              0.5555555555555556,
              "#d8576b"
             ],
             [
              0.6666666666666666,
              "#ed7953"
             ],
             [
              0.7777777777777778,
              "#fb9f3a"
             ],
             [
              0.8888888888888888,
              "#fdca26"
             ],
             [
              1,
              "#f0f921"
             ]
            ],
            "type": "histogram2dcontour"
           }
          ],
          "mesh3d": [
           {
            "colorbar": {
             "outlinewidth": 0,
             "ticks": ""
            },
            "type": "mesh3d"
           }
          ],
          "parcoords": [
           {
            "line": {
             "colorbar": {
              "outlinewidth": 0,
              "ticks": ""
             }
            },
            "type": "parcoords"
           }
          ],
          "pie": [
           {
            "automargin": true,
            "type": "pie"
           }
          ],
          "scatter": [
           {
            "fillpattern": {
             "fillmode": "overlay",
             "size": 10,
             "solidity": 0.2
            },
            "type": "scatter"
           }
          ],
          "scatter3d": [
           {
            "line": {
             "colorbar": {
              "outlinewidth": 0,
              "ticks": ""
             }
            },
            "marker": {
             "colorbar": {
              "outlinewidth": 0,
              "ticks": ""
             }
            },
            "type": "scatter3d"
           }
          ],
          "scattercarpet": [
           {
            "marker": {
             "colorbar": {
              "outlinewidth": 0,
              "ticks": ""
             }
            },
            "type": "scattercarpet"
           }
          ],
          "scattergeo": [
           {
            "marker": {
             "colorbar": {
              "outlinewidth": 0,
              "ticks": ""
             }
            },
            "type": "scattergeo"
           }
          ],
          "scattergl": [
           {
            "marker": {
             "colorbar": {
              "outlinewidth": 0,
              "ticks": ""
             }
            },
            "type": "scattergl"
           }
          ],
          "scattermapbox": [
           {
            "marker": {
             "colorbar": {
              "outlinewidth": 0,
              "ticks": ""
             }
            },
            "type": "scattermapbox"
           }
          ],
          "scatterpolar": [
           {
            "marker": {
             "colorbar": {
              "outlinewidth": 0,
              "ticks": ""
             }
            },
            "type": "scatterpolar"
           }
          ],
          "scatterpolargl": [
           {
            "marker": {
             "colorbar": {
              "outlinewidth": 0,
              "ticks": ""
             }
            },
            "type": "scatterpolargl"
           }
          ],
          "scatterternary": [
           {
            "marker": {
             "colorbar": {
              "outlinewidth": 0,
              "ticks": ""
             }
            },
            "type": "scatterternary"
           }
          ],
          "surface": [
           {
            "colorbar": {
             "outlinewidth": 0,
             "ticks": ""
            },
            "colorscale": [
             [
              0,
              "#0d0887"
             ],
             [
              0.1111111111111111,
              "#46039f"
             ],
             [
              0.2222222222222222,
              "#7201a8"
             ],
             [
              0.3333333333333333,
              "#9c179e"
             ],
             [
              0.4444444444444444,
              "#bd3786"
             ],
             [
              0.5555555555555556,
              "#d8576b"
             ],
             [
              0.6666666666666666,
              "#ed7953"
             ],
             [
              0.7777777777777778,
              "#fb9f3a"
             ],
             [
              0.8888888888888888,
              "#fdca26"
             ],
             [
              1,
              "#f0f921"
             ]
            ],
            "type": "surface"
           }
          ],
          "table": [
           {
            "cells": {
             "fill": {
              "color": "#EBF0F8"
             },
             "line": {
              "color": "white"
             }
            },
            "header": {
             "fill": {
              "color": "#C8D4E3"
             },
             "line": {
              "color": "white"
             }
            },
            "type": "table"
           }
          ]
         },
         "layout": {
          "annotationdefaults": {
           "arrowcolor": "#2a3f5f",
           "arrowhead": 0,
           "arrowwidth": 1
          },
          "autotypenumbers": "strict",
          "coloraxis": {
           "colorbar": {
            "outlinewidth": 0,
            "ticks": ""
           }
          },
          "colorscale": {
           "diverging": [
            [
             0,
             "#8e0152"
            ],
            [
             0.1,
             "#c51b7d"
            ],
            [
             0.2,
             "#de77ae"
            ],
            [
             0.3,
             "#f1b6da"
            ],
            [
             0.4,
             "#fde0ef"
            ],
            [
             0.5,
             "#f7f7f7"
            ],
            [
             0.6,
             "#e6f5d0"
            ],
            [
             0.7,
             "#b8e186"
            ],
            [
             0.8,
             "#7fbc41"
            ],
            [
             0.9,
             "#4d9221"
            ],
            [
             1,
             "#276419"
            ]
           ],
           "sequential": [
            [
             0,
             "#0d0887"
            ],
            [
             0.1111111111111111,
             "#46039f"
            ],
            [
             0.2222222222222222,
             "#7201a8"
            ],
            [
             0.3333333333333333,
             "#9c179e"
            ],
            [
             0.4444444444444444,
             "#bd3786"
            ],
            [
             0.5555555555555556,
             "#d8576b"
            ],
            [
             0.6666666666666666,
             "#ed7953"
            ],
            [
             0.7777777777777778,
             "#fb9f3a"
            ],
            [
             0.8888888888888888,
             "#fdca26"
            ],
            [
             1,
             "#f0f921"
            ]
           ],
           "sequentialminus": [
            [
             0,
             "#0d0887"
            ],
            [
             0.1111111111111111,
             "#46039f"
            ],
            [
             0.2222222222222222,
             "#7201a8"
            ],
            [
             0.3333333333333333,
             "#9c179e"
            ],
            [
             0.4444444444444444,
             "#bd3786"
            ],
            [
             0.5555555555555556,
             "#d8576b"
            ],
            [
             0.6666666666666666,
             "#ed7953"
            ],
            [
             0.7777777777777778,
             "#fb9f3a"
            ],
            [
             0.8888888888888888,
             "#fdca26"
            ],
            [
             1,
             "#f0f921"
            ]
           ]
          },
          "colorway": [
           "#636efa",
           "#EF553B",
           "#00cc96",
           "#ab63fa",
           "#FFA15A",
           "#19d3f3",
           "#FF6692",
           "#B6E880",
           "#FF97FF",
           "#FECB52"
          ],
          "font": {
           "color": "#2a3f5f"
          },
          "geo": {
           "bgcolor": "white",
           "lakecolor": "white",
           "landcolor": "#E5ECF6",
           "showlakes": true,
           "showland": true,
           "subunitcolor": "white"
          },
          "hoverlabel": {
           "align": "left"
          },
          "hovermode": "closest",
          "mapbox": {
           "style": "light"
          },
          "paper_bgcolor": "white",
          "plot_bgcolor": "#E5ECF6",
          "polar": {
           "angularaxis": {
            "gridcolor": "white",
            "linecolor": "white",
            "ticks": ""
           },
           "bgcolor": "#E5ECF6",
           "radialaxis": {
            "gridcolor": "white",
            "linecolor": "white",
            "ticks": ""
           }
          },
          "scene": {
           "xaxis": {
            "backgroundcolor": "#E5ECF6",
            "gridcolor": "white",
            "gridwidth": 2,
            "linecolor": "white",
            "showbackground": true,
            "ticks": "",
            "zerolinecolor": "white"
           },
           "yaxis": {
            "backgroundcolor": "#E5ECF6",
            "gridcolor": "white",
            "gridwidth": 2,
            "linecolor": "white",
            "showbackground": true,
            "ticks": "",
            "zerolinecolor": "white"
           },
           "zaxis": {
            "backgroundcolor": "#E5ECF6",
            "gridcolor": "white",
            "gridwidth": 2,
            "linecolor": "white",
            "showbackground": true,
            "ticks": "",
            "zerolinecolor": "white"
           }
          },
          "shapedefaults": {
           "line": {
            "color": "#2a3f5f"
           }
          },
          "ternary": {
           "aaxis": {
            "gridcolor": "white",
            "linecolor": "white",
            "ticks": ""
           },
           "baxis": {
            "gridcolor": "white",
            "linecolor": "white",
            "ticks": ""
           },
           "bgcolor": "#E5ECF6",
           "caxis": {
            "gridcolor": "white",
            "linecolor": "white",
            "ticks": ""
           }
          },
          "title": {
           "x": 0.05
          },
          "xaxis": {
           "automargin": true,
           "gridcolor": "white",
           "linecolor": "white",
           "ticks": "",
           "title": {
            "standoff": 15
           },
           "zerolinecolor": "white",
           "zerolinewidth": 2
          },
          "yaxis": {
           "automargin": true,
           "gridcolor": "white",
           "linecolor": "white",
           "ticks": "",
           "title": {
            "standoff": 15
           },
           "zerolinecolor": "white",
           "zerolinewidth": 2
          }
         }
        },
        "xaxis": {
         "categoryarray": [
          "FP22"
         ],
         "categoryorder": "array",
         "linecolor": "black",
         "linewidth": 1,
         "showline": true,
         "title": {
          "text": "Conditions"
         }
        },
        "yaxis": {
         "linecolor": "black",
         "linewidth": 1,
         "showline": true,
         "title": {
          "text": "Protein Identifications"
         }
        }
       }
      }
     },
     "metadata": {},
     "output_type": "display_data"
    }
   ],
   "source": [
    "#Missing val plot plot(protein and peptides)\n",
    "print(data_obj[\"run_metadata\"])\n",
    "plot_options={\n",
    "            \"mean label\": \"True\",\n",
    "            \"error bar\": \"ci95\", #None, stdev, or ci95\n",
    "            \"X Title\": \"Conditions\",\n",
    "            \"cutoffs\": [33.3,50,99],\n",
    "            \"Y Title\": \"Protein Identifications\",\n",
    "            \"color\": [\"#3E6990\", \"#7aa8e6\",\"#AABD8C\", \"#E9E3B4\", \"#C6878F\", \"#fac8d3\",\"#F39B6D\",  \"pink\",\n",
    "                  \"orange\", \"brown\", \"pink\", \"gray\", \"olive\", \"cyan\", \"black\",\"red\",\n",
    "                  \"yellow\",\"green\",\"blue\",\"indigo\",\"violet\"],\n",
    "            \"width\": 700,\n",
    "            \"height\": 450,\n",
    "            \"font\": dict(size=32, family=\"Arial black\"),\n",
    "            \"ID mode\": \"stacked\",#stacked\n",
    "            \"Group By X\": \"Conditions\", #ID_Mode does MS2 vs MBR\n",
    "        }\n",
    "plot_options[\"plot_type\"] = \"2\" # 1 is protein, 2 is peptide\n",
    "figure ,_ ,_ =plotter.Missing_Values_Plots(data_obj, plot_options, saved_settings)\n",
    "figure.write_image(\"greedy_missing_val.png\", scale=10, width = 1000, height=1000)\n",
    "figure.show()"
   ]
  },
  {
   "cell_type": "code",
   "execution_count": 7,
   "id": "694ffc20",
   "metadata": {},
   "outputs": [
    {
     "ename": "KeyError",
     "evalue": "'Order@Isolation Window'",
     "output_type": "error",
     "traceback": [
      "\u001b[1;31m---------------------------------------------------------------------------\u001b[0m",
      "\u001b[1;31mKeyError\u001b[0m                                  Traceback (most recent call last)",
      "Cell \u001b[1;32mIn[7], line 19\u001b[0m\n\u001b[0;32m      2\u001b[0m plot_options\u001b[38;5;241m=\u001b[39m{\n\u001b[0;32m      3\u001b[0m             \u001b[38;5;124m\"\u001b[39m\u001b[38;5;124mmean label\u001b[39m\u001b[38;5;124m\"\u001b[39m: \u001b[38;5;124m\"\u001b[39m\u001b[38;5;124mTrue\u001b[39m\u001b[38;5;124m\"\u001b[39m,\n\u001b[0;32m      4\u001b[0m             \u001b[38;5;124m\"\u001b[39m\u001b[38;5;124merror bar\u001b[39m\u001b[38;5;124m\"\u001b[39m: \u001b[38;5;124m\"\u001b[39m\u001b[38;5;124mci95\u001b[39m\u001b[38;5;124m\"\u001b[39m, \u001b[38;5;66;03m#None, stdev, or ci95\u001b[39;00m\n\u001b[1;32m   (...)\u001b[0m\n\u001b[0;32m     16\u001b[0m             \u001b[38;5;124m\"\u001b[39m\u001b[38;5;124mGroup By Stack\u001b[39m\u001b[38;5;124m\"\u001b[39m: \u001b[38;5;124m\"\u001b[39m\u001b[38;5;124mID_Mode\u001b[39m\u001b[38;5;124m\"\u001b[39m,\u001b[38;5;66;03m#ID_Mode does MS2 vs MBR\u001b[39;00m\n\u001b[0;32m     17\u001b[0m         }\n\u001b[0;32m     18\u001b[0m plot_options[\u001b[38;5;124m\"\u001b[39m\u001b[38;5;124mplot_type\u001b[39m\u001b[38;5;124m\"\u001b[39m] \u001b[38;5;241m=\u001b[39m \u001b[38;5;124m\"\u001b[39m\u001b[38;5;124m2\u001b[39m\u001b[38;5;124m\"\u001b[39m \u001b[38;5;66;03m# 1 is protein, 2 is peptide\u001b[39;00m\n\u001b[1;32m---> 19\u001b[0m figure ,_ ,_ \u001b[38;5;241m=\u001b[39m\u001b[43mplotter\u001b[49m\u001b[38;5;241;43m.\u001b[39;49m\u001b[43mID_plots\u001b[49m\u001b[43m(\u001b[49m\u001b[43mdata_obj\u001b[49m\u001b[43m,\u001b[49m\u001b[43m \u001b[49m\u001b[43mplot_options\u001b[49m\u001b[43m,\u001b[49m\u001b[43m \u001b[49m\u001b[43msaved_settings\u001b[49m\u001b[43m)\u001b[49m\n\u001b[0;32m     20\u001b[0m figure\u001b[38;5;241m.\u001b[39mwrite_image(\u001b[38;5;124m\"\u001b[39m\u001b[38;5;124masdf.png\u001b[39m\u001b[38;5;124m\"\u001b[39m, scale\u001b[38;5;241m=\u001b[39m\u001b[38;5;241m10\u001b[39m, width \u001b[38;5;241m=\u001b[39m \u001b[38;5;241m1000\u001b[39m, height\u001b[38;5;241m=\u001b[39m\u001b[38;5;241m1000\u001b[39m)\n\u001b[0;32m     21\u001b[0m figure\u001b[38;5;241m.\u001b[39mshow()\n",
      "File \u001b[1;32mc:\\VS_Code\\SCP_PP\\SCP_plotter.py:57\u001b[0m, in \u001b[0;36mSCP_plotter.ID_plots\u001b[1;34m(self, data_object, plot_options, saved_settings, username)\u001b[0m\n\u001b[0;32m     55\u001b[0m     x_axis_order \u001b[38;5;241m=\u001b[39m saved_settings[\u001b[38;5;124m\"\u001b[39m\u001b[38;5;124mOrder@\u001b[39m\u001b[38;5;124m\"\u001b[39m\u001b[38;5;241m+\u001b[39mplot_options[\u001b[38;5;124m\"\u001b[39m\u001b[38;5;124mGroup By X\u001b[39m\u001b[38;5;124m\"\u001b[39m]]\n\u001b[0;32m     56\u001b[0m \u001b[38;5;28;01mif\u001b[39;00m plot_options[\u001b[38;5;124m\"\u001b[39m\u001b[38;5;124mID mode\u001b[39m\u001b[38;5;124m\"\u001b[39m] \u001b[38;5;241m==\u001b[39m \u001b[38;5;124m\"\u001b[39m\u001b[38;5;124mgrouped\u001b[39m\u001b[38;5;124m\"\u001b[39m \u001b[38;5;129;01mor\u001b[39;00m plot_options[\u001b[38;5;124m\"\u001b[39m\u001b[38;5;124mID mode\u001b[39m\u001b[38;5;124m\"\u001b[39m] \u001b[38;5;241m==\u001b[39m \u001b[38;5;124m\"\u001b[39m\u001b[38;5;124mgrouped_stacked\u001b[39m\u001b[38;5;124m\"\u001b[39m \u001b[38;5;129;01mand\u001b[39;00m plot_options[\u001b[38;5;124m\"\u001b[39m\u001b[38;5;124mGroup By Color\u001b[39m\u001b[38;5;124m\"\u001b[39m] \u001b[38;5;241m!=\u001b[39m \u001b[38;5;124m\"\u001b[39m\u001b[38;5;124mID_Mode\u001b[39m\u001b[38;5;124m\"\u001b[39m:\n\u001b[1;32m---> 57\u001b[0m     color_order \u001b[38;5;241m=\u001b[39m \u001b[43msaved_settings\u001b[49m\u001b[43m[\u001b[49m\u001b[38;5;124;43m\"\u001b[39;49m\u001b[38;5;124;43mOrder@\u001b[39;49m\u001b[38;5;124;43m\"\u001b[39;49m\u001b[38;5;241;43m+\u001b[39;49m\u001b[43mplot_options\u001b[49m\u001b[43m[\u001b[49m\u001b[38;5;124;43m\"\u001b[39;49m\u001b[38;5;124;43mGroup By Color\u001b[39;49m\u001b[38;5;124;43m\"\u001b[39;49m\u001b[43m]\u001b[49m\u001b[43m]\u001b[49m\n\u001b[0;32m     58\u001b[0m     plot_options[\u001b[38;5;124m\"\u001b[39m\u001b[38;5;124mcolor_order\u001b[39m\u001b[38;5;124m\"\u001b[39m] \u001b[38;5;241m=\u001b[39m color_order\n\u001b[0;32m     60\u001b[0m plot_options[\u001b[38;5;124m\"\u001b[39m\u001b[38;5;124mx_axis_order\u001b[39m\u001b[38;5;124m\"\u001b[39m] \u001b[38;5;241m=\u001b[39m x_axis_order\n",
      "\u001b[1;31mKeyError\u001b[0m: 'Order@Isolation Window'"
     ]
    }
   ],
   "source": [
    "#ID plot(protein and peptides)\n",
    "plot_options={\n",
    "            \"mean label\": \"True\",\n",
    "            \"error bar\": \"ci95\", #None, stdev, or ci95\n",
    "            \"X Title\": \"Conditions\",\n",
    "            \"Y Title\": \"Protein Identifications\",\n",
    "            \"color\": [\"#3E6990\", \"#7aa8e6\",\"#AABD8C\", \"#E9E3B4\", \"#C6878F\", \"#fac8d3\",\"#F39B6D\",  \"pink\",\n",
    "                  \"orange\", \"brown\", \"pink\", \"gray\", \"olive\", \"cyan\", \"black\",\"red\",\n",
    "                  \"yellow\",\"green\",\"blue\",\"indigo\",\"violet\"],\n",
    "            \"width\": 700,\n",
    "            \"height\": 450,\n",
    "            \"font\": dict(size=32, family=\"Arial black\"),\n",
    "            \"ID mode\": \"grouped_stacked\",#grouped, total, MS2, grouped_stacked, stacked\n",
    "            \"Group By X\": \"Sample Amount\", #ID_Mode does MS2 vs MBR\n",
    "            \"Group By Color\": \"Isolation Window\",#ID_Mode does MS2 vs MBR\n",
    "            \"Group By Stack\": \"ID_Mode\",#ID_Mode does MS2 vs MBR\n",
    "        }\n",
    "plot_options[\"plot_type\"] = \"2\" # 1 is protein, 2 is peptide\n",
    "figure ,_ ,_ =plotter.ID_plots(data_obj, plot_options, saved_settings)\n",
    "figure.write_image(\"asdf.png\", scale=10, width = 1000, height=1000)\n",
    "figure.show()"
   ]
  },
  {
   "cell_type": "code",
   "execution_count": null,
   "id": "6ac3cdc7",
   "metadata": {},
   "outputs": [],
   "source": [
    "# CV violin plot\n",
    "\n",
    "# print(data_obj[\"protein_other_info\"])\n",
    "plot_options={    \n",
    "        \"median label\": \"True\", #only works for total and MS2, can be found in CV_summary if you set WRITE_OUTPUT = True\n",
    "        \"box\": False,\n",
    "        \"X Title\": \"Conditions (protein)\",\n",
    "        \"Y Title\": \"CV of Abundance (%)\",\n",
    "        \"color\": [\"#3E6990\", \"#7aa8e6\",\"#C6878F\", \"#fac8d3\",\"#AABD8C\", \"#E9E3B4\",  \"#F39B6D\", \"#C6878F\", \"pink\",\n",
    "                  \"orange\", \"brown\", \"pink\", \"gray\", \"olive\", \"cyan\", \"black\",\"red\",\n",
    "                  \"yellow\",\"green\",\"blue\",\"indigo\",\"violet\"],\n",
    "        \"width\": 700,\n",
    "        \"height\": 450,\n",
    "        \"font\": dict(size=16, family=\"Arial black\"),\n",
    "        \"ylimits\": [-10, 400],\n",
    "        \"CV mode\": \"total\",#grouped, total, MS2, grouped_stacked, stacked\n",
    "        \"Group By X\": \"Conditions\", #ID_Mode does MS2 vs MBR\n",
    "        \"Group By Color\": \"Acquisition Mode\",#ID_Mode does MS2 vs MBR\n",
    "        \"Group By Stack\": \"ID_Mode\" #ID_Mode does MS2 vs MBR\n",
    "    }\n",
    "plot_options[\"plot_type\"] = 2 # 1 is protein, 2 is peptide\n",
    "figure, _, _ =plotter.CV_plots(data_obj, plot_options, saved_settings)\n",
    "figure.show()\n"
   ]
  },
  {
   "cell_type": "code",
   "execution_count": null,
   "id": "5e64d89b",
   "metadata": {},
   "outputs": [],
   "source": [
    "# ID Venns plot\n",
    "plot_options={\n",
    "            \"compare groups\": [\"Library\",\"Quant\"],\n",
    "            \"title\": \"Venn Diagram (Protein)\",\n",
    "            \"opacity\": 0.75,\n",
    "            \"color\": [\"#3E6990\", \"#C6878F\", \"#AABD8C\",\"#fac8d3\",\"#7aa8e6\", \"#E9E3B4\",\"#00FF00\", \"#FFFF00\", \"#FF0000\", \"yellow\", \"red\",\n",
    "                      \"green\", \"purple\", \"orange\", \"brown\", \"pink\",\n",
    "                      \"gray\",  \"olive\", \"cyan\", \"blue\",  \"black\", ]\n",
    "        }\n",
    "plot_options[\"plot_type\"] = 1 # 1 is protein, 2 is peptide\n",
    "figure, _, _ =plotter.venns_plots(data_obj, plot_options, saved_settings)\n",
    "figure.show()\n",
    "\n"
   ]
  },
  {
   "cell_type": "code",
   "execution_count": null,
   "id": "a0d72857",
   "metadata": {},
   "outputs": [],
   "source": [
    "# Protein Ranked Abundance plot\n",
    "plot_options={\n",
    "            \"reference_group\": \"Library\",\n",
    "            \"compare groups\": [\"Quant\"],\n",
    "            \"title\": \"Ranked Abundance\",\n",
    "            \"color\": [\"blue\", \"red\", \"green\", \"black\", \"yellow\", \"purple\",\n",
    "                      \"orange\", \"brown\", \"pink\", \"gray\", \"olive\", \"cyan\"],\n",
    "            \"symbol\": ['circle', 'circle', 'circle'],\n",
    "            \"marker_size\": 8,\n",
    "            \"width\": 700,\n",
    "            \"height\": 450,\n",
    "            \"font\": dict(size=16, family=\"Arial black\"),\n",
    "            \"ylimits\": [],\n",
    "            \"xlimits\": [],\n",
    "            \"X Title\": \"Ranked Abundance\",\n",
    "            \"Y Title\": \"Average Reporter Ion Abundance\",\n",
    "        }\n",
    "figure, _, _ =plotter.Rank_Abundance_Plots(data_obj, plot_options, saved_settings)\n",
    "figure.show()"
   ]
  },
  {
   "cell_type": "code",
   "execution_count": null,
   "id": "f81fdef7",
   "metadata": {},
   "outputs": [],
   "source": [
    "# Protein Abundance Volcano plot\n",
    "plot_options={\n",
    "            \"compare groups\": [\"Quant\",\"Library\"],\n",
    "            \"title\": \"Volcano Plot\",\n",
    "            \"X Title\": \"Log2 Fold Change\",\n",
    "            \"Y Title\": \"-Log10(adjusted p-value)\",\n",
    "            \"up color\": \"red\",\n",
    "            \"down color\": \"blue\",\n",
    "            \"all color\": \"gray\",\n",
    "            \"width\": 700,\n",
    "            \"height\": 450,\n",
    "            \"font\": dict(size=16, family=\"Arial black\"),\n",
    "            \"ylimits\": [],\n",
    "            \"xlimits\": []\n",
    "        }\n",
    "figure, _, _ =plotter.volcano_plots(data_obj, plot_options, saved_settings)\n",
    "figure.show()\n"
   ]
  },
  {
   "cell_type": "code",
   "execution_count": null,
   "id": "a9487aa3",
   "metadata": {},
   "outputs": [],
   "source": [
    "# Protein Abundance PCA plot\n",
    "plot_options={\n",
    "            \"compare groups\": [\"Quant\",\"Library\"],\n",
    "            \"title\": \"PCA Analysis\",\n",
    "            \"color\": [\"blue\", \"red\", \"green\", \"black\", \"yellow\", \"purple\",\n",
    "                      \"orange\", \"brown\", \"pink\", \"gray\", \"olive\", \"cyan\"],\n",
    "            \"symbol\": ['circle', 'circle', 'circle'],\n",
    "            \"marker_size\": 8,\n",
    "            \"width\": 700,\n",
    "            \"height\": 450,\n",
    "            \"font\": dict(size=16, family=\"Arial black\"),\n",
    "            \"ylimits\": [],\n",
    "            \"xlimits\": []\n",
    "        }\n",
    "figure, _, _ =plotter.PCA_plots(data_obj, plot_options, saved_settings)\n",
    "figure.show()\n"
   ]
  },
  {
   "cell_type": "code",
   "execution_count": null,
   "id": "8542a993",
   "metadata": {},
   "outputs": [],
   "source": [
    "# Protein Abundance Heat Map\n",
    "plot_options={\n",
    "            \"compare groups\": [\"Quant\",\"Library\"],\n",
    "            \"log2_transform\": False,\n",
    "            \"significant_only\": True,\n",
    "            \"alpha\": 0.05, \n",
    "            \"min_fold_change\": 2\n",
    "        }\n",
    "figure, _, _ =plotter.heatmap_plots(data_obj, plot_options, saved_settings)\n",
    "figure.show()"
   ]
  },
  {
   "cell_type": "code",
   "execution_count": null,
   "id": "ee99842b",
   "metadata": {},
   "outputs": [],
   "source": [
    "# ID Venns plot\n",
    "plot_options={\n",
    "            \"compare groups\": [\"Quant\",\"Library\"],\n",
    "            \"inclusion list\": \"proteins_symbols.csv\",\n",
    "            \"title\": \"Venn Diagram (Protein)\",\n",
    "            \"opacity\": 0.75,\n",
    "            \"color\": [\"#3E6990\", \"#C6878F\", \"#AABD8C\",\"#fac8d3\",\"#7aa8e6\", \"#E9E3B4\",\"#00FF00\", \"#FFFF00\", \"#FF0000\", \"yellow\", \"red\",\n",
    "                      \"green\", \"purple\", \"orange\", \"brown\", \"pink\",\n",
    "                      \"gray\",  \"olive\", \"cyan\", \"blue\",  \"black\", ]\n",
    "        }\n",
    "plot_options[\"plot_type\"] = 1 # 1 is protein, 2 is peptide\n",
    "figure, _, _ =plotter.inclusion_venn_plots(data_obj, plot_options, saved_settings)\n",
    "figure.show()\n",
    "\n"
   ]
  }
 ],
 "metadata": {
  "kernelspec": {
   "display_name": ".venv",
   "language": "python",
   "name": "python3"
  },
  "language_info": {
   "codemirror_mode": {
    "name": "ipython",
    "version": 3
   },
   "file_extension": ".py",
   "mimetype": "text/x-python",
   "name": "python",
   "nbconvert_exporter": "python",
   "pygments_lexer": "ipython3",
   "version": "3.10.11"
  },
  "vscode": {
   "interpreter": {
    "hash": "a889046d7ab3fc532e7617178168e652077a93fddee421a252a8a2c494ffb595"
   }
  }
 },
 "nbformat": 4,
 "nbformat_minor": 5
}
