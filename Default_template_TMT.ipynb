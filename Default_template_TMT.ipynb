{
 "cells": [
  {
   "cell_type": "code",
   "execution_count": 1,
   "id": "c9b4cd45",
   "metadata": {},
   "outputs": [],
   "source": [
    "import pandas as pd\n",
    "\n",
    "# import scipy\n",
    "# from scipy.stats import t\n",
    "# import seaborn as sns\n",
    "# from datetime import datetime, timedelta\n",
    "# import plotly.express as px\n",
    "# from pathlib import Path\n",
    "# import statsmodels.api as sm\n",
    "# from sklearn.preprocessing import StandardScaler\n",
    "# from statsmodels.stats.multitest import multipletests\n",
    "# from scipy.stats import f_oneway as anova\n",
    "# from statsmodels.formula.api import ols \n",
    "  \n",
    "# import math\n",
    "# from select import select\n",
    "\n",
    "#kernal must be restarted if these module change \n",
    "\n",
    "from SCP_processor import SCP_processor\n",
    "processor = SCP_processor(data_type=\"TMT\")\n",
    "from SCP_plotter import SCP_plotter\n",
    "plotter = SCP_plotter(write_output = True,processor=processor)"
   ]
  },
  {
   "cell_type": "code",
   "execution_count": 2,
   "id": "62a44dde",
   "metadata": {},
   "outputs": [],
   "source": [
    "#Method put files in, one dictionary for each analysis, if there is only one file or you are looking in all files, then you don't need @'s in your SETTINGS_FILE\n",
    "WRITE_OUTPUT = True\n",
    "USE_MaxLFQ = False\n",
    "filelist = [\n",
    "             {\"input1\":\"input/tmt-report/abundance_protein_MD.tsv\",\n",
    "             \"input2\":\"input/tmt-report/abundance_peptide_MD.tsv\",\n",
    "             \"input3\":\"report.pg_matrix.tsv\",\n",
    "             \"input4\":\"report.pr_matrix.tsv\",\n",
    "             \"input5\":\"summary.txt\",\n",
    "             \"process_app\": \"FragPipe_TMT\"},\n",
    "          \n",
    "            ]\n",
    "\n",
    "            #Order of files\n",
    "                #For FragPipe\n",
    "                    #input1= Protein with MBR\n",
    "                    #input2= Peptide with MBR\n",
    "                #For DIANN\n",
    "                    #input1= pg_matrix\n",
    "                    #input2= pr_matrix \n",
    "                    #input3= pg_matrix MS2\n",
    "                    #input4= pr_matrix MS2\n",
    "                #For PD\n",
    "                    #input1= Protein \n",
    "                    #input2= Peptide Groups\n",
    "                    #input3= blank\n",
    "                    #input4= blank\n",
    "                    #input5= inpit_files\n",
    "\n",
    "\n",
    "SETTINGS_FILE = \"settings_test_TMT.txt\" #tab delimited\n",
    "    #Format\n",
    "    #Required Columns\n",
    "        #Group Name\t\n",
    "        #filter_in: a string pattern contained in desired raw filenames in analysis followed by an @ + the file number (filelist index) to look in\n",
    "        #filter_out: a string pattern contained in undesired raw filenames\n",
    "    #Extra columns\n",
    "        #can be used to group by color, layer, or x position in CV and ID graphs"
   ]
  },
  {
   "cell_type": "code",
   "execution_count": 3,
   "id": "b540d36f",
   "metadata": {},
   "outputs": [],
   "source": [
    "# define group names and assign analysis to different groups(web app version was done through GUI so\n",
    "# steps are taken to make sure they have same output)\n",
    "x = processor.read_files(grouped_input_files=filelist)\n",
    "\n",
    "\n"
   ]
  },
  {
   "cell_type": "code",
   "execution_count": 4,
   "id": "cf5e3652",
   "metadata": {},
   "outputs": [
    {
     "name": "stdout",
     "output_type": "stream",
     "text": [
      "***\n"
     ]
    }
   ],
   "source": [
    "data_obj = processor.outer_join_data_objects(x)\n"
   ]
  },
  {
   "cell_type": "code",
   "execution_count": 5,
   "id": "c4662c59",
   "metadata": {},
   "outputs": [],
   "source": [
    "saved_settings = processor.sort_runs(data_obj,SETTINGS_FILE)"
   ]
  },
  {
   "cell_type": "code",
   "execution_count": 6,
   "id": "c3496d1b",
   "metadata": {},
   "outputs": [
    {
     "name": "stdout",
     "output_type": "stream",
     "text": [
      "    Accession 0-1-0 0-1-1 0-1-2 0-1-3 0-1-4 0-1-5 0-1-6 0-1-7 0-1-8 0-1-9  \\\n",
      "0       RPSA2   MS2   MS2   MS2   MS2   MS2   MS2   MS2   MS2   MS2   nan   \n",
      "1      EIF3CL   MS2   MS2   MS2   MS2   MS2   MS2   MS2   MS2   MS2   nan   \n",
      "2        NACA   MS2   MS2   MS2   MS2   MS2   MS2   MS2   MS2   MS2   nan   \n",
      "3     SUMO1P1   nan   nan   nan   nan   nan   nan   nan   nan   nan   nan   \n",
      "4        AGPS   MS2   MS2   MS2   MS2   MS2   MS2   MS2   MS2   MS2   nan   \n",
      "..        ...   ...   ...   ...   ...   ...   ...   ...   ...   ...   ...   \n",
      "672     CHTOP   nan   nan   nan   nan   nan   nan   nan   nan   nan   nan   \n",
      "673      TLN1   nan   nan   nan   nan   nan   nan   nan   nan   nan   nan   \n",
      "674     HYOU1   nan   nan   nan   nan   nan   nan   nan   nan   nan   nan   \n",
      "675   SUPT16H   nan   nan   nan   nan   nan   nan   nan   nan   nan   nan   \n",
      "676     RBM8A   MS2   MS2   MS2   MS2   MS2   MS2   MS2   MS2   MS2   nan   \n",
      "\n",
      "     missingValues  \n",
      "0                0  \n",
      "1                0  \n",
      "2                0  \n",
      "3                0  \n",
      "4                0  \n",
      "..             ...  \n",
      "672              0  \n",
      "673              0  \n",
      "674              0  \n",
      "675              0  \n",
      "676              0  \n",
      "\n",
      "[677 rows x 12 columns]\n",
      "    Accession 0-1-0 0-1-1 0-1-2 0-1-3 0-1-4 0-1-5 0-1-6 0-1-7 0-1-8 0-1-9  \\\n",
      "0       RPSA2   MS2   MS2   MS2   MS2   MS2   MS2   MS2   MS2   MS2   NaN   \n",
      "1      EIF3CL   MS2   MS2   MS2   MS2   MS2   MS2   MS2   MS2   MS2   NaN   \n",
      "2        NACA   MS2   MS2   MS2   MS2   MS2   MS2   MS2   MS2   MS2   NaN   \n",
      "3     SUMO1P1   NaN   NaN   NaN   NaN   NaN   NaN   NaN   NaN   NaN   NaN   \n",
      "4        AGPS   MS2   MS2   MS2   MS2   MS2   MS2   MS2   MS2   MS2   NaN   \n",
      "..        ...   ...   ...   ...   ...   ...   ...   ...   ...   ...   ...   \n",
      "672     CHTOP   NaN   NaN   NaN   NaN   NaN   NaN   NaN   NaN   NaN   NaN   \n",
      "673      TLN1   NaN   NaN   NaN   NaN   NaN   NaN   NaN   NaN   NaN   NaN   \n",
      "674     HYOU1   NaN   NaN   NaN   NaN   NaN   NaN   NaN   NaN   NaN   NaN   \n",
      "675   SUPT16H   NaN   NaN   NaN   NaN   NaN   NaN   NaN   NaN   NaN   NaN   \n",
      "676     RBM8A   MS2   MS2   MS2   MS2   MS2   MS2   MS2   MS2   MS2   NaN   \n",
      "\n",
      "     missingValues  \n",
      "0                1  \n",
      "1                1  \n",
      "2                1  \n",
      "3               10  \n",
      "4                1  \n",
      "..             ...  \n",
      "672             10  \n",
      "673             10  \n",
      "674             10  \n",
      "675             10  \n",
      "676              1  \n",
      "\n",
      "[677 rows x 12 columns]\n",
      "       Annotated Sequence      0-1-0      0-1-1      0-1-2      0-1-3  \\\n",
      "0         DPEEIEKEEQAAAEK  23.342712  23.379848  24.225453  22.870312   \n",
      "1                EEQAAAEK        NaN        NaN        NaN        NaN   \n",
      "2           FAAATGATPIAGR  23.011858  22.936422  22.713514  24.088208   \n",
      "3             KSDGIYIINLK        NaN        NaN        NaN        NaN   \n",
      "4          DAHNALLDIQSSGR  19.564334  20.450981  19.612434  20.398068   \n",
      "...                   ...        ...        ...        ...        ...   \n",
      "1765          AASITSEVFNK        NaN        NaN        NaN        NaN   \n",
      "1766             QKPELLNK        NaN        NaN        NaN        NaN   \n",
      "1767            GFGSEEGSR  22.385148  22.124333  21.818830  21.713109   \n",
      "1768          GYTLVEYETYK        NaN        NaN        NaN        NaN   \n",
      "1769  MREDYDSVEQDGDEPGPQR        NaN        NaN        NaN        NaN   \n",
      "\n",
      "          0-1-4      0-1-5      0-1-6      0-1-7      0-1-8  0-1-9  \\\n",
      "0     22.542544  22.239623  22.389548  21.351298  22.199508    NaN   \n",
      "1           NaN        NaN        NaN        NaN        NaN    NaN   \n",
      "2     23.833579  23.947150  23.578128  23.974648  23.609057    NaN   \n",
      "3           NaN        NaN        NaN        NaN        NaN    NaN   \n",
      "4           NaN  19.909164  20.041517        NaN  20.506015    NaN   \n",
      "...         ...        ...        ...        ...        ...    ...   \n",
      "1765        NaN        NaN        NaN        NaN        NaN    NaN   \n",
      "1766        NaN        NaN        NaN        NaN        NaN    NaN   \n",
      "1767  21.593296  22.196933  21.340755  22.241950  21.688838    NaN   \n",
      "1768        NaN        NaN        NaN        NaN        NaN    NaN   \n",
      "1769        NaN        NaN        NaN        NaN        NaN    NaN   \n",
      "\n",
      "      missingValues  \n",
      "0                 0  \n",
      "1                 0  \n",
      "2                 0  \n",
      "3                 0  \n",
      "4                 0  \n",
      "...             ...  \n",
      "1765              0  \n",
      "1766              0  \n",
      "1767              0  \n",
      "1768              0  \n",
      "1769              0  \n",
      "\n",
      "[1770 rows x 12 columns]\n",
      "       Annotated Sequence      0-1-0      0-1-1      0-1-2      0-1-3  \\\n",
      "0         DPEEIEKEEQAAAEK  23.342712  23.379848  24.225453  22.870312   \n",
      "1                EEQAAAEK        NaN        NaN        NaN        NaN   \n",
      "2           FAAATGATPIAGR  23.011858  22.936422  22.713514  24.088208   \n",
      "3             KSDGIYIINLK        NaN        NaN        NaN        NaN   \n",
      "4          DAHNALLDIQSSGR  19.564334  20.450981  19.612434  20.398068   \n",
      "...                   ...        ...        ...        ...        ...   \n",
      "1765          AASITSEVFNK        NaN        NaN        NaN        NaN   \n",
      "1766             QKPELLNK        NaN        NaN        NaN        NaN   \n",
      "1767            GFGSEEGSR  22.385148  22.124333  21.818830  21.713109   \n",
      "1768          GYTLVEYETYK        NaN        NaN        NaN        NaN   \n",
      "1769  MREDYDSVEQDGDEPGPQR        NaN        NaN        NaN        NaN   \n",
      "\n",
      "          0-1-4      0-1-5      0-1-6      0-1-7      0-1-8  0-1-9  \\\n",
      "0     22.542544  22.239623  22.389548  21.351298  22.199508    NaN   \n",
      "1           NaN        NaN        NaN        NaN        NaN    NaN   \n",
      "2     23.833579  23.947150  23.578128  23.974648  23.609057    NaN   \n",
      "3           NaN        NaN        NaN        NaN        NaN    NaN   \n",
      "4           NaN  19.909164  20.041517        NaN  20.506015    NaN   \n",
      "...         ...        ...        ...        ...        ...    ...   \n",
      "1765        NaN        NaN        NaN        NaN        NaN    NaN   \n",
      "1766        NaN        NaN        NaN        NaN        NaN    NaN   \n",
      "1767  21.593296  22.196933  21.340755  22.241950  21.688838    NaN   \n",
      "1768        NaN        NaN        NaN        NaN        NaN    NaN   \n",
      "1769        NaN        NaN        NaN        NaN        NaN    NaN   \n",
      "\n",
      "      missingValues  \n",
      "0                10  \n",
      "1                10  \n",
      "2                10  \n",
      "3                10  \n",
      "4                10  \n",
      "...             ...  \n",
      "1765             10  \n",
      "1766             10  \n",
      "1767             10  \n",
      "1768             10  \n",
      "1769             10  \n",
      "\n",
      "[1770 rows x 12 columns]\n",
      "    Accession 0-0-0 0-0-1 0-0-2 0-0-3 0-0-4 0-0-5 0-0-6 0-0-7 0-0-8 0-0-9  \\\n",
      "0       RPSA2   MS2   MS2   MS2   MS2   MS2   MS2   MS2   MS2   MS2   nan   \n",
      "1      EIF3CL   nan   nan   nan   nan   nan   nan   nan   nan   nan   nan   \n",
      "2        NACA   nan   nan   nan   nan   nan   nan   nan   nan   nan   nan   \n",
      "3     SUMO1P1   MS2   MS2   MS2   MS2   MS2   MS2   MS2   MS2   MS2   nan   \n",
      "4        AGPS   nan   nan   nan   nan   nan   nan   nan   nan   nan   nan   \n",
      "..        ...   ...   ...   ...   ...   ...   ...   ...   ...   ...   ...   \n",
      "672     CHTOP   MS2   MS2   nan   MS2   nan   MS2   nan   nan   nan   nan   \n",
      "673      TLN1   MS2   MS2   MS2   nan   MS2   MS2   MS2   nan   MS2   nan   \n",
      "674     HYOU1   MS2   MS2   MS2   MS2   MS2   MS2   MS2   MS2   MS2   nan   \n",
      "675   SUPT16H   MS2   MS2   MS2   MS2   MS2   MS2   MS2   MS2   MS2   nan   \n",
      "676     RBM8A   MS2   MS2   MS2   MS2   MS2   MS2   MS2   MS2   MS2   nan   \n",
      "\n",
      "     missingValues  \n",
      "0                0  \n",
      "1                0  \n",
      "2                0  \n",
      "3                0  \n",
      "4                0  \n",
      "..             ...  \n",
      "672              0  \n",
      "673              0  \n",
      "674              0  \n",
      "675              0  \n",
      "676              0  \n",
      "\n",
      "[677 rows x 12 columns]\n",
      "    Accession 0-0-0 0-0-1 0-0-2 0-0-3 0-0-4 0-0-5 0-0-6 0-0-7 0-0-8 0-0-9  \\\n",
      "0       RPSA2   MS2   MS2   MS2   MS2   MS2   MS2   MS2   MS2   MS2   NaN   \n",
      "1      EIF3CL   NaN   NaN   NaN   NaN   NaN   NaN   NaN   NaN   NaN   NaN   \n",
      "2        NACA   NaN   NaN   NaN   NaN   NaN   NaN   NaN   NaN   NaN   NaN   \n",
      "3     SUMO1P1   MS2   MS2   MS2   MS2   MS2   MS2   MS2   MS2   MS2   NaN   \n",
      "4        AGPS   NaN   NaN   NaN   NaN   NaN   NaN   NaN   NaN   NaN   NaN   \n",
      "..        ...   ...   ...   ...   ...   ...   ...   ...   ...   ...   ...   \n",
      "672     CHTOP   MS2   MS2   NaN   MS2   NaN   MS2   NaN   NaN   NaN   NaN   \n",
      "673      TLN1   MS2   MS2   MS2   NaN   MS2   MS2   MS2   NaN   MS2   NaN   \n",
      "674     HYOU1   MS2   MS2   MS2   MS2   MS2   MS2   MS2   MS2   MS2   NaN   \n",
      "675   SUPT16H   MS2   MS2   MS2   MS2   MS2   MS2   MS2   MS2   MS2   NaN   \n",
      "676     RBM8A   MS2   MS2   MS2   MS2   MS2   MS2   MS2   MS2   MS2   NaN   \n",
      "\n",
      "     missingValues  \n",
      "0                1  \n",
      "1               10  \n",
      "2               10  \n",
      "3                1  \n",
      "4               10  \n",
      "..             ...  \n",
      "672              6  \n",
      "673              3  \n",
      "674              1  \n",
      "675              1  \n",
      "676              1  \n",
      "\n",
      "[677 rows x 12 columns]\n",
      "       Annotated Sequence      0-0-0      0-0-1      0-0-2      0-0-3  \\\n",
      "0         DPEEIEKEEQAAAEK  23.342143  22.258504  23.121382  22.586159   \n",
      "1                EEQAAAEK  19.072737  18.779956  19.042426  18.198704   \n",
      "2           FAAATGATPIAGR  23.187974  23.604668  23.672752  24.512856   \n",
      "3             KSDGIYIINLK        NaN        NaN        NaN        NaN   \n",
      "4          DAHNALLDIQSSGR        NaN        NaN        NaN        NaN   \n",
      "...                   ...        ...        ...        ...        ...   \n",
      "1765          AASITSEVFNK  20.021124  20.193852  20.384279  19.241263   \n",
      "1766             QKPELLNK        NaN        NaN        NaN        NaN   \n",
      "1767            GFGSEEGSR  22.511340  22.222431  22.212641  21.578766   \n",
      "1768          GYTLVEYETYK  21.431842  20.972845  21.013419  20.897717   \n",
      "1769  MREDYDSVEQDGDEPGPQR  19.995457  21.341414        NaN        NaN   \n",
      "\n",
      "          0-0-4      0-0-5      0-0-6      0-0-7      0-0-8  0-0-9  \\\n",
      "0     22.115223  22.345717  22.299064  22.416159  22.177293    NaN   \n",
      "1     18.156839  18.026204  18.998439  17.975213  18.661207    NaN   \n",
      "2     24.406762  24.049933  23.637480  23.568746  23.931412    NaN   \n",
      "3           NaN        NaN        NaN        NaN        NaN    NaN   \n",
      "4           NaN        NaN        NaN        NaN        NaN    NaN   \n",
      "...         ...        ...        ...        ...        ...    ...   \n",
      "1765  19.403514  19.876912  19.773396  20.318304  20.005788    NaN   \n",
      "1766        NaN        NaN        NaN        NaN        NaN    NaN   \n",
      "1767  21.556912  22.144819  21.386015  21.967487  21.822242    NaN   \n",
      "1768  20.728359  20.233662  20.947247  20.848799  19.770216    NaN   \n",
      "1769        NaN        NaN        NaN        NaN        NaN    NaN   \n",
      "\n",
      "      missingValues  \n",
      "0                 0  \n",
      "1                 0  \n",
      "2                 0  \n",
      "3                 0  \n",
      "4                 0  \n",
      "...             ...  \n",
      "1765              0  \n",
      "1766              0  \n",
      "1767              0  \n",
      "1768              0  \n",
      "1769              0  \n",
      "\n",
      "[1770 rows x 12 columns]\n",
      "       Annotated Sequence      0-0-0      0-0-1      0-0-2      0-0-3  \\\n",
      "0         DPEEIEKEEQAAAEK  23.342143  22.258504  23.121382  22.586159   \n",
      "1                EEQAAAEK  19.072737  18.779956  19.042426  18.198704   \n",
      "2           FAAATGATPIAGR  23.187974  23.604668  23.672752  24.512856   \n",
      "3             KSDGIYIINLK        NaN        NaN        NaN        NaN   \n",
      "4          DAHNALLDIQSSGR        NaN        NaN        NaN        NaN   \n",
      "...                   ...        ...        ...        ...        ...   \n",
      "1765          AASITSEVFNK  20.021124  20.193852  20.384279  19.241263   \n",
      "1766             QKPELLNK        NaN        NaN        NaN        NaN   \n",
      "1767            GFGSEEGSR  22.511340  22.222431  22.212641  21.578766   \n",
      "1768          GYTLVEYETYK  21.431842  20.972845  21.013419  20.897717   \n",
      "1769  MREDYDSVEQDGDEPGPQR  19.995457  21.341414        NaN        NaN   \n",
      "\n",
      "          0-0-4      0-0-5      0-0-6      0-0-7      0-0-8  0-0-9  \\\n",
      "0     22.115223  22.345717  22.299064  22.416159  22.177293    NaN   \n",
      "1     18.156839  18.026204  18.998439  17.975213  18.661207    NaN   \n",
      "2     24.406762  24.049933  23.637480  23.568746  23.931412    NaN   \n",
      "3           NaN        NaN        NaN        NaN        NaN    NaN   \n",
      "4           NaN        NaN        NaN        NaN        NaN    NaN   \n",
      "...         ...        ...        ...        ...        ...    ...   \n",
      "1765  19.403514  19.876912  19.773396  20.318304  20.005788    NaN   \n",
      "1766        NaN        NaN        NaN        NaN        NaN    NaN   \n",
      "1767  21.556912  22.144819  21.386015  21.967487  21.822242    NaN   \n",
      "1768  20.728359  20.233662  20.947247  20.848799  19.770216    NaN   \n",
      "1769        NaN        NaN        NaN        NaN        NaN    NaN   \n",
      "\n",
      "      missingValues  \n",
      "0                10  \n",
      "1                10  \n",
      "2                10  \n",
      "3                10  \n",
      "4                10  \n",
      "...             ...  \n",
      "1765             10  \n",
      "1766             10  \n",
      "1767             10  \n",
      "1768             10  \n",
      "1769             10  \n",
      "\n",
      "[1770 rows x 12 columns]\n"
     ]
    },
    {
     "name": "stderr",
     "output_type": "stream",
     "text": [
      "c:\\VS_Code\\SCP_PP\\SCP_plotter.py:620: FutureWarning: The frame.append method is deprecated and will be removed from pandas in a future version. Use pandas.concat instead.\n",
      "  toPlotIDs = toPlotIDs.append(current, ignore_index = True)\n",
      "c:\\VS_Code\\SCP_PP\\SCP_plotter.py:620: FutureWarning: The frame.append method is deprecated and will be removed from pandas in a future version. Use pandas.concat instead.\n",
      "  toPlotIDs = toPlotIDs.append(current, ignore_index = True)\n",
      "c:\\VS_Code\\SCP_PP\\SCP_plotter.py:620: FutureWarning: The frame.append method is deprecated and will be removed from pandas in a future version. Use pandas.concat instead.\n",
      "  toPlotIDs = toPlotIDs.append(current, ignore_index = True)\n",
      "c:\\VS_Code\\SCP_PP\\SCP_plotter.py:620: FutureWarning: The frame.append method is deprecated and will be removed from pandas in a future version. Use pandas.concat instead.\n",
      "  toPlotIDs = toPlotIDs.append(current, ignore_index = True)\n",
      "c:\\VS_Code\\SCP_PP\\SCP_plotter.py:620: FutureWarning: The frame.append method is deprecated and will be removed from pandas in a future version. Use pandas.concat instead.\n",
      "  toPlotIDs = toPlotIDs.append(current, ignore_index = True)\n",
      "c:\\VS_Code\\SCP_PP\\SCP_plotter.py:620: FutureWarning: The frame.append method is deprecated and will be removed from pandas in a future version. Use pandas.concat instead.\n",
      "  toPlotIDs = toPlotIDs.append(current, ignore_index = True)\n"
     ]
    },
    {
     "name": "stdout",
     "output_type": "stream",
     "text": [
      "Downloading links...\n"
     ]
    },
    {
     "data": {
      "application/vnd.plotly.v1+json": {
       "config": {
        "plotlyServerURL": "https://plot.ly"
       },
       "data": [
        {
         "marker": {
          "color": "#3E6990"
         },
         "name": "33.3",
         "text": [
          "445",
          "461"
         ],
         "type": "bar",
         "x": [
          "FP22",
          "FP21"
         ],
         "y": [
          445,
          461
         ]
        },
        {
         "base": [
          445,
          461
         ],
         "marker": {
          "color": "#AABD8C"
         },
         "name": "50",
         "text": [
          "466",
          "475"
         ],
         "type": "bar",
         "x": [
          "FP22",
          "FP21"
         ],
         "y": [
          21,
          14
         ]
        },
        {
         "base": [
          466,
          475
         ],
         "marker": {
          "color": "#E9E3B4"
         },
         "name": "99",
         "text": [
          "498",
          "502"
         ],
         "type": "bar",
         "x": [
          "FP22",
          "FP21"
         ],
         "y": [
          32,
          27
         ]
        }
       ],
       "layout": {
        "barmode": "stack",
        "paper_bgcolor": "rgba(255,255,255,255)",
        "plot_bgcolor": "rgba(255, 255, 255, 255)",
        "template": {
         "data": {
          "bar": [
           {
            "error_x": {
             "color": "#2a3f5f"
            },
            "error_y": {
             "color": "#2a3f5f"
            },
            "marker": {
             "line": {
              "color": "#E5ECF6",
              "width": 0.5
             },
             "pattern": {
              "fillmode": "overlay",
              "size": 10,
              "solidity": 0.2
             }
            },
            "type": "bar"
           }
          ],
          "barpolar": [
           {
            "marker": {
             "line": {
              "color": "#E5ECF6",
              "width": 0.5
             },
             "pattern": {
              "fillmode": "overlay",
              "size": 10,
              "solidity": 0.2
             }
            },
            "type": "barpolar"
           }
          ],
          "carpet": [
           {
            "aaxis": {
             "endlinecolor": "#2a3f5f",
             "gridcolor": "white",
             "linecolor": "white",
             "minorgridcolor": "white",
             "startlinecolor": "#2a3f5f"
            },
            "baxis": {
             "endlinecolor": "#2a3f5f",
             "gridcolor": "white",
             "linecolor": "white",
             "minorgridcolor": "white",
             "startlinecolor": "#2a3f5f"
            },
            "type": "carpet"
           }
          ],
          "choropleth": [
           {
            "colorbar": {
             "outlinewidth": 0,
             "ticks": ""
            },
            "type": "choropleth"
           }
          ],
          "contour": [
           {
            "colorbar": {
             "outlinewidth": 0,
             "ticks": ""
            },
            "colorscale": [
             [
              0,
              "#0d0887"
             ],
             [
              0.1111111111111111,
              "#46039f"
             ],
             [
              0.2222222222222222,
              "#7201a8"
             ],
             [
              0.3333333333333333,
              "#9c179e"
             ],
             [
              0.4444444444444444,
              "#bd3786"
             ],
             [
              0.5555555555555556,
              "#d8576b"
             ],
             [
              0.6666666666666666,
              "#ed7953"
             ],
             [
              0.7777777777777778,
              "#fb9f3a"
             ],
             [
              0.8888888888888888,
              "#fdca26"
             ],
             [
              1,
              "#f0f921"
             ]
            ],
            "type": "contour"
           }
          ],
          "contourcarpet": [
           {
            "colorbar": {
             "outlinewidth": 0,
             "ticks": ""
            },
            "type": "contourcarpet"
           }
          ],
          "heatmap": [
           {
            "colorbar": {
             "outlinewidth": 0,
             "ticks": ""
            },
            "colorscale": [
             [
              0,
              "#0d0887"
             ],
             [
              0.1111111111111111,
              "#46039f"
             ],
             [
              0.2222222222222222,
              "#7201a8"
             ],
             [
              0.3333333333333333,
              "#9c179e"
             ],
             [
              0.4444444444444444,
              "#bd3786"
             ],
             [
              0.5555555555555556,
              "#d8576b"
             ],
             [
              0.6666666666666666,
              "#ed7953"
             ],
             [
              0.7777777777777778,
              "#fb9f3a"
             ],
             [
              0.8888888888888888,
              "#fdca26"
             ],
             [
              1,
              "#f0f921"
             ]
            ],
            "type": "heatmap"
           }
          ],
          "heatmapgl": [
           {
            "colorbar": {
             "outlinewidth": 0,
             "ticks": ""
            },
            "colorscale": [
             [
              0,
              "#0d0887"
             ],
             [
              0.1111111111111111,
              "#46039f"
             ],
             [
              0.2222222222222222,
              "#7201a8"
             ],
             [
              0.3333333333333333,
              "#9c179e"
             ],
             [
              0.4444444444444444,
              "#bd3786"
             ],
             [
              0.5555555555555556,
              "#d8576b"
             ],
             [
              0.6666666666666666,
              "#ed7953"
             ],
             [
              0.7777777777777778,
              "#fb9f3a"
             ],
             [
              0.8888888888888888,
              "#fdca26"
             ],
             [
              1,
              "#f0f921"
             ]
            ],
            "type": "heatmapgl"
           }
          ],
          "histogram": [
           {
            "marker": {
             "pattern": {
              "fillmode": "overlay",
              "size": 10,
              "solidity": 0.2
             }
            },
            "type": "histogram"
           }
          ],
          "histogram2d": [
           {
            "colorbar": {
             "outlinewidth": 0,
             "ticks": ""
            },
            "colorscale": [
             [
              0,
              "#0d0887"
             ],
             [
              0.1111111111111111,
              "#46039f"
             ],
             [
              0.2222222222222222,
              "#7201a8"
             ],
             [
              0.3333333333333333,
              "#9c179e"
             ],
             [
              0.4444444444444444,
              "#bd3786"
             ],
             [
              0.5555555555555556,
              "#d8576b"
             ],
             [
              0.6666666666666666,
              "#ed7953"
             ],
             [
              0.7777777777777778,
              "#fb9f3a"
             ],
             [
              0.8888888888888888,
              "#fdca26"
             ],
             [
              1,
              "#f0f921"
             ]
            ],
            "type": "histogram2d"
           }
          ],
          "histogram2dcontour": [
           {
            "colorbar": {
             "outlinewidth": 0,
             "ticks": ""
            },
            "colorscale": [
             [
              0,
              "#0d0887"
             ],
             [
              0.1111111111111111,
              "#46039f"
             ],
             [
              0.2222222222222222,
              "#7201a8"
             ],
             [
              0.3333333333333333,
              "#9c179e"
             ],
             [
              0.4444444444444444,
              "#bd3786"
             ],
             [
              0.5555555555555556,
              "#d8576b"
             ],
             [
              0.6666666666666666,
              "#ed7953"
             ],
             [
              0.7777777777777778,
              "#fb9f3a"
             ],
             [
              0.8888888888888888,
              "#fdca26"
             ],
             [
              1,
              "#f0f921"
             ]
            ],
            "type": "histogram2dcontour"
           }
          ],
          "mesh3d": [
           {
            "colorbar": {
             "outlinewidth": 0,
             "ticks": ""
            },
            "type": "mesh3d"
           }
          ],
          "parcoords": [
           {
            "line": {
             "colorbar": {
              "outlinewidth": 0,
              "ticks": ""
             }
            },
            "type": "parcoords"
           }
          ],
          "pie": [
           {
            "automargin": true,
            "type": "pie"
           }
          ],
          "scatter": [
           {
            "fillpattern": {
             "fillmode": "overlay",
             "size": 10,
             "solidity": 0.2
            },
            "type": "scatter"
           }
          ],
          "scatter3d": [
           {
            "line": {
             "colorbar": {
              "outlinewidth": 0,
              "ticks": ""
             }
            },
            "marker": {
             "colorbar": {
              "outlinewidth": 0,
              "ticks": ""
             }
            },
            "type": "scatter3d"
           }
          ],
          "scattercarpet": [
           {
            "marker": {
             "colorbar": {
              "outlinewidth": 0,
              "ticks": ""
             }
            },
            "type": "scattercarpet"
           }
          ],
          "scattergeo": [
           {
            "marker": {
             "colorbar": {
              "outlinewidth": 0,
              "ticks": ""
             }
            },
            "type": "scattergeo"
           }
          ],
          "scattergl": [
           {
            "marker": {
             "colorbar": {
              "outlinewidth": 0,
              "ticks": ""
             }
            },
            "type": "scattergl"
           }
          ],
          "scattermapbox": [
           {
            "marker": {
             "colorbar": {
              "outlinewidth": 0,
              "ticks": ""
             }
            },
            "type": "scattermapbox"
           }
          ],
          "scatterpolar": [
           {
            "marker": {
             "colorbar": {
              "outlinewidth": 0,
              "ticks": ""
             }
            },
            "type": "scatterpolar"
           }
          ],
          "scatterpolargl": [
           {
            "marker": {
             "colorbar": {
              "outlinewidth": 0,
              "ticks": ""
             }
            },
            "type": "scatterpolargl"
           }
          ],
          "scatterternary": [
           {
            "marker": {
             "colorbar": {
              "outlinewidth": 0,
              "ticks": ""
             }
            },
            "type": "scatterternary"
           }
          ],
          "surface": [
           {
            "colorbar": {
             "outlinewidth": 0,
             "ticks": ""
            },
            "colorscale": [
             [
              0,
              "#0d0887"
             ],
             [
              0.1111111111111111,
              "#46039f"
             ],
             [
              0.2222222222222222,
              "#7201a8"
             ],
             [
              0.3333333333333333,
              "#9c179e"
             ],
             [
              0.4444444444444444,
              "#bd3786"
             ],
             [
              0.5555555555555556,
              "#d8576b"
             ],
             [
              0.6666666666666666,
              "#ed7953"
             ],
             [
              0.7777777777777778,
              "#fb9f3a"
             ],
             [
              0.8888888888888888,
              "#fdca26"
             ],
             [
              1,
              "#f0f921"
             ]
            ],
            "type": "surface"
           }
          ],
          "table": [
           {
            "cells": {
             "fill": {
              "color": "#EBF0F8"
             },
             "line": {
              "color": "white"
             }
            },
            "header": {
             "fill": {
              "color": "#C8D4E3"
             },
             "line": {
              "color": "white"
             }
            },
            "type": "table"
           }
          ]
         },
         "layout": {
          "annotationdefaults": {
           "arrowcolor": "#2a3f5f",
           "arrowhead": 0,
           "arrowwidth": 1
          },
          "autotypenumbers": "strict",
          "coloraxis": {
           "colorbar": {
            "outlinewidth": 0,
            "ticks": ""
           }
          },
          "colorscale": {
           "diverging": [
            [
             0,
             "#8e0152"
            ],
            [
             0.1,
             "#c51b7d"
            ],
            [
             0.2,
             "#de77ae"
            ],
            [
             0.3,
             "#f1b6da"
            ],
            [
             0.4,
             "#fde0ef"
            ],
            [
             0.5,
             "#f7f7f7"
            ],
            [
             0.6,
             "#e6f5d0"
            ],
            [
             0.7,
             "#b8e186"
            ],
            [
             0.8,
             "#7fbc41"
            ],
            [
             0.9,
             "#4d9221"
            ],
            [
             1,
             "#276419"
            ]
           ],
           "sequential": [
            [
             0,
             "#0d0887"
            ],
            [
             0.1111111111111111,
             "#46039f"
            ],
            [
             0.2222222222222222,
             "#7201a8"
            ],
            [
             0.3333333333333333,
             "#9c179e"
            ],
            [
             0.4444444444444444,
             "#bd3786"
            ],
            [
             0.5555555555555556,
             "#d8576b"
            ],
            [
             0.6666666666666666,
             "#ed7953"
            ],
            [
             0.7777777777777778,
             "#fb9f3a"
            ],
            [
             0.8888888888888888,
             "#fdca26"
            ],
            [
             1,
             "#f0f921"
            ]
           ],
           "sequentialminus": [
            [
             0,
             "#0d0887"
            ],
            [
             0.1111111111111111,
             "#46039f"
            ],
            [
             0.2222222222222222,
             "#7201a8"
            ],
            [
             0.3333333333333333,
             "#9c179e"
            ],
            [
             0.4444444444444444,
             "#bd3786"
            ],
            [
             0.5555555555555556,
             "#d8576b"
            ],
            [
             0.6666666666666666,
             "#ed7953"
            ],
            [
             0.7777777777777778,
             "#fb9f3a"
            ],
            [
             0.8888888888888888,
             "#fdca26"
            ],
            [
             1,
             "#f0f921"
            ]
           ]
          },
          "colorway": [
           "#636efa",
           "#EF553B",
           "#00cc96",
           "#ab63fa",
           "#FFA15A",
           "#19d3f3",
           "#FF6692",
           "#B6E880",
           "#FF97FF",
           "#FECB52"
          ],
          "font": {
           "color": "#2a3f5f"
          },
          "geo": {
           "bgcolor": "white",
           "lakecolor": "white",
           "landcolor": "#E5ECF6",
           "showlakes": true,
           "showland": true,
           "subunitcolor": "white"
          },
          "hoverlabel": {
           "align": "left"
          },
          "hovermode": "closest",
          "mapbox": {
           "style": "light"
          },
          "paper_bgcolor": "white",
          "plot_bgcolor": "#E5ECF6",
          "polar": {
           "angularaxis": {
            "gridcolor": "white",
            "linecolor": "white",
            "ticks": ""
           },
           "bgcolor": "#E5ECF6",
           "radialaxis": {
            "gridcolor": "white",
            "linecolor": "white",
            "ticks": ""
           }
          },
          "scene": {
           "xaxis": {
            "backgroundcolor": "#E5ECF6",
            "gridcolor": "white",
            "gridwidth": 2,
            "linecolor": "white",
            "showbackground": true,
            "ticks": "",
            "zerolinecolor": "white"
           },
           "yaxis": {
            "backgroundcolor": "#E5ECF6",
            "gridcolor": "white",
            "gridwidth": 2,
            "linecolor": "white",
            "showbackground": true,
            "ticks": "",
            "zerolinecolor": "white"
           },
           "zaxis": {
            "backgroundcolor": "#E5ECF6",
            "gridcolor": "white",
            "gridwidth": 2,
            "linecolor": "white",
            "showbackground": true,
            "ticks": "",
            "zerolinecolor": "white"
           }
          },
          "shapedefaults": {
           "line": {
            "color": "#2a3f5f"
           }
          },
          "ternary": {
           "aaxis": {
            "gridcolor": "white",
            "linecolor": "white",
            "ticks": ""
           },
           "baxis": {
            "gridcolor": "white",
            "linecolor": "white",
            "ticks": ""
           },
           "bgcolor": "#E5ECF6",
           "caxis": {
            "gridcolor": "white",
            "linecolor": "white",
            "ticks": ""
           }
          },
          "title": {
           "x": 0.05
          },
          "xaxis": {
           "automargin": true,
           "gridcolor": "white",
           "linecolor": "white",
           "ticks": "",
           "title": {
            "standoff": 15
           },
           "zerolinecolor": "white",
           "zerolinewidth": 2
          },
          "yaxis": {
           "automargin": true,
           "gridcolor": "white",
           "linecolor": "white",
           "ticks": "",
           "title": {
            "standoff": 15
           },
           "zerolinecolor": "white",
           "zerolinewidth": 2
          }
         }
        },
        "xaxis": {
         "categoryarray": [
          "FP22",
          "FP21"
         ],
         "categoryorder": "array",
         "linecolor": "black",
         "linewidth": 1,
         "showline": true,
         "title": {
          "text": "Conditions"
         }
        },
        "yaxis": {
         "linecolor": "black",
         "linewidth": 1,
         "showline": true,
         "title": {
          "text": "Protein Identifications"
         }
        }
       }
      }
     },
     "metadata": {},
     "output_type": "display_data"
    }
   ],
   "source": [
    "#Missing val plot plot(protein and peptides)\n",
    "plot_options={\n",
    "            \"mean label\": \"True\",\n",
    "            \"error bar\": \"ci95\", #None, stdev, or ci95\n",
    "            \"X Title\": \"Conditions\",\n",
    "            \"cutoffs\": [33.3,50,99],\n",
    "            \"Y Title\": \"Protein Identifications\",\n",
    "            \"color\": [\"#3E6990\", \"#7aa8e6\",\"#AABD8C\", \"#E9E3B4\", \"#C6878F\", \"#fac8d3\",\"#F39B6D\",  \"pink\",\n",
    "                  \"orange\", \"brown\", \"pink\", \"gray\", \"olive\", \"cyan\", \"black\",\"red\",\n",
    "                  \"yellow\",\"green\",\"blue\",\"indigo\",\"violet\"],\n",
    "            \"width\": 700,\n",
    "            \"height\": 450,\n",
    "            \"font\": dict(size=32, family=\"Arial black\"),\n",
    "            \"ID mode\": \"stacked\",#stacked\n",
    "            \"Group By X\": \"Conditions\", #ID_Mode does MS2 vs MBR\n",
    "        }\n",
    "plot_options[\"plot_type\"] = \"1\" # 1 is protein, 2 is peptide\n",
    "figure ,_ ,_ =plotter.Missing_Values_Plots(data_obj, plot_options, saved_settings)\n",
    "figure.write_image(\"greedy_missing_val.png\", scale=10, width = 1000, height=1000)\n",
    "figure.show()"
   ]
  },
  {
   "cell_type": "code",
   "execution_count": 7,
   "id": "694ffc20",
   "metadata": {},
   "outputs": [
    {
     "name": "stdout",
     "output_type": "stream",
     "text": [
      "Downloading links...\n"
     ]
    },
    {
     "data": {
      "application/vnd.plotly.v1+json": {
       "config": {
        "plotlyServerURL": "https://plot.ly"
       },
       "data": [
        {
         "error_y": {
          "array": [
           null
          ],
          "type": "data",
          "visible": true
         },
         "marker": {
          "color": "#3E6990"
         },
         "name": "MS2_IDs Fragpipe",
         "offsetgroup": "0",
         "text": [
          "498"
         ],
         "type": "bar",
         "x": [
          "2.2ng"
         ],
         "y": [
          498
         ]
        },
        {
         "base": [
          498
         ],
         "error_y": {
          "array": [
           null
          ],
          "type": "data",
          "visible": true
         },
         "marker": {
          "color": "#3E6990"
         },
         "name": "MBR_IDs Fragpipe",
         "offsetgroup": "0",
         "opacity": 0.5,
         "text": [
          "498"
         ],
         "type": "bar",
         "x": [
          "2.2ng"
         ],
         "y": [
          0
         ]
        },
        {
         "error_y": {
          "array": [
           null
          ],
          "type": "data",
          "visible": true
         },
         "marker": {
          "color": "#7aa8e6"
         },
         "name": "MS2_IDs Slavov",
         "offsetgroup": "1",
         "text": [
          "502"
         ],
         "type": "bar",
         "x": [
          "2.2ng"
         ],
         "y": [
          502
         ]
        },
        {
         "base": [
          502
         ],
         "error_y": {
          "array": [
           null
          ],
          "type": "data",
          "visible": true
         },
         "marker": {
          "color": "#7aa8e6"
         },
         "name": "MBR_IDs Slavov",
         "offsetgroup": "1",
         "opacity": 0.5,
         "text": [
          "502"
         ],
         "type": "bar",
         "x": [
          "2.2ng"
         ],
         "y": [
          0
         ]
        }
       ],
       "layout": {
        "barmode": "group",
        "paper_bgcolor": "rgba(255, 255, 255, 255)",
        "plot_bgcolor": "rgba(255, 255, 255, 255)",
        "template": {
         "data": {
          "bar": [
           {
            "error_x": {
             "color": "#2a3f5f"
            },
            "error_y": {
             "color": "#2a3f5f"
            },
            "marker": {
             "line": {
              "color": "#E5ECF6",
              "width": 0.5
             },
             "pattern": {
              "fillmode": "overlay",
              "size": 10,
              "solidity": 0.2
             }
            },
            "type": "bar"
           }
          ],
          "barpolar": [
           {
            "marker": {
             "line": {
              "color": "#E5ECF6",
              "width": 0.5
             },
             "pattern": {
              "fillmode": "overlay",
              "size": 10,
              "solidity": 0.2
             }
            },
            "type": "barpolar"
           }
          ],
          "carpet": [
           {
            "aaxis": {
             "endlinecolor": "#2a3f5f",
             "gridcolor": "white",
             "linecolor": "white",
             "minorgridcolor": "white",
             "startlinecolor": "#2a3f5f"
            },
            "baxis": {
             "endlinecolor": "#2a3f5f",
             "gridcolor": "white",
             "linecolor": "white",
             "minorgridcolor": "white",
             "startlinecolor": "#2a3f5f"
            },
            "type": "carpet"
           }
          ],
          "choropleth": [
           {
            "colorbar": {
             "outlinewidth": 0,
             "ticks": ""
            },
            "type": "choropleth"
           }
          ],
          "contour": [
           {
            "colorbar": {
             "outlinewidth": 0,
             "ticks": ""
            },
            "colorscale": [
             [
              0,
              "#0d0887"
             ],
             [
              0.1111111111111111,
              "#46039f"
             ],
             [
              0.2222222222222222,
              "#7201a8"
             ],
             [
              0.3333333333333333,
              "#9c179e"
             ],
             [
              0.4444444444444444,
              "#bd3786"
             ],
             [
              0.5555555555555556,
              "#d8576b"
             ],
             [
              0.6666666666666666,
              "#ed7953"
             ],
             [
              0.7777777777777778,
              "#fb9f3a"
             ],
             [
              0.8888888888888888,
              "#fdca26"
             ],
             [
              1,
              "#f0f921"
             ]
            ],
            "type": "contour"
           }
          ],
          "contourcarpet": [
           {
            "colorbar": {
             "outlinewidth": 0,
             "ticks": ""
            },
            "type": "contourcarpet"
           }
          ],
          "heatmap": [
           {
            "colorbar": {
             "outlinewidth": 0,
             "ticks": ""
            },
            "colorscale": [
             [
              0,
              "#0d0887"
             ],
             [
              0.1111111111111111,
              "#46039f"
             ],
             [
              0.2222222222222222,
              "#7201a8"
             ],
             [
              0.3333333333333333,
              "#9c179e"
             ],
             [
              0.4444444444444444,
              "#bd3786"
             ],
             [
              0.5555555555555556,
              "#d8576b"
             ],
             [
              0.6666666666666666,
              "#ed7953"
             ],
             [
              0.7777777777777778,
              "#fb9f3a"
             ],
             [
              0.8888888888888888,
              "#fdca26"
             ],
             [
              1,
              "#f0f921"
             ]
            ],
            "type": "heatmap"
           }
          ],
          "heatmapgl": [
           {
            "colorbar": {
             "outlinewidth": 0,
             "ticks": ""
            },
            "colorscale": [
             [
              0,
              "#0d0887"
             ],
             [
              0.1111111111111111,
              "#46039f"
             ],
             [
              0.2222222222222222,
              "#7201a8"
             ],
             [
              0.3333333333333333,
              "#9c179e"
             ],
             [
              0.4444444444444444,
              "#bd3786"
             ],
             [
              0.5555555555555556,
              "#d8576b"
             ],
             [
              0.6666666666666666,
              "#ed7953"
             ],
             [
              0.7777777777777778,
              "#fb9f3a"
             ],
             [
              0.8888888888888888,
              "#fdca26"
             ],
             [
              1,
              "#f0f921"
             ]
            ],
            "type": "heatmapgl"
           }
          ],
          "histogram": [
           {
            "marker": {
             "pattern": {
              "fillmode": "overlay",
              "size": 10,
              "solidity": 0.2
             }
            },
            "type": "histogram"
           }
          ],
          "histogram2d": [
           {
            "colorbar": {
             "outlinewidth": 0,
             "ticks": ""
            },
            "colorscale": [
             [
              0,
              "#0d0887"
             ],
             [
              0.1111111111111111,
              "#46039f"
             ],
             [
              0.2222222222222222,
              "#7201a8"
             ],
             [
              0.3333333333333333,
              "#9c179e"
             ],
             [
              0.4444444444444444,
              "#bd3786"
             ],
             [
              0.5555555555555556,
              "#d8576b"
             ],
             [
              0.6666666666666666,
              "#ed7953"
             ],
             [
              0.7777777777777778,
              "#fb9f3a"
             ],
             [
              0.8888888888888888,
              "#fdca26"
             ],
             [
              1,
              "#f0f921"
             ]
            ],
            "type": "histogram2d"
           }
          ],
          "histogram2dcontour": [
           {
            "colorbar": {
             "outlinewidth": 0,
             "ticks": ""
            },
            "colorscale": [
             [
              0,
              "#0d0887"
             ],
             [
              0.1111111111111111,
              "#46039f"
             ],
             [
              0.2222222222222222,
              "#7201a8"
             ],
             [
              0.3333333333333333,
              "#9c179e"
             ],
             [
              0.4444444444444444,
              "#bd3786"
             ],
             [
              0.5555555555555556,
              "#d8576b"
             ],
             [
              0.6666666666666666,
              "#ed7953"
             ],
             [
              0.7777777777777778,
              "#fb9f3a"
             ],
             [
              0.8888888888888888,
              "#fdca26"
             ],
             [
              1,
              "#f0f921"
             ]
            ],
            "type": "histogram2dcontour"
           }
          ],
          "mesh3d": [
           {
            "colorbar": {
             "outlinewidth": 0,
             "ticks": ""
            },
            "type": "mesh3d"
           }
          ],
          "parcoords": [
           {
            "line": {
             "colorbar": {
              "outlinewidth": 0,
              "ticks": ""
             }
            },
            "type": "parcoords"
           }
          ],
          "pie": [
           {
            "automargin": true,
            "type": "pie"
           }
          ],
          "scatter": [
           {
            "fillpattern": {
             "fillmode": "overlay",
             "size": 10,
             "solidity": 0.2
            },
            "type": "scatter"
           }
          ],
          "scatter3d": [
           {
            "line": {
             "colorbar": {
              "outlinewidth": 0,
              "ticks": ""
             }
            },
            "marker": {
             "colorbar": {
              "outlinewidth": 0,
              "ticks": ""
             }
            },
            "type": "scatter3d"
           }
          ],
          "scattercarpet": [
           {
            "marker": {
             "colorbar": {
              "outlinewidth": 0,
              "ticks": ""
             }
            },
            "type": "scattercarpet"
           }
          ],
          "scattergeo": [
           {
            "marker": {
             "colorbar": {
              "outlinewidth": 0,
              "ticks": ""
             }
            },
            "type": "scattergeo"
           }
          ],
          "scattergl": [
           {
            "marker": {
             "colorbar": {
              "outlinewidth": 0,
              "ticks": ""
             }
            },
            "type": "scattergl"
           }
          ],
          "scattermapbox": [
           {
            "marker": {
             "colorbar": {
              "outlinewidth": 0,
              "ticks": ""
             }
            },
            "type": "scattermapbox"
           }
          ],
          "scatterpolar": [
           {
            "marker": {
             "colorbar": {
              "outlinewidth": 0,
              "ticks": ""
             }
            },
            "type": "scatterpolar"
           }
          ],
          "scatterpolargl": [
           {
            "marker": {
             "colorbar": {
              "outlinewidth": 0,
              "ticks": ""
             }
            },
            "type": "scatterpolargl"
           }
          ],
          "scatterternary": [
           {
            "marker": {
             "colorbar": {
              "outlinewidth": 0,
              "ticks": ""
             }
            },
            "type": "scatterternary"
           }
          ],
          "surface": [
           {
            "colorbar": {
             "outlinewidth": 0,
             "ticks": ""
            },
            "colorscale": [
             [
              0,
              "#0d0887"
             ],
             [
              0.1111111111111111,
              "#46039f"
             ],
             [
              0.2222222222222222,
              "#7201a8"
             ],
             [
              0.3333333333333333,
              "#9c179e"
             ],
             [
              0.4444444444444444,
              "#bd3786"
             ],
             [
              0.5555555555555556,
              "#d8576b"
             ],
             [
              0.6666666666666666,
              "#ed7953"
             ],
             [
              0.7777777777777778,
              "#fb9f3a"
             ],
             [
              0.8888888888888888,
              "#fdca26"
             ],
             [
              1,
              "#f0f921"
             ]
            ],
            "type": "surface"
           }
          ],
          "table": [
           {
            "cells": {
             "fill": {
              "color": "#EBF0F8"
             },
             "line": {
              "color": "white"
             }
            },
            "header": {
             "fill": {
              "color": "#C8D4E3"
             },
             "line": {
              "color": "white"
             }
            },
            "type": "table"
           }
          ]
         },
         "layout": {
          "annotationdefaults": {
           "arrowcolor": "#2a3f5f",
           "arrowhead": 0,
           "arrowwidth": 1
          },
          "autotypenumbers": "strict",
          "coloraxis": {
           "colorbar": {
            "outlinewidth": 0,
            "ticks": ""
           }
          },
          "colorscale": {
           "diverging": [
            [
             0,
             "#8e0152"
            ],
            [
             0.1,
             "#c51b7d"
            ],
            [
             0.2,
             "#de77ae"
            ],
            [
             0.3,
             "#f1b6da"
            ],
            [
             0.4,
             "#fde0ef"
            ],
            [
             0.5,
             "#f7f7f7"
            ],
            [
             0.6,
             "#e6f5d0"
            ],
            [
             0.7,
             "#b8e186"
            ],
            [
             0.8,
             "#7fbc41"
            ],
            [
             0.9,
             "#4d9221"
            ],
            [
             1,
             "#276419"
            ]
           ],
           "sequential": [
            [
             0,
             "#0d0887"
            ],
            [
             0.1111111111111111,
             "#46039f"
            ],
            [
             0.2222222222222222,
             "#7201a8"
            ],
            [
             0.3333333333333333,
             "#9c179e"
            ],
            [
             0.4444444444444444,
             "#bd3786"
            ],
            [
             0.5555555555555556,
             "#d8576b"
            ],
            [
             0.6666666666666666,
             "#ed7953"
            ],
            [
             0.7777777777777778,
             "#fb9f3a"
            ],
            [
             0.8888888888888888,
             "#fdca26"
            ],
            [
             1,
             "#f0f921"
            ]
           ],
           "sequentialminus": [
            [
             0,
             "#0d0887"
            ],
            [
             0.1111111111111111,
             "#46039f"
            ],
            [
             0.2222222222222222,
             "#7201a8"
            ],
            [
             0.3333333333333333,
             "#9c179e"
            ],
            [
             0.4444444444444444,
             "#bd3786"
            ],
            [
             0.5555555555555556,
             "#d8576b"
            ],
            [
             0.6666666666666666,
             "#ed7953"
            ],
            [
             0.7777777777777778,
             "#fb9f3a"
            ],
            [
             0.8888888888888888,
             "#fdca26"
            ],
            [
             1,
             "#f0f921"
            ]
           ]
          },
          "colorway": [
           "#636efa",
           "#EF553B",
           "#00cc96",
           "#ab63fa",
           "#FFA15A",
           "#19d3f3",
           "#FF6692",
           "#B6E880",
           "#FF97FF",
           "#FECB52"
          ],
          "font": {
           "color": "#2a3f5f"
          },
          "geo": {
           "bgcolor": "white",
           "lakecolor": "white",
           "landcolor": "#E5ECF6",
           "showlakes": true,
           "showland": true,
           "subunitcolor": "white"
          },
          "hoverlabel": {
           "align": "left"
          },
          "hovermode": "closest",
          "mapbox": {
           "style": "light"
          },
          "paper_bgcolor": "white",
          "plot_bgcolor": "#E5ECF6",
          "polar": {
           "angularaxis": {
            "gridcolor": "white",
            "linecolor": "white",
            "ticks": ""
           },
           "bgcolor": "#E5ECF6",
           "radialaxis": {
            "gridcolor": "white",
            "linecolor": "white",
            "ticks": ""
           }
          },
          "scene": {
           "xaxis": {
            "backgroundcolor": "#E5ECF6",
            "gridcolor": "white",
            "gridwidth": 2,
            "linecolor": "white",
            "showbackground": true,
            "ticks": "",
            "zerolinecolor": "white"
           },
           "yaxis": {
            "backgroundcolor": "#E5ECF6",
            "gridcolor": "white",
            "gridwidth": 2,
            "linecolor": "white",
            "showbackground": true,
            "ticks": "",
            "zerolinecolor": "white"
           },
           "zaxis": {
            "backgroundcolor": "#E5ECF6",
            "gridcolor": "white",
            "gridwidth": 2,
            "linecolor": "white",
            "showbackground": true,
            "ticks": "",
            "zerolinecolor": "white"
           }
          },
          "shapedefaults": {
           "line": {
            "color": "#2a3f5f"
           }
          },
          "ternary": {
           "aaxis": {
            "gridcolor": "white",
            "linecolor": "white",
            "ticks": ""
           },
           "baxis": {
            "gridcolor": "white",
            "linecolor": "white",
            "ticks": ""
           },
           "bgcolor": "#E5ECF6",
           "caxis": {
            "gridcolor": "white",
            "linecolor": "white",
            "ticks": ""
           }
          },
          "title": {
           "x": 0.05
          },
          "xaxis": {
           "automargin": true,
           "gridcolor": "white",
           "linecolor": "white",
           "ticks": "",
           "title": {
            "standoff": 15
           },
           "zerolinecolor": "white",
           "zerolinewidth": 2
          },
          "yaxis": {
           "automargin": true,
           "gridcolor": "white",
           "linecolor": "white",
           "ticks": "",
           "title": {
            "standoff": 15
           },
           "zerolinecolor": "white",
           "zerolinewidth": 2
          }
         }
        },
        "xaxis": {
         "categoryarray": [
          "2.2ng"
         ],
         "categoryorder": "array",
         "linecolor": "black",
         "linewidth": 1,
         "showline": true,
         "title": {
          "text": "Sample Amount"
         }
        },
        "yaxis": {
         "linecolor": "black",
         "linewidth": 1,
         "showline": true,
         "title": {
          "text": "Protein Identifications"
         }
        }
       }
      }
     },
     "metadata": {},
     "output_type": "display_data"
    }
   ],
   "source": [
    "#ID plot(protein and peptides)\n",
    "plot_options={\n",
    "            \"mean label\": \"True\",\n",
    "            \"error bar\": \"ci95\", #None, stdev, or ci95\n",
    "            \"X Title\": \"Conditions\",\n",
    "            \"Y Title\": \"Protein Identifications\",\n",
    "            \"color\": [\"#3E6990\", \"#7aa8e6\",\"#AABD8C\", \"#E9E3B4\", \"#C6878F\", \"#fac8d3\",\"#F39B6D\",  \"pink\",\n",
    "                  \"orange\", \"brown\", \"pink\", \"gray\", \"olive\", \"cyan\", \"black\",\"red\",\n",
    "                  \"yellow\",\"green\",\"blue\",\"indigo\",\"violet\"],\n",
    "            \"width\": 700,\n",
    "            \"height\": 450,\n",
    "            \"font\": dict(size=32, family=\"Arial black\"),\n",
    "            \"ID mode\": \"grouped_stacked\",#grouped, total, MS2, grouped_stacked, stacked\n",
    "            \"Group By X\": \"Sample Amount\", #ID_Mode does MS2 vs MBR\n",
    "            \"Group By Color\": \"Processing App\",#ID_Mode does MS2 vs MBR\n",
    "            \"Group By Stack\": \"ID_Mode\",#ID_Mode does MS2 vs MBR\n",
    "        }\n",
    "plot_options[\"plot_type\"] = \"1\" # 1 is protein, 2 is peptide\n",
    "figure ,_ ,_ =plotter.ID_plots(data_obj, plot_options, saved_settings)\n",
    "figure.write_image(\"asdf.png\", scale=10, width = 1000, height=1000)\n",
    "figure.show()"
   ]
  },
  {
   "cell_type": "code",
   "execution_count": 8,
   "id": "6ac3cdc7",
   "metadata": {},
   "outputs": [
    {
     "name": "stdout",
     "output_type": "stream",
     "text": [
      "Downloading links...\n"
     ]
    },
    {
     "data": {
      "application/vnd.plotly.v1+json": {
       "config": {
        "plotlyServerURL": "https://plot.ly"
       },
       "data": [
        {
         "alignmentgroup": "True",
         "box": {
          "visible": false
         },
         "hovertemplate": "Conditions=%{x}<br>CV=%{y}<extra></extra>",
         "legendgroup": "FP22",
         "marker": {
          "color": "#3E6990"
         },
         "name": "FP22",
         "offsetgroup": "FP22",
         "orientation": "v",
         "scalegroup": "True",
         "showlegend": true,
         "type": "violin",
         "x": [
          "FP22",
          "FP22",
          "FP22",
          "FP22",
          "FP22",
          "FP22",
          "FP22",
          "FP22",
          "FP22",
          "FP22",
          "FP22",
          "FP22",
          "FP22",
          "FP22",
          "FP22",
          "FP22",
          "FP22",
          "FP22",
          "FP22",
          "FP22",
          "FP22",
          "FP22",
          "FP22",
          "FP22",
          "FP22",
          "FP22",
          "FP22",
          "FP22",
          "FP22",
          "FP22",
          "FP22",
          "FP22",
          "FP22",
          "FP22",
          "FP22",
          "FP22",
          "FP22",
          "FP22",
          "FP22",
          "FP22",
          "FP22",
          "FP22",
          "FP22",
          "FP22",
          "FP22",
          "FP22",
          "FP22",
          "FP22",
          "FP22",
          "FP22",
          "FP22",
          "FP22",
          "FP22",
          "FP22",
          "FP22",
          "FP22",
          "FP22",
          "FP22",
          "FP22",
          "FP22",
          "FP22",
          "FP22",
          "FP22",
          "FP22",
          "FP22",
          "FP22",
          "FP22",
          "FP22",
          "FP22",
          "FP22",
          "FP22",
          "FP22",
          "FP22",
          "FP22",
          "FP22",
          "FP22",
          "FP22",
          "FP22",
          "FP22",
          "FP22",
          "FP22",
          "FP22",
          "FP22",
          "FP22",
          "FP22",
          "FP22",
          "FP22",
          "FP22",
          "FP22",
          "FP22",
          "FP22",
          "FP22",
          "FP22",
          "FP22",
          "FP22",
          "FP22",
          "FP22",
          "FP22",
          "FP22",
          "FP22",
          "FP22",
          "FP22",
          "FP22",
          "FP22",
          "FP22",
          "FP22",
          "FP22",
          "FP22",
          "FP22",
          "FP22",
          "FP22",
          "FP22",
          "FP22",
          "FP22",
          "FP22",
          "FP22",
          "FP22",
          "FP22",
          "FP22",
          "FP22",
          "FP22",
          "FP22",
          "FP22",
          "FP22",
          "FP22",
          "FP22",
          "FP22",
          "FP22",
          "FP22",
          "FP22",
          "FP22",
          "FP22",
          "FP22",
          "FP22",
          "FP22",
          "FP22",
          "FP22",
          "FP22",
          "FP22",
          "FP22",
          "FP22",
          "FP22",
          "FP22",
          "FP22",
          "FP22",
          "FP22",
          "FP22",
          "FP22",
          "FP22",
          "FP22",
          "FP22",
          "FP22",
          "FP22",
          "FP22",
          "FP22",
          "FP22",
          "FP22",
          "FP22",
          "FP22",
          "FP22",
          "FP22",
          "FP22",
          "FP22",
          "FP22",
          "FP22",
          "FP22",
          "FP22",
          "FP22",
          "FP22",
          "FP22",
          "FP22",
          "FP22",
          "FP22",
          "FP22",
          "FP22",
          "FP22",
          "FP22",
          "FP22",
          "FP22",
          "FP22",
          "FP22",
          "FP22",
          "FP22",
          "FP22",
          "FP22",
          "FP22",
          "FP22",
          "FP22",
          "FP22",
          "FP22",
          "FP22",
          "FP22",
          "FP22",
          "FP22",
          "FP22",
          "FP22",
          "FP22",
          "FP22",
          "FP22",
          "FP22",
          "FP22",
          "FP22",
          "FP22",
          "FP22",
          "FP22",
          "FP22",
          "FP22",
          "FP22",
          "FP22",
          "FP22",
          "FP22",
          "FP22",
          "FP22",
          "FP22",
          "FP22",
          "FP22",
          "FP22",
          "FP22",
          "FP22",
          "FP22",
          "FP22",
          "FP22",
          "FP22",
          "FP22",
          "FP22",
          "FP22",
          "FP22",
          "FP22",
          "FP22",
          "FP22",
          "FP22",
          "FP22",
          "FP22",
          "FP22",
          "FP22",
          "FP22",
          "FP22",
          "FP22",
          "FP22",
          "FP22",
          "FP22",
          "FP22",
          "FP22",
          "FP22",
          "FP22",
          "FP22",
          "FP22",
          "FP22",
          "FP22",
          "FP22",
          "FP22",
          "FP22",
          "FP22",
          "FP22",
          "FP22",
          "FP22",
          "FP22",
          "FP22",
          "FP22",
          "FP22",
          "FP22",
          "FP22",
          "FP22",
          "FP22",
          "FP22",
          "FP22",
          "FP22",
          "FP22",
          "FP22",
          "FP22",
          "FP22",
          "FP22",
          "FP22",
          "FP22",
          "FP22",
          "FP22",
          "FP22",
          "FP22",
          "FP22",
          "FP22",
          "FP22",
          "FP22",
          "FP22",
          "FP22",
          "FP22",
          "FP22",
          "FP22",
          "FP22",
          "FP22",
          "FP22",
          "FP22",
          "FP22",
          "FP22",
          "FP22",
          "FP22",
          "FP22",
          "FP22",
          "FP22",
          "FP22",
          "FP22",
          "FP22",
          "FP22",
          "FP22",
          "FP22",
          "FP22",
          "FP22",
          "FP22",
          "FP22",
          "FP22",
          "FP22",
          "FP22",
          "FP22",
          "FP22",
          "FP22",
          "FP22",
          "FP22",
          "FP22",
          "FP22",
          "FP22",
          "FP22",
          "FP22",
          "FP22",
          "FP22",
          "FP22",
          "FP22",
          "FP22",
          "FP22",
          "FP22",
          "FP22",
          "FP22",
          "FP22",
          "FP22",
          "FP22",
          "FP22",
          "FP22",
          "FP22",
          "FP22",
          "FP22",
          "FP22",
          "FP22",
          "FP22",
          "FP22",
          "FP22",
          "FP22",
          "FP22",
          "FP22",
          "FP22",
          "FP22",
          "FP22",
          "FP22",
          "FP22",
          "FP22",
          "FP22",
          "FP22",
          "FP22",
          "FP22",
          "FP22",
          "FP22",
          "FP22",
          "FP22",
          "FP22",
          "FP22",
          "FP22",
          "FP22",
          "FP22",
          "FP22",
          "FP22",
          "FP22",
          "FP22",
          "FP22",
          "FP22",
          "FP22",
          "FP22",
          "FP22",
          "FP22",
          "FP22",
          "FP22",
          "FP22",
          "FP22",
          "FP22",
          "FP22",
          "FP22",
          "FP22",
          "FP22",
          "FP22",
          "FP22",
          "FP22",
          "FP22",
          "FP22",
          "FP22",
          "FP22",
          "FP22",
          "FP22",
          "FP22",
          "FP22",
          "FP22",
          "FP22",
          "FP22",
          "FP22",
          "FP22",
          "FP22",
          "FP22",
          "FP22",
          "FP22",
          "FP22",
          "FP22",
          "FP22",
          "FP22",
          "FP22",
          "FP22",
          "FP22",
          "FP22",
          "FP22",
          "FP22",
          "FP22",
          "FP22",
          "FP22",
          "FP22",
          "FP22",
          "FP22",
          "FP22",
          "FP22",
          "FP22",
          "FP22",
          "FP22",
          "FP22",
          "FP22",
          "FP22",
          "FP22",
          "FP22",
          "FP22",
          "FP22",
          "FP22",
          "FP22",
          "FP22",
          "FP22",
          "FP22",
          "FP22",
          "FP22",
          "FP22",
          "FP22",
          "FP22",
          "FP22",
          "FP22",
          "FP22"
         ],
         "x0": " ",
         "xaxis": "x",
         "y": [
          1.1839989133248356,
          1.4679869945727388,
          1.4576006943343252,
          2.6244850119390777,
          2.005351792434903,
          3.888191952611523,
          5.113718421762576,
          2.5367320020803583,
          1.7425618941523768,
          2.018440951024152,
          3.0634971347826623,
          2.126618528572538,
          2.4078569230281395,
          3.7281604715685766,
          1.68474713290923,
          3.492659171526517,
          3.4701774216679993,
          1.737270432055063,
          1.0059975393688911,
          2.894787000733776,
          1.2482820405182862,
          2.4799336716319664,
          2.658376540814542,
          2.305599932969896,
          0.6008390300594645,
          0.7395810960461706,
          2.5284859909416246,
          1.173828709621626,
          2.4686372746146654,
          1.8777646612225787,
          1.5391593522854443,
          3.819802370266684,
          1.479261392823933,
          3.366584751269127,
          1.0712833629055936,
          3.2862697997799026,
          1.2942587279946942,
          2.5118516934378303,
          1.5018604048506123,
          2.115331753589416,
          1.317942367388284,
          1.2205696060309787,
          1.504782253921335,
          2.9064535220561454,
          2.833444218093397,
          7.025386712672756,
          1.424423219430319,
          1.5131775222565524,
          2.8153288133931285,
          0.6198142182858,
          1.75434573452895,
          1.3106893014863257,
          1.268736925412451,
          1.1660486518049409,
          1.0543962478389235,
          1.2652967763101315,
          1.5860867109321992,
          0.5211702095204096,
          3.1042953516789034,
          1.0707915618390658,
          1.2478602182646483,
          4.828081644704827,
          1.0393883070881822,
          1.4334880116698834,
          1.7767507084138836,
          2.0060493877532486,
          2.0948945357853703,
          1.8956588397389789,
          4.368566803944337,
          2.7249976994843244,
          4.330650298822122,
          1.5584829789242858,
          1.9889507398060737,
          3.0102419653092793,
          2.367506367496919,
          1.7657765694432632,
          3.8036404773398718,
          1.0368755208311629,
          1.5384405541997668,
          1.443315620531575,
          2.526101417034404,
          8.792551869216057,
          1.762775938298514,
          6.29602646744528,
          0.9957262596959044,
          3.2490502923290094,
          2.2823848080332265,
          0.8895008145573771,
          1.863753216618913,
          0.5141104373391517,
          1.207496171593105,
          2.6490381580281728,
          1.022888071443912,
          2.7523805988294248,
          2.6911457029535932,
          4.909939477733356,
          2.3477936238649924,
          1.477138561650166,
          0.46966174692514895,
          1.6098219135345544,
          4.505915286441971,
          1.659203845313098,
          3.0109302031332783,
          1.1478967135940372,
          2.79792490478346,
          2.0476118559260845,
          0.9981115713659907,
          1.7917956718443606,
          1.9897059675987077,
          0.6543478682042841,
          2.5596786357128374,
          1.2838420970460909,
          2.8687377280653865,
          2.3743808938641897,
          2.390241346275237,
          1.6346327460486154,
          2.257398110390306,
          1.788975158637656,
          1.6907591353146216,
          2.9651669082090195,
          1.946752557553349,
          2.710364949549489,
          1.593369089019625,
          1.7919014039149121,
          2.1717814040517274,
          1.5398994251752456,
          0.5173357763887779,
          2.9334733800245596,
          4.598839085054626,
          1.029882961667709,
          1.5688891498697188,
          2.756503165063904,
          3.4894772698379093,
          1.0371516471967344,
          2.7430569818338606,
          1.6282394905371982,
          0.9806280006403626,
          1.4882981432883662,
          4.065995366575258,
          0.9773478097993705,
          2.2252278132365166,
          4.5493093319081455,
          1.4213702900897465,
          1.1357300614696186,
          2.2523853822086015,
          1.982674397808612,
          0.7672769842277349,
          2.0886047411585884,
          5.952871463081993,
          1.0760538581072547,
          2.053208409384059,
          1.6835613167307,
          4.57404364437083,
          1.3312559124810808,
          1.5062869297101398,
          2.43864904355977,
          3.5138477805175956,
          1.247713609393465,
          1.7144283071259494,
          3.105793840685176,
          1.8966869376600002,
          2.336459169652839,
          2.069988012764638,
          1.1572938877651626,
          1.5874556319051696,
          3.779269682068673,
          1.2637310035343423,
          5.983059172781888,
          2.2585875944423277,
          2.084008940234241,
          6.523106284424967,
          1.9964363730740446,
          2.06931465100807,
          3.6830234945452727,
          4.443527008362535,
          2.1824896270440575,
          6.832518756266516,
          1.7693184344975015,
          2.7553497375313203,
          2.618896493499167,
          2.6349480437288224,
          2.1964814432208812,
          3.4171926725257262,
          0.5783598271812969,
          3.2404195961020075,
          1.4412150276509006,
          2.2507135659201003,
          1.8015933720119683,
          2.7708297120403182,
          2.7491146163317755,
          1.1832095452430735,
          1.44177911912607,
          2.1965950228873155,
          2.923230748105045,
          1.7903183713181239,
          1.5377199591182615,
          1.1739753414759277,
          1.8387635580290482,
          2.25527374676327,
          0.7528292381790321,
          2.8605262029446616,
          2.232225022653575,
          0.9759574597817461,
          2.559335129182897,
          1.6147477702758997,
          1.4947817025068502,
          2.359499392637358,
          1.2583408478075009,
          1.5562485260611172,
          3.5493333158237883,
          3.2886068987577386,
          1.0490179338220735,
          1.8808972907473516,
          2.4609952865896743,
          1.8019983434745979,
          3.6660693683600476,
          2.07506111846204,
          2.4070234577623886,
          0.7981884293201915,
          4.8148159189534,
          1.3921836552401985,
          1.2688438208081803,
          0.6719399031481356,
          0.9714594605053615,
          0.7692810968627068,
          2.164336044775645,
          1.854960598251892,
          2.5659842904933985,
          3.0086491488549125,
          3.07084310004173,
          0.7808821937072749,
          1.0925556843401543,
          3.5081314896193603,
          0.7610128802064331,
          2.3243060725554656,
          1.9686214821124859,
          1.2706247779785538,
          2.0124254901346705,
          3.2471440048582196,
          1.9040227809472428,
          1.065436202280008,
          2.7377281703892415,
          1.2508985163006998,
          3.513758447961797,
          1.8229833848033252,
          3.298385839120954,
          2.645295739280517,
          2.9148614181201253,
          2.3048404852257955,
          2.191687748203328,
          3.0218684077098326,
          1.8653033316207004,
          1.8171481261703675,
          1.8685265041820036,
          2.309344634644433,
          2.3605250174085155,
          2.7686739329358843,
          1.2441891677579457,
          2.478599113756622,
          3.1682128097320197,
          0.8796204894314682,
          3.665592278536759,
          2.5015817100712847,
          2.703116762728357,
          2.4691542125006007,
          1.4744174656542681,
          1.6856618619169903,
          1.9449197895699062,
          0.9296372332932931,
          1.7237743298952006,
          1.383064659575539,
          0.6893996730729972,
          2.7537855107753555,
          0.9704660326191121,
          1.148973408639533,
          2.7172853815836002,
          0.7362426350287204,
          1.9871799023646128,
          1.286196348280939,
          1.9154723157902793,
          1.6984788265845903,
          2.070160436741468,
          3.8125035040258175,
          1.3822355573174314,
          0.5297844557360961,
          1.6073485737851338,
          2.1225321617823525,
          7.725687593477406,
          2.8535367336927657,
          2.844438665271872,
          1.567003110357721,
          1.0704625673463721,
          1.9177985140546898,
          0.8427022713261882,
          2.726573541201767,
          1.1822622689226123,
          5.9977720056775,
          0.7022806684032868,
          1.8914151588755854,
          1.1002752572036951,
          1.7996336418749717,
          3.1018777156370905,
          0.9120214491666957,
          1.6861593055746347,
          7.420766689372416,
          0.8904906723133046,
          2.5974031772768735,
          1.0860473866949794,
          1.828839676680234,
          1.2754958988293355,
          3.5828987769728005,
          4.40316723737529,
          3.250074532043143,
          0.751387324519029,
          1.1629926515914073,
          0.9025588902135694,
          2.4604612033358153,
          3.51645671504967,
          1.496662968083827,
          1.41880623930115,
          0.7174743117278948,
          1.0628883551939872,
          2.038104032242237,
          2.381617764279615,
          1.9855014275207614,
          3.297981906213343,
          1.1165322041141525,
          2.1590692312348514,
          1.8306687919075526,
          3.049659989600776,
          1.3169513644196442,
          2.2471289675473183,
          1.180864345119072,
          2.2429409549483186,
          2.0758364877660473,
          2.1768145531539718,
          1.9144394684846116,
          3.3281277209341806,
          1.9937958219299439,
          1.068597231148018,
          1.8638322592585392,
          1.1678559325552846,
          2.422166440769683,
          2.8993257501949135,
          0.8789796019735295,
          1.6728204866539451,
          2.0678932812116977,
          3.4906750586891793,
          1.5141999135190443,
          0.7343877314172049,
          2.0898756623636072,
          2.2113949558640793,
          1.6367344182516845,
          5.211070867160943,
          1.349625651183363,
          2.23644086457356,
          2.7783447449875265,
          3.175133422754233,
          1.1343407805901171,
          2.694791878547053,
          1.0343671975986575,
          3.9812733634090685,
          2.01995250137613,
          1.160898098912267,
          1.5821343381404858,
          0.9966795464147945,
          2.1839986926465955,
          0.4604271971695978,
          2.838754240316006,
          1.6423839590757674,
          2.151096119712461,
          2.060554571676163,
          1.8197751078726312,
          2.266764079362453,
          1.4033313986648084,
          2.1139137029454638,
          1.0539454537133053,
          3.1424709675789435,
          2.362862465290926,
          1.2405754874165567,
          1.7992060115338278,
          1.905505944900817,
          4.124518556110958,
          1.8407612349758722,
          1.8834125499650012,
          1.6900515092350732,
          1.5646070854355387,
          2.093021455373612,
          3.072449552494016,
          0.8249670490449232,
          2.685261979439234,
          2.967929626515249,
          1.3571687535586963,
          2.409639041750583,
          2.8208088247149212,
          1.926424882398902,
          2.2855836530644935,
          1.4374237309931581,
          1.2463680959197354,
          1.8868706032896883,
          6.019282276109029,
          2.1605581239035803,
          1.8273807140599518,
          1.7306221058298925,
          1.3252034672923578,
          0.9591180803920922,
          2.190926986359422,
          1.1348735326192188,
          1.2187462546455436,
          2.841029033639973,
          1.420755628997363,
          2.709371117286746,
          2.001874611295693,
          1.4595582015379398,
          2.3783077584097576,
          5.515491181415081,
          0.823452379003895,
          1.2262769236639885,
          2.1971061051886376,
          2.553280005425135,
          1.7241351264080909,
          4.22037561924085,
          2.313221015461856,
          2.0958353561761434,
          1.8505101272795192,
          1.4643711546472313,
          4.711286707004881,
          1.8138855746373101,
          1.8892709873085236,
          1.1985296033602033,
          2.3187945883924623,
          2.4005011108993064,
          2.364254510756872,
          2.0360721783575517,
          2.899263679454331,
          1.511282673771988,
          2.4160363762756196,
          1.9677682249034478,
          1.647685347617037,
          1.8772085060659007,
          3.0420787188409038,
          2.748645093610571,
          1.3164376287120563,
          1.3845160286167066,
          1.3160577869215069
         ],
         "y0": " ",
         "yaxis": "y"
        },
        {
         "alignmentgroup": "True",
         "box": {
          "visible": false
         },
         "hovertemplate": "Conditions=%{x}<br>CV=%{y}<extra></extra>",
         "legendgroup": "FP21",
         "marker": {
          "color": "#7aa8e6"
         },
         "name": "FP21",
         "offsetgroup": "FP21",
         "orientation": "v",
         "scalegroup": "True",
         "showlegend": true,
         "type": "violin",
         "x": [
          "FP21",
          "FP21",
          "FP21",
          "FP21",
          "FP21",
          "FP21",
          "FP21",
          "FP21",
          "FP21",
          "FP21",
          "FP21",
          "FP21",
          "FP21",
          "FP21",
          "FP21",
          "FP21",
          "FP21",
          "FP21",
          "FP21",
          "FP21",
          "FP21",
          "FP21",
          "FP21",
          "FP21",
          "FP21",
          "FP21",
          "FP21",
          "FP21",
          "FP21",
          "FP21",
          "FP21",
          "FP21",
          "FP21",
          "FP21",
          "FP21",
          "FP21",
          "FP21",
          "FP21",
          "FP21",
          "FP21",
          "FP21",
          "FP21",
          "FP21",
          "FP21",
          "FP21",
          "FP21",
          "FP21",
          "FP21",
          "FP21",
          "FP21",
          "FP21",
          "FP21",
          "FP21",
          "FP21",
          "FP21",
          "FP21",
          "FP21",
          "FP21",
          "FP21",
          "FP21",
          "FP21",
          "FP21",
          "FP21",
          "FP21",
          "FP21",
          "FP21",
          "FP21",
          "FP21",
          "FP21",
          "FP21",
          "FP21",
          "FP21",
          "FP21",
          "FP21",
          "FP21",
          "FP21",
          "FP21",
          "FP21",
          "FP21",
          "FP21",
          "FP21",
          "FP21",
          "FP21",
          "FP21",
          "FP21",
          "FP21",
          "FP21",
          "FP21",
          "FP21",
          "FP21",
          "FP21",
          "FP21",
          "FP21",
          "FP21",
          "FP21",
          "FP21",
          "FP21",
          "FP21",
          "FP21",
          "FP21",
          "FP21",
          "FP21",
          "FP21",
          "FP21",
          "FP21",
          "FP21",
          "FP21",
          "FP21",
          "FP21",
          "FP21",
          "FP21",
          "FP21",
          "FP21",
          "FP21",
          "FP21",
          "FP21",
          "FP21",
          "FP21",
          "FP21",
          "FP21",
          "FP21",
          "FP21",
          "FP21",
          "FP21",
          "FP21",
          "FP21",
          "FP21",
          "FP21",
          "FP21",
          "FP21",
          "FP21",
          "FP21",
          "FP21",
          "FP21",
          "FP21",
          "FP21",
          "FP21",
          "FP21",
          "FP21",
          "FP21",
          "FP21",
          "FP21",
          "FP21",
          "FP21",
          "FP21",
          "FP21",
          "FP21",
          "FP21",
          "FP21",
          "FP21",
          "FP21",
          "FP21",
          "FP21",
          "FP21",
          "FP21",
          "FP21",
          "FP21",
          "FP21",
          "FP21",
          "FP21",
          "FP21",
          "FP21",
          "FP21",
          "FP21",
          "FP21",
          "FP21",
          "FP21",
          "FP21",
          "FP21",
          "FP21",
          "FP21",
          "FP21",
          "FP21",
          "FP21",
          "FP21",
          "FP21",
          "FP21",
          "FP21",
          "FP21",
          "FP21",
          "FP21",
          "FP21",
          "FP21",
          "FP21",
          "FP21",
          "FP21",
          "FP21",
          "FP21",
          "FP21",
          "FP21",
          "FP21",
          "FP21",
          "FP21",
          "FP21",
          "FP21",
          "FP21",
          "FP21",
          "FP21",
          "FP21",
          "FP21",
          "FP21",
          "FP21",
          "FP21",
          "FP21",
          "FP21",
          "FP21",
          "FP21",
          "FP21",
          "FP21",
          "FP21",
          "FP21",
          "FP21",
          "FP21",
          "FP21",
          "FP21",
          "FP21",
          "FP21",
          "FP21",
          "FP21",
          "FP21",
          "FP21",
          "FP21",
          "FP21",
          "FP21",
          "FP21",
          "FP21",
          "FP21",
          "FP21",
          "FP21",
          "FP21",
          "FP21",
          "FP21",
          "FP21",
          "FP21",
          "FP21",
          "FP21",
          "FP21",
          "FP21",
          "FP21",
          "FP21",
          "FP21",
          "FP21",
          "FP21",
          "FP21",
          "FP21",
          "FP21",
          "FP21",
          "FP21",
          "FP21",
          "FP21",
          "FP21",
          "FP21",
          "FP21",
          "FP21",
          "FP21",
          "FP21",
          "FP21",
          "FP21",
          "FP21",
          "FP21",
          "FP21",
          "FP21",
          "FP21",
          "FP21",
          "FP21",
          "FP21",
          "FP21",
          "FP21",
          "FP21",
          "FP21",
          "FP21",
          "FP21",
          "FP21",
          "FP21",
          "FP21",
          "FP21",
          "FP21",
          "FP21",
          "FP21",
          "FP21",
          "FP21",
          "FP21",
          "FP21",
          "FP21",
          "FP21",
          "FP21",
          "FP21",
          "FP21",
          "FP21",
          "FP21",
          "FP21",
          "FP21",
          "FP21",
          "FP21",
          "FP21",
          "FP21",
          "FP21",
          "FP21",
          "FP21",
          "FP21",
          "FP21",
          "FP21",
          "FP21",
          "FP21",
          "FP21",
          "FP21",
          "FP21",
          "FP21",
          "FP21",
          "FP21",
          "FP21",
          "FP21",
          "FP21",
          "FP21",
          "FP21",
          "FP21",
          "FP21",
          "FP21",
          "FP21",
          "FP21",
          "FP21",
          "FP21",
          "FP21",
          "FP21",
          "FP21",
          "FP21",
          "FP21",
          "FP21",
          "FP21",
          "FP21",
          "FP21",
          "FP21",
          "FP21",
          "FP21",
          "FP21",
          "FP21",
          "FP21",
          "FP21",
          "FP21",
          "FP21",
          "FP21",
          "FP21",
          "FP21",
          "FP21",
          "FP21",
          "FP21",
          "FP21",
          "FP21",
          "FP21",
          "FP21",
          "FP21",
          "FP21",
          "FP21",
          "FP21",
          "FP21",
          "FP21",
          "FP21",
          "FP21",
          "FP21",
          "FP21",
          "FP21",
          "FP21",
          "FP21",
          "FP21",
          "FP21",
          "FP21",
          "FP21",
          "FP21",
          "FP21",
          "FP21",
          "FP21",
          "FP21",
          "FP21",
          "FP21",
          "FP21",
          "FP21",
          "FP21",
          "FP21",
          "FP21",
          "FP21",
          "FP21",
          "FP21",
          "FP21",
          "FP21",
          "FP21",
          "FP21",
          "FP21",
          "FP21",
          "FP21",
          "FP21",
          "FP21",
          "FP21",
          "FP21",
          "FP21",
          "FP21",
          "FP21",
          "FP21",
          "FP21",
          "FP21",
          "FP21",
          "FP21",
          "FP21",
          "FP21",
          "FP21",
          "FP21",
          "FP21",
          "FP21",
          "FP21",
          "FP21",
          "FP21",
          "FP21",
          "FP21",
          "FP21",
          "FP21",
          "FP21",
          "FP21",
          "FP21",
          "FP21",
          "FP21",
          "FP21",
          "FP21",
          "FP21",
          "FP21",
          "FP21",
          "FP21",
          "FP21",
          "FP21",
          "FP21",
          "FP21",
          "FP21",
          "FP21",
          "FP21",
          "FP21",
          "FP21",
          "FP21",
          "FP21",
          "FP21",
          "FP21",
          "FP21",
          "FP21",
          "FP21",
          "FP21",
          "FP21",
          "FP21",
          "FP21",
          "FP21",
          "FP21",
          "FP21",
          "FP21",
          "FP21",
          "FP21",
          "FP21",
          "FP21",
          "FP21",
          "FP21",
          "FP21",
          "FP21",
          "FP21",
          "FP21",
          "FP21",
          "FP21"
         ],
         "x0": " ",
         "xaxis": "x",
         "y": [
          1.2118487740822348,
          1.289377923355089,
          1.5598287027485254,
          1.0928719506728444,
          1.9964243319580508,
          2.6233449992698743,
          1.6589707700646779,
          1.5110443611392623,
          0.8591594834208942,
          1.1824670979872518,
          1.2675731829047423,
          1.1316223132640035,
          2.2953799617493735,
          3.3225715258343365,
          3.0289573512197876,
          3.5132711588944328,
          1.669057233620984,
          1.163223947097178,
          1.060207863009276,
          1.498431113173074,
          3.4749954880838105,
          3.2980585542989176,
          2.6267692692275157,
          2.554721963913426,
          3.0679455259238053,
          2.3267812405966355,
          1.9647759516332692,
          3.0993544015892036,
          3.285688263071969,
          2.403673856744278,
          2.6776287708256374,
          1.7378193918556022,
          1.1534224651425125,
          3.2687908943275925,
          2.1127965885497058,
          4.5703798349489695,
          1.7011143071763133,
          2.222395447882632,
          1.0838448559407297,
          5.056194637580158,
          2.794449962223387,
          3.0628145779431355,
          0.9786332297632471,
          2.1720846907544016,
          4.712726380035199,
          1.8066979046389855,
          1.088602702856581,
          2.1579591707419716,
          2.7856958796753704,
          2.7902874695097757,
          2.4742471920166724,
          7.544210338404003,
          1.862568324823639,
          4.0423386481474735,
          0.869157192061019,
          1.940526042406416,
          0.7826802903208833,
          1.5470712265881499,
          0.9026001206463747,
          0.9101187828969367,
          1.3438336614412885,
          1.5910959990231264,
          2.284115365783639,
          3.3147210231917197,
          2.907906095653424,
          3.5007351548805907,
          1.558657333653297,
          5.125617429521637,
          2.4301458033717656,
          0.9901697271275143,
          2.555506180774263,
          2.285370578761433,
          1.7955579666868866,
          2.568398098405588,
          4.403348217829948,
          4.370008379113145,
          3.9773073830234096,
          3.085605581288812,
          1.1257835123760793,
          2.3793565341555296,
          3.30795789747031,
          1.659169621553614,
          1.6064539297691014,
          3.601961758289828,
          0.6127257745570123,
          0.9089413071616678,
          1.5060073133725047,
          1.9018936312762338,
          2.4972921339887337,
          3.5187107973621212,
          1.8733917397568716,
          7.088297729389175,
          1.1796048704302016,
          4.097967643588899,
          2.4351531282010375,
          0.8894396548502348,
          1.1798728070709519,
          2.8540705494650283,
          2.6682762516530367,
          0.6707243834381557,
          2.0491700861704882,
          1.2977875743952554,
          1.6373280726071748,
          1.4269815662556573,
          2.331003797816466,
          0.9228815385373266,
          3.2005365082434305,
          1.7023768492008866,
          2.9805203278114374,
          4.015316840913937,
          2.505437451720129,
          0.9865087625244684,
          1.8720347199607401,
          2.713970796209526,
          1.7852514669786386,
          2.3424276237238373,
          2.5468393973126995,
          1.7922776435539522,
          1.5264860845147077,
          0.9623769409209906,
          3.4171026459294285,
          1.2919628264020762,
          0.9715909913020814,
          3.3973598269410257,
          2.1767859565570506,
          3.686689933933117,
          1.1437293978338388,
          1.2274000594871977,
          1.402804520149745,
          2.3831196381392017,
          1.3011510474314045,
          1.1412455780145736,
          2.272847330308263,
          3.686876079874015,
          2.4032330465277885,
          1.610640036702445,
          1.1163171832115737,
          1.8948788459861254,
          0.6654779056281506,
          1.2438933829050922,
          2.510316839604757,
          3.2139769989748705,
          1.0949397295200298,
          1.6088652029972794,
          4.4852186979153315,
          1.3843542060106508,
          3.350920135167258,
          0.7515935235277257,
          1.8233063959298235,
          1.8533055764253483,
          1.4183950792314173,
          0.8008588897325107,
          1.0766499401769338,
          4.913345005938428,
          1.4911005404326605,
          1.8800146545856826,
          1.0927521358019046,
          1.2884759713680887,
          1.143518606814176,
          2.389108648802018,
          2.040713290492629,
          3.6603420426684012,
          2.532119542987498,
          2.3701531038487866,
          3.751391138302677,
          3.07583816835837,
          1.231721016711519,
          2.827934267466226,
          2.4753186284396,
          2.1152346308735437,
          5.564676903145956,
          8.197393441741802,
          1.4438619205871048,
          2.032802361597352,
          1.8222329813355889,
          1.8841202564480088,
          1.9832619072232427,
          1.4322927238572287,
          4.032769409370365,
          2.4622903593925294,
          1.515259415286383,
          2.0883156379117835,
          1.134676271113246,
          1.6005262887945713,
          1.9704606882254918,
          6.218290283903833,
          1.7654210762615579,
          1.7643216735748317,
          2.948446397216498,
          1.1711561269523292,
          1.7623648912565744,
          3.668901563124875,
          1.5562148565187957,
          1.6147753564856666,
          0.6989284412357991,
          1.3815143707533377,
          3.4799271078356844,
          1.4285924307800033,
          0.910521332012399,
          0.7635476132879573,
          2.7780050864745234,
          2.906724451630938,
          1.5142578527767598,
          3.198086773695182,
          2.0141082270233714,
          1.3099362975768216,
          2.093217759830337,
          1.8634553725278498,
          1.4980400345520755,
          2.969814934856166,
          1.8834423038149188,
          1.390935474242754,
          2.420696668257079,
          2.186531339092176,
          2.3758315384579944,
          1.154450477118962,
          4.459597151762747,
          1.3830026185936424,
          1.192929760209288,
          0.8110948628415469,
          1.0214910812535036,
          1.396023805336474,
          1.7323311331898505,
          1.276073115068502,
          3.895133007650432,
          1.9188209023646268,
          3.215883781299721,
          1.5501749812356724,
          6.851116841648934,
          1.3169400147986765,
          0.630094052059764,
          1.3144598380944765,
          1.0685264727897883,
          1.9160480676867122,
          3.2471765389605367,
          2.473593785961214,
          1.938029474353442,
          1.875205397259385,
          2.5840091332218824,
          2.1990539628583274,
          2.8064020679298207,
          2.2586042992919655,
          2.010397345224154,
          1.0064726306057818,
          1.6167737866617193,
          1.8084105712285743,
          2.429319217888836,
          1.3186076362625188,
          1.2612266101161,
          1.6724196216348137,
          2.227741290118887,
          1.1870722738098969,
          1.8704192482791993,
          1.49689194384327,
          2.883949080482686,
          1.7406365053851953,
          2.523316757201073,
          4.206909379074018,
          4.0513428297976395,
          0.808566242591339,
          2.59057681343236,
          1.280646813264774,
          1.3863256835459699,
          1.5382877686168877,
          2.054205375341559,
          3.362801702507606,
          2.5480341948157537,
          1.3339333307268937,
          1.6357787731604911,
          0.9940938598009187,
          1.7018119552907467,
          2.8119094562622733,
          0.6096672668835895,
          2.3684263469444566,
          0.5210355456142143,
          2.576718614764216,
          3.2592117087172405,
          2.0936778282822543,
          1.147530830026699,
          3.7006133192308104,
          1.6537402302267523,
          1.7077309502411824,
          2.2746542188437457,
          8.553641678308308,
          3.032902596357069,
          1.43774014625803,
          2.1038206442907246,
          1.0069440427032244,
          3.812766388974337,
          0.7721401885204245,
          1.4271969055803113,
          1.4721323503274932,
          1.4093804995486838,
          0.43684242387089234,
          1.4851577564108454,
          4.243833817652722,
          1.6222158581624735,
          2.6491318386336267,
          1.0923137740957667,
          1.8890144405644558,
          3.008861650390723,
          2.6234251152146477,
          2.171653503482526,
          0.9945433807859289,
          1.6701064643349683,
          2.207237954156307,
          2.5224227090244433,
          3.289110085581527,
          0.7351612412570935,
          2.43610979749442,
          1.4630188799664803,
          3.7807903389384236,
          0.7172990888553754,
          1.8211608885555195,
          1.2484947905254804,
          3.0604999210454014,
          0.75120915453796,
          2.7940082926555894,
          1.3167843019177399,
          3.9607944519470113,
          1.7474834185399812,
          3.1263301966200823,
          1.5743147600828709,
          0.6412078715049168,
          2.6047638448016657,
          2.251696988502049,
          6.648983408587718,
          2.571886098453701,
          1.5865950876404997,
          2.075262399566685,
          0.7615287336062296,
          1.278732639762433,
          2.2286530200721413,
          1.9944131025578355,
          2.3287731513123684,
          4.1240010980657615,
          3.6242723638094922,
          1.2814822423904813,
          0.8401929499376404,
          2.47033762803061,
          1.379415218427769,
          2.4960092462417904,
          1.7160606474837237,
          3.4645962404773702,
          2.536974886483121,
          1.1142955218983661,
          1.3068253077910195,
          1.7607297818302219,
          1.3309525930776311,
          1.204342041118537,
          1.566251470685416,
          1.1436697735965344,
          1.95798550134798,
          5.561602873885341,
          5.615843285247125,
          0.6403198225613829,
          2.1144486716189066,
          1.1404542607781059,
          1.3413639108365452,
          1.4020667463278353,
          2.0995735516698737,
          0.9839059857696446,
          2.5050785626421304,
          3.8300163074004994,
          0.9864903672468924,
          2.1939532763616842,
          1.2557222715028644,
          1.36370528947559,
          1.7450730217333885,
          1.5873192101258011,
          2.9609162312336497,
          1.483823734751327,
          2.36699087438081,
          2.3132171836444586,
          0.9391562975862334,
          2.782619032249874,
          1.4098913630744128,
          2.0519592442515164,
          2.454991281368006,
          8.603483452617587,
          2.275569025065034,
          1.5991272430805985,
          2.6151059884096295,
          2.199009607239908,
          2.6168578664000806,
          1.3501846312618728,
          1.440273719227638,
          2.05567261478038,
          2.1367441723588447,
          3.4017092125909594,
          0.5621544949351324,
          4.726412780875078,
          1.4912254151243423,
          3.100543574182406,
          2.0346370075154505,
          1.9786624667200405,
          2.0093656830758926,
          1.2094882944611807,
          3.993012956905212,
          3.2499383887175006,
          0.7680015775723303,
          2.213517645834079,
          3.481859772441815,
          1.2241097107989491,
          1.9603137050749921,
          1.6286564410983442,
          2.276863458405114,
          1.870363297030789,
          1.978493852342433,
          2.643981580451896,
          1.5965095280726305,
          3.100525441793622,
          4.3424626610206385,
          3.046850618771094,
          1.5673594004201195,
          2.2761248413498083,
          0.9551387457729525,
          2.9162792586517177,
          1.6057251740542258,
          1.561104747492334,
          2.1989176789780185,
          2.4059605158632804,
          2.0089655776781883,
          3.2892004744103662,
          2.7100035707564625,
          1.207145696126839,
          1.4475492466743602,
          3.5115088575376783,
          2.224248169376127,
          0.849473035517406,
          0.7003294098724488,
          2.0658596160211213,
          2.648243138970917,
          6.458207534766397,
          1.6577264267287963,
          4.09482952199665,
          1.0632535673166859,
          1.9254208358671376,
          3.536324014377492,
          2.0993564108272484,
          1.8765079089290906,
          1.7142826108540188,
          1.4793681429870966,
          1.7128237165439246,
          1.7901538145574376,
          1.821826272228784,
          1.7648457945927614,
          11.383581821951044,
          1.8801860524210474,
          1.8887571730673136,
          1.2421097437875304,
          4.542315425506025,
          1.8417562330371704,
          1.206985486827379,
          2.09464680651787,
          1.688634072763006,
          3.607894376827063,
          1.90710500084579,
          1.9220093300309018,
          1.9077950869584537,
          1.5085820372385659
         ],
         "y0": " ",
         "yaxis": "y"
        }
       ],
       "layout": {
        "annotations": [
         {
          "showarrow": false,
          "text": "1.9",
          "x": "FP21",
          "y": 2.2034552778397187
         },
         {
          "showarrow": false,
          "text": "2.0",
          "x": "FP22",
          "y": 2.262933458638965
         }
        ],
        "font": {
         "family": "Arial black",
         "size": 16
        },
        "height": 450,
        "legend": {
         "title": {
          "text": "Conditions"
         },
         "tracegroupgap": 0
        },
        "margin": {
         "t": 60
        },
        "paper_bgcolor": "white",
        "plot_bgcolor": "white",
        "showlegend": true,
        "template": {
         "data": {
          "bar": [
           {
            "error_x": {
             "color": "#2a3f5f"
            },
            "error_y": {
             "color": "#2a3f5f"
            },
            "marker": {
             "line": {
              "color": "#E5ECF6",
              "width": 0.5
             },
             "pattern": {
              "fillmode": "overlay",
              "size": 10,
              "solidity": 0.2
             }
            },
            "type": "bar"
           }
          ],
          "barpolar": [
           {
            "marker": {
             "line": {
              "color": "#E5ECF6",
              "width": 0.5
             },
             "pattern": {
              "fillmode": "overlay",
              "size": 10,
              "solidity": 0.2
             }
            },
            "type": "barpolar"
           }
          ],
          "carpet": [
           {
            "aaxis": {
             "endlinecolor": "#2a3f5f",
             "gridcolor": "white",
             "linecolor": "white",
             "minorgridcolor": "white",
             "startlinecolor": "#2a3f5f"
            },
            "baxis": {
             "endlinecolor": "#2a3f5f",
             "gridcolor": "white",
             "linecolor": "white",
             "minorgridcolor": "white",
             "startlinecolor": "#2a3f5f"
            },
            "type": "carpet"
           }
          ],
          "choropleth": [
           {
            "colorbar": {
             "outlinewidth": 0,
             "ticks": ""
            },
            "type": "choropleth"
           }
          ],
          "contour": [
           {
            "colorbar": {
             "outlinewidth": 0,
             "ticks": ""
            },
            "colorscale": [
             [
              0,
              "#0d0887"
             ],
             [
              0.1111111111111111,
              "#46039f"
             ],
             [
              0.2222222222222222,
              "#7201a8"
             ],
             [
              0.3333333333333333,
              "#9c179e"
             ],
             [
              0.4444444444444444,
              "#bd3786"
             ],
             [
              0.5555555555555556,
              "#d8576b"
             ],
             [
              0.6666666666666666,
              "#ed7953"
             ],
             [
              0.7777777777777778,
              "#fb9f3a"
             ],
             [
              0.8888888888888888,
              "#fdca26"
             ],
             [
              1,
              "#f0f921"
             ]
            ],
            "type": "contour"
           }
          ],
          "contourcarpet": [
           {
            "colorbar": {
             "outlinewidth": 0,
             "ticks": ""
            },
            "type": "contourcarpet"
           }
          ],
          "heatmap": [
           {
            "colorbar": {
             "outlinewidth": 0,
             "ticks": ""
            },
            "colorscale": [
             [
              0,
              "#0d0887"
             ],
             [
              0.1111111111111111,
              "#46039f"
             ],
             [
              0.2222222222222222,
              "#7201a8"
             ],
             [
              0.3333333333333333,
              "#9c179e"
             ],
             [
              0.4444444444444444,
              "#bd3786"
             ],
             [
              0.5555555555555556,
              "#d8576b"
             ],
             [
              0.6666666666666666,
              "#ed7953"
             ],
             [
              0.7777777777777778,
              "#fb9f3a"
             ],
             [
              0.8888888888888888,
              "#fdca26"
             ],
             [
              1,
              "#f0f921"
             ]
            ],
            "type": "heatmap"
           }
          ],
          "heatmapgl": [
           {
            "colorbar": {
             "outlinewidth": 0,
             "ticks": ""
            },
            "colorscale": [
             [
              0,
              "#0d0887"
             ],
             [
              0.1111111111111111,
              "#46039f"
             ],
             [
              0.2222222222222222,
              "#7201a8"
             ],
             [
              0.3333333333333333,
              "#9c179e"
             ],
             [
              0.4444444444444444,
              "#bd3786"
             ],
             [
              0.5555555555555556,
              "#d8576b"
             ],
             [
              0.6666666666666666,
              "#ed7953"
             ],
             [
              0.7777777777777778,
              "#fb9f3a"
             ],
             [
              0.8888888888888888,
              "#fdca26"
             ],
             [
              1,
              "#f0f921"
             ]
            ],
            "type": "heatmapgl"
           }
          ],
          "histogram": [
           {
            "marker": {
             "pattern": {
              "fillmode": "overlay",
              "size": 10,
              "solidity": 0.2
             }
            },
            "type": "histogram"
           }
          ],
          "histogram2d": [
           {
            "colorbar": {
             "outlinewidth": 0,
             "ticks": ""
            },
            "colorscale": [
             [
              0,
              "#0d0887"
             ],
             [
              0.1111111111111111,
              "#46039f"
             ],
             [
              0.2222222222222222,
              "#7201a8"
             ],
             [
              0.3333333333333333,
              "#9c179e"
             ],
             [
              0.4444444444444444,
              "#bd3786"
             ],
             [
              0.5555555555555556,
              "#d8576b"
             ],
             [
              0.6666666666666666,
              "#ed7953"
             ],
             [
              0.7777777777777778,
              "#fb9f3a"
             ],
             [
              0.8888888888888888,
              "#fdca26"
             ],
             [
              1,
              "#f0f921"
             ]
            ],
            "type": "histogram2d"
           }
          ],
          "histogram2dcontour": [
           {
            "colorbar": {
             "outlinewidth": 0,
             "ticks": ""
            },
            "colorscale": [
             [
              0,
              "#0d0887"
             ],
             [
              0.1111111111111111,
              "#46039f"
             ],
             [
              0.2222222222222222,
              "#7201a8"
             ],
             [
              0.3333333333333333,
              "#9c179e"
             ],
             [
              0.4444444444444444,
              "#bd3786"
             ],
             [
              0.5555555555555556,
              "#d8576b"
             ],
             [
              0.6666666666666666,
              "#ed7953"
             ],
             [
              0.7777777777777778,
              "#fb9f3a"
             ],
             [
              0.8888888888888888,
              "#fdca26"
             ],
             [
              1,
              "#f0f921"
             ]
            ],
            "type": "histogram2dcontour"
           }
          ],
          "mesh3d": [
           {
            "colorbar": {
             "outlinewidth": 0,
             "ticks": ""
            },
            "type": "mesh3d"
           }
          ],
          "parcoords": [
           {
            "line": {
             "colorbar": {
              "outlinewidth": 0,
              "ticks": ""
             }
            },
            "type": "parcoords"
           }
          ],
          "pie": [
           {
            "automargin": true,
            "type": "pie"
           }
          ],
          "scatter": [
           {
            "fillpattern": {
             "fillmode": "overlay",
             "size": 10,
             "solidity": 0.2
            },
            "type": "scatter"
           }
          ],
          "scatter3d": [
           {
            "line": {
             "colorbar": {
              "outlinewidth": 0,
              "ticks": ""
             }
            },
            "marker": {
             "colorbar": {
              "outlinewidth": 0,
              "ticks": ""
             }
            },
            "type": "scatter3d"
           }
          ],
          "scattercarpet": [
           {
            "marker": {
             "colorbar": {
              "outlinewidth": 0,
              "ticks": ""
             }
            },
            "type": "scattercarpet"
           }
          ],
          "scattergeo": [
           {
            "marker": {
             "colorbar": {
              "outlinewidth": 0,
              "ticks": ""
             }
            },
            "type": "scattergeo"
           }
          ],
          "scattergl": [
           {
            "marker": {
             "colorbar": {
              "outlinewidth": 0,
              "ticks": ""
             }
            },
            "type": "scattergl"
           }
          ],
          "scattermapbox": [
           {
            "marker": {
             "colorbar": {
              "outlinewidth": 0,
              "ticks": ""
             }
            },
            "type": "scattermapbox"
           }
          ],
          "scatterpolar": [
           {
            "marker": {
             "colorbar": {
              "outlinewidth": 0,
              "ticks": ""
             }
            },
            "type": "scatterpolar"
           }
          ],
          "scatterpolargl": [
           {
            "marker": {
             "colorbar": {
              "outlinewidth": 0,
              "ticks": ""
             }
            },
            "type": "scatterpolargl"
           }
          ],
          "scatterternary": [
           {
            "marker": {
             "colorbar": {
              "outlinewidth": 0,
              "ticks": ""
             }
            },
            "type": "scatterternary"
           }
          ],
          "surface": [
           {
            "colorbar": {
             "outlinewidth": 0,
             "ticks": ""
            },
            "colorscale": [
             [
              0,
              "#0d0887"
             ],
             [
              0.1111111111111111,
              "#46039f"
             ],
             [
              0.2222222222222222,
              "#7201a8"
             ],
             [
              0.3333333333333333,
              "#9c179e"
             ],
             [
              0.4444444444444444,
              "#bd3786"
             ],
             [
              0.5555555555555556,
              "#d8576b"
             ],
             [
              0.6666666666666666,
              "#ed7953"
             ],
             [
              0.7777777777777778,
              "#fb9f3a"
             ],
             [
              0.8888888888888888,
              "#fdca26"
             ],
             [
              1,
              "#f0f921"
             ]
            ],
            "type": "surface"
           }
          ],
          "table": [
           {
            "cells": {
             "fill": {
              "color": "#EBF0F8"
             },
             "line": {
              "color": "white"
             }
            },
            "header": {
             "fill": {
              "color": "#C8D4E3"
             },
             "line": {
              "color": "white"
             }
            },
            "type": "table"
           }
          ]
         },
         "layout": {
          "annotationdefaults": {
           "arrowcolor": "#2a3f5f",
           "arrowhead": 0,
           "arrowwidth": 1
          },
          "autotypenumbers": "strict",
          "coloraxis": {
           "colorbar": {
            "outlinewidth": 0,
            "ticks": ""
           }
          },
          "colorscale": {
           "diverging": [
            [
             0,
             "#8e0152"
            ],
            [
             0.1,
             "#c51b7d"
            ],
            [
             0.2,
             "#de77ae"
            ],
            [
             0.3,
             "#f1b6da"
            ],
            [
             0.4,
             "#fde0ef"
            ],
            [
             0.5,
             "#f7f7f7"
            ],
            [
             0.6,
             "#e6f5d0"
            ],
            [
             0.7,
             "#b8e186"
            ],
            [
             0.8,
             "#7fbc41"
            ],
            [
             0.9,
             "#4d9221"
            ],
            [
             1,
             "#276419"
            ]
           ],
           "sequential": [
            [
             0,
             "#0d0887"
            ],
            [
             0.1111111111111111,
             "#46039f"
            ],
            [
             0.2222222222222222,
             "#7201a8"
            ],
            [
             0.3333333333333333,
             "#9c179e"
            ],
            [
             0.4444444444444444,
             "#bd3786"
            ],
            [
             0.5555555555555556,
             "#d8576b"
            ],
            [
             0.6666666666666666,
             "#ed7953"
            ],
            [
             0.7777777777777778,
             "#fb9f3a"
            ],
            [
             0.8888888888888888,
             "#fdca26"
            ],
            [
             1,
             "#f0f921"
            ]
           ],
           "sequentialminus": [
            [
             0,
             "#0d0887"
            ],
            [
             0.1111111111111111,
             "#46039f"
            ],
            [
             0.2222222222222222,
             "#7201a8"
            ],
            [
             0.3333333333333333,
             "#9c179e"
            ],
            [
             0.4444444444444444,
             "#bd3786"
            ],
            [
             0.5555555555555556,
             "#d8576b"
            ],
            [
             0.6666666666666666,
             "#ed7953"
            ],
            [
             0.7777777777777778,
             "#fb9f3a"
            ],
            [
             0.8888888888888888,
             "#fdca26"
            ],
            [
             1,
             "#f0f921"
            ]
           ]
          },
          "colorway": [
           "#636efa",
           "#EF553B",
           "#00cc96",
           "#ab63fa",
           "#FFA15A",
           "#19d3f3",
           "#FF6692",
           "#B6E880",
           "#FF97FF",
           "#FECB52"
          ],
          "font": {
           "color": "#2a3f5f"
          },
          "geo": {
           "bgcolor": "white",
           "lakecolor": "white",
           "landcolor": "#E5ECF6",
           "showlakes": true,
           "showland": true,
           "subunitcolor": "white"
          },
          "hoverlabel": {
           "align": "left"
          },
          "hovermode": "closest",
          "mapbox": {
           "style": "light"
          },
          "paper_bgcolor": "white",
          "plot_bgcolor": "#E5ECF6",
          "polar": {
           "angularaxis": {
            "gridcolor": "white",
            "linecolor": "white",
            "ticks": ""
           },
           "bgcolor": "#E5ECF6",
           "radialaxis": {
            "gridcolor": "white",
            "linecolor": "white",
            "ticks": ""
           }
          },
          "scene": {
           "xaxis": {
            "backgroundcolor": "#E5ECF6",
            "gridcolor": "white",
            "gridwidth": 2,
            "linecolor": "white",
            "showbackground": true,
            "ticks": "",
            "zerolinecolor": "white"
           },
           "yaxis": {
            "backgroundcolor": "#E5ECF6",
            "gridcolor": "white",
            "gridwidth": 2,
            "linecolor": "white",
            "showbackground": true,
            "ticks": "",
            "zerolinecolor": "white"
           },
           "zaxis": {
            "backgroundcolor": "#E5ECF6",
            "gridcolor": "white",
            "gridwidth": 2,
            "linecolor": "white",
            "showbackground": true,
            "ticks": "",
            "zerolinecolor": "white"
           }
          },
          "shapedefaults": {
           "line": {
            "color": "#2a3f5f"
           }
          },
          "ternary": {
           "aaxis": {
            "gridcolor": "white",
            "linecolor": "white",
            "ticks": ""
           },
           "baxis": {
            "gridcolor": "white",
            "linecolor": "white",
            "ticks": ""
           },
           "bgcolor": "#E5ECF6",
           "caxis": {
            "gridcolor": "white",
            "linecolor": "white",
            "ticks": ""
           }
          },
          "title": {
           "x": 0.05
          },
          "xaxis": {
           "automargin": true,
           "gridcolor": "white",
           "linecolor": "white",
           "ticks": "",
           "title": {
            "standoff": 15
           },
           "zerolinecolor": "white",
           "zerolinewidth": 2
          },
          "yaxis": {
           "automargin": true,
           "gridcolor": "white",
           "linecolor": "white",
           "ticks": "",
           "title": {
            "standoff": 15
           },
           "zerolinecolor": "white",
           "zerolinewidth": 2
          }
         }
        },
        "violinmode": "overlay",
        "width": 700,
        "xaxis": {
         "anchor": "y",
         "categoryarray": [
          "FP22",
          "FP21"
         ],
         "categoryorder": "array",
         "domain": [
          0,
          1
         ],
         "linecolor": "black",
         "linewidth": 1,
         "showline": true,
         "title": {
          "text": "Conditions (protein)"
         }
        },
        "yaxis": {
         "anchor": "x",
         "domain": [
          0,
          1
         ],
         "linecolor": "black",
         "linewidth": 1,
         "range": [
          -10,
          400
         ],
         "showline": true,
         "title": {
          "text": "CV of Abundance (%)"
         }
        }
       }
      }
     },
     "metadata": {},
     "output_type": "display_data"
    }
   ],
   "source": [
    "# CV violin plot\n",
    "\n",
    "# print(data_obj[\"protein_other_info\"])\n",
    "plot_options={    \n",
    "        \"median label\": \"True\", #only works for total and MS2, can be found in CV_summary if you set WRITE_OUTPUT = True\n",
    "        \"box\": False,\n",
    "        \"X Title\": \"Conditions (protein)\",\n",
    "        \"Y Title\": \"CV of Abundance (%)\",\n",
    "        \"color\": [\"#3E6990\", \"#7aa8e6\",\"#C6878F\", \"#fac8d3\",\"#AABD8C\", \"#E9E3B4\",  \"#F39B6D\", \"#C6878F\", \"pink\",\n",
    "                  \"orange\", \"brown\", \"pink\", \"gray\", \"olive\", \"cyan\", \"black\",\"red\",\n",
    "                  \"yellow\",\"green\",\"blue\",\"indigo\",\"violet\"],\n",
    "        \"width\": 700,\n",
    "        \"height\": 450,\n",
    "        \"font\": dict(size=16, family=\"Arial black\"),\n",
    "        \"ylimits\": [-10, 400],\n",
    "        \"CV mode\": \"total\",#grouped, total, MS2, grouped_stacked, stacked\n",
    "        \"Group By X\": \"Conditions\", #ID_Mode does MS2 vs MBR\n",
    "        \"Group By Color\": \"Acquisition Mode\",#ID_Mode does MS2 vs MBR\n",
    "        \"Group By Stack\": \"ID_Mode\" #ID_Mode does MS2 vs MBR\n",
    "    }\n",
    "plot_options[\"plot_type\"] = 1 # 1 is protein, 2 is peptide\n",
    "figure, _, _ =plotter.CV_plots(data_obj, plot_options, saved_settings)\n",
    "figure.show()\n"
   ]
  },
  {
   "cell_type": "code",
   "execution_count": 9,
   "id": "5e64d89b",
   "metadata": {},
   "outputs": [
    {
     "name": "stdout",
     "output_type": "stream",
     "text": [
      "    Accession 0-0-0 0-0-1 0-0-2 0-0-3 0-0-4 0-0-5 0-0-6 0-0-7 0-0-8  ...  \\\n",
      "0       RPSA2   MS2   MS2   MS2   MS2   MS2   MS2   MS2   MS2   MS2  ...   \n",
      "1      EIF3CL   nan   nan   nan   nan   nan   nan   nan   nan   nan  ...   \n",
      "2        NACA   nan   nan   nan   nan   nan   nan   nan   nan   nan  ...   \n",
      "3     SUMO1P1   MS2   MS2   MS2   MS2   MS2   MS2   MS2   MS2   MS2  ...   \n",
      "4        AGPS   nan   nan   nan   nan   nan   nan   nan   nan   nan  ...   \n",
      "..        ...   ...   ...   ...   ...   ...   ...   ...   ...   ...  ...   \n",
      "672     CHTOP   MS2   MS2   nan   MS2   nan   MS2   nan   nan   nan  ...   \n",
      "673      TLN1   MS2   MS2   MS2   nan   MS2   MS2   MS2   nan   MS2  ...   \n",
      "674     HYOU1   MS2   MS2   MS2   MS2   MS2   MS2   MS2   MS2   MS2  ...   \n",
      "675   SUPT16H   MS2   MS2   MS2   MS2   MS2   MS2   MS2   MS2   MS2  ...   \n",
      "676     RBM8A   MS2   MS2   MS2   MS2   MS2   MS2   MS2   MS2   MS2  ...   \n",
      "\n",
      "    0-2-0 0-2-1 0-2-2 0-2-3 0-2-4 0-2-5 0-2-6 0-2-7 0-2-8 0-2-9  \n",
      "0     MS2   MS2   MS2   MS2   MS2   MS2   MS2   MS2   MS2   nan  \n",
      "1     MS2   MS2   MS2   nan   nan   nan   nan   nan   nan   nan  \n",
      "2     MS2   MS2   MS2   MS2   MS2   MS2   MS2   MS2   MS2   nan  \n",
      "3     nan   nan   nan   nan   nan   nan   nan   nan   nan   nan  \n",
      "4     nan   nan   nan   nan   nan   nan   nan   nan   nan   nan  \n",
      "..    ...   ...   ...   ...   ...   ...   ...   ...   ...   ...  \n",
      "672   nan   nan   nan   nan   nan   nan   nan   nan   nan   nan  \n",
      "673   nan   nan   nan   nan   nan   nan   nan   nan   nan   nan  \n",
      "674   MS2   MS2   MS2   MS2   MS2   MS2   MS2   MS2   MS2   nan  \n",
      "675   MS2   MS2   MS2   MS2   MS2   MS2   MS2   MS2   MS2   nan  \n",
      "676   MS2   MS2   MS2   MS2   MS2   MS2   MS2   MS2   MS2   nan  \n",
      "\n",
      "[677 rows x 31 columns]\n",
      "    Accession 0-1-0 0-1-1 0-1-2 0-1-3 0-1-4 0-1-5 0-1-6 0-1-7 0-1-8 0-1-9\n",
      "0       RPSA2   MS2   MS2   MS2   MS2   MS2   MS2   MS2   MS2   MS2   nan\n",
      "1      EIF3CL   MS2   MS2   MS2   MS2   MS2   MS2   MS2   MS2   MS2   nan\n",
      "2        NACA   MS2   MS2   MS2   MS2   MS2   MS2   MS2   MS2   MS2   nan\n",
      "3     SUMO1P1   nan   nan   nan   nan   nan   nan   nan   nan   nan   nan\n",
      "4        AGPS   MS2   MS2   MS2   MS2   MS2   MS2   MS2   MS2   MS2   nan\n",
      "..        ...   ...   ...   ...   ...   ...   ...   ...   ...   ...   ...\n",
      "672     CHTOP   nan   nan   nan   nan   nan   nan   nan   nan   nan   nan\n",
      "673      TLN1   nan   nan   nan   nan   nan   nan   nan   nan   nan   nan\n",
      "674     HYOU1   nan   nan   nan   nan   nan   nan   nan   nan   nan   nan\n",
      "675   SUPT16H   nan   nan   nan   nan   nan   nan   nan   nan   nan   nan\n",
      "676     RBM8A   MS2   MS2   MS2   MS2   MS2   MS2   MS2   MS2   MS2   nan\n",
      "\n",
      "[677 rows x 11 columns]\n",
      "    Accession 0-0-0 0-0-1 0-0-2 0-0-3 0-0-4 0-0-5 0-0-6 0-0-7 0-0-8  ...  \\\n",
      "0       RPSA2   MS2   MS2   MS2   MS2   MS2   MS2   MS2   MS2   MS2  ...   \n",
      "1      EIF3CL   nan   nan   nan   nan   nan   nan   nan   nan   nan  ...   \n",
      "2        NACA   nan   nan   nan   nan   nan   nan   nan   nan   nan  ...   \n",
      "3     SUMO1P1   MS2   MS2   MS2   MS2   MS2   MS2   MS2   MS2   MS2  ...   \n",
      "4        AGPS   nan   nan   nan   nan   nan   nan   nan   nan   nan  ...   \n",
      "..        ...   ...   ...   ...   ...   ...   ...   ...   ...   ...  ...   \n",
      "672     CHTOP   MS2   MS2   nan   MS2   nan   MS2   nan   nan   nan  ...   \n",
      "673      TLN1   MS2   MS2   MS2   nan   MS2   MS2   MS2   nan   MS2  ...   \n",
      "674     HYOU1   MS2   MS2   MS2   MS2   MS2   MS2   MS2   MS2   MS2  ...   \n",
      "675   SUPT16H   MS2   MS2   MS2   MS2   MS2   MS2   MS2   MS2   MS2  ...   \n",
      "676     RBM8A   MS2   MS2   MS2   MS2   MS2   MS2   MS2   MS2   MS2  ...   \n",
      "\n",
      "    0-2-0 0-2-1 0-2-2 0-2-3 0-2-4 0-2-5 0-2-6 0-2-7 0-2-8 0-2-9  \n",
      "0     MS2   MS2   MS2   MS2   MS2   MS2   MS2   MS2   MS2   nan  \n",
      "1     MS2   MS2   MS2   nan   nan   nan   nan   nan   nan   nan  \n",
      "2     MS2   MS2   MS2   MS2   MS2   MS2   MS2   MS2   MS2   nan  \n",
      "3     nan   nan   nan   nan   nan   nan   nan   nan   nan   nan  \n",
      "4     nan   nan   nan   nan   nan   nan   nan   nan   nan   nan  \n",
      "..    ...   ...   ...   ...   ...   ...   ...   ...   ...   ...  \n",
      "672   nan   nan   nan   nan   nan   nan   nan   nan   nan   nan  \n",
      "673   nan   nan   nan   nan   nan   nan   nan   nan   nan   nan  \n",
      "674   MS2   MS2   MS2   MS2   MS2   MS2   MS2   MS2   MS2   nan  \n",
      "675   MS2   MS2   MS2   MS2   MS2   MS2   MS2   MS2   MS2   nan  \n",
      "676   MS2   MS2   MS2   MS2   MS2   MS2   MS2   MS2   MS2   nan  \n",
      "\n",
      "[677 rows x 31 columns]\n",
      "    Accession 0-0-0 0-0-1 0-0-2 0-0-3 0-0-4 0-0-5 0-0-6 0-0-7 0-0-8 0-0-9\n",
      "0       RPSA2   MS2   MS2   MS2   MS2   MS2   MS2   MS2   MS2   MS2   nan\n",
      "1      EIF3CL   nan   nan   nan   nan   nan   nan   nan   nan   nan   nan\n",
      "2        NACA   nan   nan   nan   nan   nan   nan   nan   nan   nan   nan\n",
      "3     SUMO1P1   MS2   MS2   MS2   MS2   MS2   MS2   MS2   MS2   MS2   nan\n",
      "4        AGPS   nan   nan   nan   nan   nan   nan   nan   nan   nan   nan\n",
      "..        ...   ...   ...   ...   ...   ...   ...   ...   ...   ...   ...\n",
      "672     CHTOP   MS2   MS2   nan   MS2   nan   MS2   nan   nan   nan   nan\n",
      "673      TLN1   MS2   MS2   MS2   nan   MS2   MS2   MS2   nan   MS2   nan\n",
      "674     HYOU1   MS2   MS2   MS2   MS2   MS2   MS2   MS2   MS2   MS2   nan\n",
      "675   SUPT16H   MS2   MS2   MS2   MS2   MS2   MS2   MS2   MS2   MS2   nan\n",
      "676     RBM8A   MS2   MS2   MS2   MS2   MS2   MS2   MS2   MS2   MS2   nan\n",
      "\n",
      "[677 rows x 11 columns]\n",
      "(677, 11)\n",
      "    Accession 0-1-0 0-1-1 0-1-2 0-1-3 0-1-4 0-1-5 0-1-6 0-1-7 0-1-8 0-1-9\n",
      "0       RPSA2   MS2   MS2   MS2   MS2   MS2   MS2   MS2   MS2   MS2   nan\n",
      "1      EIF3CL   MS2   MS2   MS2   MS2   MS2   MS2   MS2   MS2   MS2   nan\n",
      "2        NACA   MS2   MS2   MS2   MS2   MS2   MS2   MS2   MS2   MS2   nan\n",
      "4        AGPS   MS2   MS2   MS2   MS2   MS2   MS2   MS2   MS2   MS2   nan\n",
      "6      PSMD11   MS2   MS2   MS2   MS2   MS2   MS2   MS2   MS2   MS2   nan\n",
      "..        ...   ...   ...   ...   ...   ...   ...   ...   ...   ...   ...\n",
      "667    THRAP3   MS2   MS2   MS2   MS2   MS2   MS2   MS2   MS2   MS2   nan\n",
      "668     CAB39   MS2   MS2   MS2   MS2   MS2   nan   MS2   MS2   MS2   nan\n",
      "669    LUC7L2   MS2   MS2   MS2   MS2   MS2   MS2   MS2   MS2   MS2   nan\n",
      "671     STRAP   MS2   MS2   MS2   MS2   MS2   MS2   MS2   MS2   MS2   nan\n",
      "676     RBM8A   MS2   MS2   MS2   MS2   MS2   MS2   MS2   MS2   MS2   nan\n",
      "\n",
      "[445 rows x 11 columns]\n",
      "(677, 11)\n",
      "    Accession 0-0-0 0-0-1 0-0-2 0-0-3 0-0-4 0-0-5 0-0-6 0-0-7 0-0-8 0-0-9\n",
      "0       RPSA2   MS2   MS2   MS2   MS2   MS2   MS2   MS2   MS2   MS2   nan\n",
      "3     SUMO1P1   MS2   MS2   MS2   MS2   MS2   MS2   MS2   MS2   MS2   nan\n",
      "5        SMAP   MS2   MS2   MS2   MS2   MS2   MS2   nan   nan   MS2   nan\n",
      "6      PSMD11   MS2   MS2   MS2   MS2   MS2   MS2   MS2   MS2   MS2   nan\n",
      "9        IPO5   MS2   MS2   MS2   MS2   MS2   MS2   MS2   MS2   MS2   nan\n",
      "..        ...   ...   ...   ...   ...   ...   ...   ...   ...   ...   ...\n",
      "670     PPIL1   MS2   MS2   MS2   MS2   MS2   MS2   MS2   MS2   MS2   nan\n",
      "673      TLN1   MS2   MS2   MS2   nan   MS2   MS2   MS2   nan   MS2   nan\n",
      "674     HYOU1   MS2   MS2   MS2   MS2   MS2   MS2   MS2   MS2   MS2   nan\n",
      "675   SUPT16H   MS2   MS2   MS2   MS2   MS2   MS2   MS2   MS2   MS2   nan\n",
      "676     RBM8A   MS2   MS2   MS2   MS2   MS2   MS2   MS2   MS2   MS2   nan\n",
      "\n",
      "[461 rows x 11 columns]\n",
      "Downloading links...\n"
     ]
    },
    {
     "data": {
      "application/vnd.plotly.v1+json": {
       "config": {
        "plotlyServerURL": "https://plot.ly"
       },
       "data": [],
       "layout": {
        "annotations": [
         {
          "showarrow": false,
          "text": "FP22",
          "x": -0.11738935009032479,
          "xref": "x",
          "y": -0.5412533012414618,
          "yref": "y"
         },
         {
          "showarrow": false,
          "text": "FP21",
          "x": 0.11331509932797078,
          "xref": "x",
          "y": -0.5500139057414234,
          "yref": "y"
         },
         {
          "showarrow": false,
          "text": "125",
          "x": -0.49806767400976115,
          "xref": "x",
          "y": -5.364323129736888e-19,
          "yref": "y"
         },
         {
          "showarrow": false,
          "text": "141",
          "x": 0.49399342324740714,
          "xref": "x",
          "y": 0,
          "yref": "y"
         },
         {
          "showarrow": false,
          "text": "320",
          "x": -0.006417427631157796,
          "xref": "x",
          "y": 3.06413273393519e-17,
          "yref": "y"
         }
        ],
        "height": 400,
        "margin": {
         "b": 0,
         "l": 10,
         "pad": 0,
         "r": 10,
         "t": 40
        },
        "plot_bgcolor": "white",
        "shapes": [
         {
          "fillcolor": "#3E6990",
          "line": {
           "color": "#3E6990"
          },
          "opacity": 0.75,
          "type": "circle",
          "x0": -0.6090395964689281,
          "x1": 0.3742608962882786,
          "xref": "x",
          "y0": -0.4916502463786034,
          "y1": 0.4916502463786034,
          "yref": "y"
         },
         {
          "fillcolor": "#C6878F",
          "line": {
           "color": "#C6878F"
          },
          "opacity": 0.75,
          "type": "circle",
          "x0": -0.38709575155059417,
          "x1": 0.6137259502065358,
          "xref": "x",
          "y0": -0.500410850878565,
          "y1": 0.500410850878565,
          "yref": "y"
         }
        ],
        "template": {
         "data": {
          "bar": [
           {
            "error_x": {
             "color": "#2a3f5f"
            },
            "error_y": {
             "color": "#2a3f5f"
            },
            "marker": {
             "line": {
              "color": "#E5ECF6",
              "width": 0.5
             },
             "pattern": {
              "fillmode": "overlay",
              "size": 10,
              "solidity": 0.2
             }
            },
            "type": "bar"
           }
          ],
          "barpolar": [
           {
            "marker": {
             "line": {
              "color": "#E5ECF6",
              "width": 0.5
             },
             "pattern": {
              "fillmode": "overlay",
              "size": 10,
              "solidity": 0.2
             }
            },
            "type": "barpolar"
           }
          ],
          "carpet": [
           {
            "aaxis": {
             "endlinecolor": "#2a3f5f",
             "gridcolor": "white",
             "linecolor": "white",
             "minorgridcolor": "white",
             "startlinecolor": "#2a3f5f"
            },
            "baxis": {
             "endlinecolor": "#2a3f5f",
             "gridcolor": "white",
             "linecolor": "white",
             "minorgridcolor": "white",
             "startlinecolor": "#2a3f5f"
            },
            "type": "carpet"
           }
          ],
          "choropleth": [
           {
            "colorbar": {
             "outlinewidth": 0,
             "ticks": ""
            },
            "type": "choropleth"
           }
          ],
          "contour": [
           {
            "colorbar": {
             "outlinewidth": 0,
             "ticks": ""
            },
            "colorscale": [
             [
              0,
              "#0d0887"
             ],
             [
              0.1111111111111111,
              "#46039f"
             ],
             [
              0.2222222222222222,
              "#7201a8"
             ],
             [
              0.3333333333333333,
              "#9c179e"
             ],
             [
              0.4444444444444444,
              "#bd3786"
             ],
             [
              0.5555555555555556,
              "#d8576b"
             ],
             [
              0.6666666666666666,
              "#ed7953"
             ],
             [
              0.7777777777777778,
              "#fb9f3a"
             ],
             [
              0.8888888888888888,
              "#fdca26"
             ],
             [
              1,
              "#f0f921"
             ]
            ],
            "type": "contour"
           }
          ],
          "contourcarpet": [
           {
            "colorbar": {
             "outlinewidth": 0,
             "ticks": ""
            },
            "type": "contourcarpet"
           }
          ],
          "heatmap": [
           {
            "colorbar": {
             "outlinewidth": 0,
             "ticks": ""
            },
            "colorscale": [
             [
              0,
              "#0d0887"
             ],
             [
              0.1111111111111111,
              "#46039f"
             ],
             [
              0.2222222222222222,
              "#7201a8"
             ],
             [
              0.3333333333333333,
              "#9c179e"
             ],
             [
              0.4444444444444444,
              "#bd3786"
             ],
             [
              0.5555555555555556,
              "#d8576b"
             ],
             [
              0.6666666666666666,
              "#ed7953"
             ],
             [
              0.7777777777777778,
              "#fb9f3a"
             ],
             [
              0.8888888888888888,
              "#fdca26"
             ],
             [
              1,
              "#f0f921"
             ]
            ],
            "type": "heatmap"
           }
          ],
          "heatmapgl": [
           {
            "colorbar": {
             "outlinewidth": 0,
             "ticks": ""
            },
            "colorscale": [
             [
              0,
              "#0d0887"
             ],
             [
              0.1111111111111111,
              "#46039f"
             ],
             [
              0.2222222222222222,
              "#7201a8"
             ],
             [
              0.3333333333333333,
              "#9c179e"
             ],
             [
              0.4444444444444444,
              "#bd3786"
             ],
             [
              0.5555555555555556,
              "#d8576b"
             ],
             [
              0.6666666666666666,
              "#ed7953"
             ],
             [
              0.7777777777777778,
              "#fb9f3a"
             ],
             [
              0.8888888888888888,
              "#fdca26"
             ],
             [
              1,
              "#f0f921"
             ]
            ],
            "type": "heatmapgl"
           }
          ],
          "histogram": [
           {
            "marker": {
             "pattern": {
              "fillmode": "overlay",
              "size": 10,
              "solidity": 0.2
             }
            },
            "type": "histogram"
           }
          ],
          "histogram2d": [
           {
            "colorbar": {
             "outlinewidth": 0,
             "ticks": ""
            },
            "colorscale": [
             [
              0,
              "#0d0887"
             ],
             [
              0.1111111111111111,
              "#46039f"
             ],
             [
              0.2222222222222222,
              "#7201a8"
             ],
             [
              0.3333333333333333,
              "#9c179e"
             ],
             [
              0.4444444444444444,
              "#bd3786"
             ],
             [
              0.5555555555555556,
              "#d8576b"
             ],
             [
              0.6666666666666666,
              "#ed7953"
             ],
             [
              0.7777777777777778,
              "#fb9f3a"
             ],
             [
              0.8888888888888888,
              "#fdca26"
             ],
             [
              1,
              "#f0f921"
             ]
            ],
            "type": "histogram2d"
           }
          ],
          "histogram2dcontour": [
           {
            "colorbar": {
             "outlinewidth": 0,
             "ticks": ""
            },
            "colorscale": [
             [
              0,
              "#0d0887"
             ],
             [
              0.1111111111111111,
              "#46039f"
             ],
             [
              0.2222222222222222,
              "#7201a8"
             ],
             [
              0.3333333333333333,
              "#9c179e"
             ],
             [
              0.4444444444444444,
              "#bd3786"
             ],
             [
              0.5555555555555556,
              "#d8576b"
             ],
             [
              0.6666666666666666,
              "#ed7953"
             ],
             [
              0.7777777777777778,
              "#fb9f3a"
             ],
             [
              0.8888888888888888,
              "#fdca26"
             ],
             [
              1,
              "#f0f921"
             ]
            ],
            "type": "histogram2dcontour"
           }
          ],
          "mesh3d": [
           {
            "colorbar": {
             "outlinewidth": 0,
             "ticks": ""
            },
            "type": "mesh3d"
           }
          ],
          "parcoords": [
           {
            "line": {
             "colorbar": {
              "outlinewidth": 0,
              "ticks": ""
             }
            },
            "type": "parcoords"
           }
          ],
          "pie": [
           {
            "automargin": true,
            "type": "pie"
           }
          ],
          "scatter": [
           {
            "fillpattern": {
             "fillmode": "overlay",
             "size": 10,
             "solidity": 0.2
            },
            "type": "scatter"
           }
          ],
          "scatter3d": [
           {
            "line": {
             "colorbar": {
              "outlinewidth": 0,
              "ticks": ""
             }
            },
            "marker": {
             "colorbar": {
              "outlinewidth": 0,
              "ticks": ""
             }
            },
            "type": "scatter3d"
           }
          ],
          "scattercarpet": [
           {
            "marker": {
             "colorbar": {
              "outlinewidth": 0,
              "ticks": ""
             }
            },
            "type": "scattercarpet"
           }
          ],
          "scattergeo": [
           {
            "marker": {
             "colorbar": {
              "outlinewidth": 0,
              "ticks": ""
             }
            },
            "type": "scattergeo"
           }
          ],
          "scattergl": [
           {
            "marker": {
             "colorbar": {
              "outlinewidth": 0,
              "ticks": ""
             }
            },
            "type": "scattergl"
           }
          ],
          "scattermapbox": [
           {
            "marker": {
             "colorbar": {
              "outlinewidth": 0,
              "ticks": ""
             }
            },
            "type": "scattermapbox"
           }
          ],
          "scatterpolar": [
           {
            "marker": {
             "colorbar": {
              "outlinewidth": 0,
              "ticks": ""
             }
            },
            "type": "scatterpolar"
           }
          ],
          "scatterpolargl": [
           {
            "marker": {
             "colorbar": {
              "outlinewidth": 0,
              "ticks": ""
             }
            },
            "type": "scatterpolargl"
           }
          ],
          "scatterternary": [
           {
            "marker": {
             "colorbar": {
              "outlinewidth": 0,
              "ticks": ""
             }
            },
            "type": "scatterternary"
           }
          ],
          "surface": [
           {
            "colorbar": {
             "outlinewidth": 0,
             "ticks": ""
            },
            "colorscale": [
             [
              0,
              "#0d0887"
             ],
             [
              0.1111111111111111,
              "#46039f"
             ],
             [
              0.2222222222222222,
              "#7201a8"
             ],
             [
              0.3333333333333333,
              "#9c179e"
             ],
             [
              0.4444444444444444,
              "#bd3786"
             ],
             [
              0.5555555555555556,
              "#d8576b"
             ],
             [
              0.6666666666666666,
              "#ed7953"
             ],
             [
              0.7777777777777778,
              "#fb9f3a"
             ],
             [
              0.8888888888888888,
              "#fdca26"
             ],
             [
              1,
              "#f0f921"
             ]
            ],
            "type": "surface"
           }
          ],
          "table": [
           {
            "cells": {
             "fill": {
              "color": "#EBF0F8"
             },
             "line": {
              "color": "white"
             }
            },
            "header": {
             "fill": {
              "color": "#C8D4E3"
             },
             "line": {
              "color": "white"
             }
            },
            "type": "table"
           }
          ]
         },
         "layout": {
          "annotationdefaults": {
           "arrowcolor": "#2a3f5f",
           "arrowhead": 0,
           "arrowwidth": 1
          },
          "autotypenumbers": "strict",
          "coloraxis": {
           "colorbar": {
            "outlinewidth": 0,
            "ticks": ""
           }
          },
          "colorscale": {
           "diverging": [
            [
             0,
             "#8e0152"
            ],
            [
             0.1,
             "#c51b7d"
            ],
            [
             0.2,
             "#de77ae"
            ],
            [
             0.3,
             "#f1b6da"
            ],
            [
             0.4,
             "#fde0ef"
            ],
            [
             0.5,
             "#f7f7f7"
            ],
            [
             0.6,
             "#e6f5d0"
            ],
            [
             0.7,
             "#b8e186"
            ],
            [
             0.8,
             "#7fbc41"
            ],
            [
             0.9,
             "#4d9221"
            ],
            [
             1,
             "#276419"
            ]
           ],
           "sequential": [
            [
             0,
             "#0d0887"
            ],
            [
             0.1111111111111111,
             "#46039f"
            ],
            [
             0.2222222222222222,
             "#7201a8"
            ],
            [
             0.3333333333333333,
             "#9c179e"
            ],
            [
             0.4444444444444444,
             "#bd3786"
            ],
            [
             0.5555555555555556,
             "#d8576b"
            ],
            [
             0.6666666666666666,
             "#ed7953"
            ],
            [
             0.7777777777777778,
             "#fb9f3a"
            ],
            [
             0.8888888888888888,
             "#fdca26"
            ],
            [
             1,
             "#f0f921"
            ]
           ],
           "sequentialminus": [
            [
             0,
             "#0d0887"
            ],
            [
             0.1111111111111111,
             "#46039f"
            ],
            [
             0.2222222222222222,
             "#7201a8"
            ],
            [
             0.3333333333333333,
             "#9c179e"
            ],
            [
             0.4444444444444444,
             "#bd3786"
            ],
            [
             0.5555555555555556,
             "#d8576b"
            ],
            [
             0.6666666666666666,
             "#ed7953"
            ],
            [
             0.7777777777777778,
             "#fb9f3a"
            ],
            [
             0.8888888888888888,
             "#fdca26"
            ],
            [
             1,
             "#f0f921"
            ]
           ]
          },
          "colorway": [
           "#636efa",
           "#EF553B",
           "#00cc96",
           "#ab63fa",
           "#FFA15A",
           "#19d3f3",
           "#FF6692",
           "#B6E880",
           "#FF97FF",
           "#FECB52"
          ],
          "font": {
           "color": "#2a3f5f"
          },
          "geo": {
           "bgcolor": "white",
           "lakecolor": "white",
           "landcolor": "#E5ECF6",
           "showlakes": true,
           "showland": true,
           "subunitcolor": "white"
          },
          "hoverlabel": {
           "align": "left"
          },
          "hovermode": "closest",
          "mapbox": {
           "style": "light"
          },
          "paper_bgcolor": "white",
          "plot_bgcolor": "#E5ECF6",
          "polar": {
           "angularaxis": {
            "gridcolor": "white",
            "linecolor": "white",
            "ticks": ""
           },
           "bgcolor": "#E5ECF6",
           "radialaxis": {
            "gridcolor": "white",
            "linecolor": "white",
            "ticks": ""
           }
          },
          "scene": {
           "xaxis": {
            "backgroundcolor": "#E5ECF6",
            "gridcolor": "white",
            "gridwidth": 2,
            "linecolor": "white",
            "showbackground": true,
            "ticks": "",
            "zerolinecolor": "white"
           },
           "yaxis": {
            "backgroundcolor": "#E5ECF6",
            "gridcolor": "white",
            "gridwidth": 2,
            "linecolor": "white",
            "showbackground": true,
            "ticks": "",
            "zerolinecolor": "white"
           },
           "zaxis": {
            "backgroundcolor": "#E5ECF6",
            "gridcolor": "white",
            "gridwidth": 2,
            "linecolor": "white",
            "showbackground": true,
            "ticks": "",
            "zerolinecolor": "white"
           }
          },
          "shapedefaults": {
           "line": {
            "color": "#2a3f5f"
           }
          },
          "ternary": {
           "aaxis": {
            "gridcolor": "white",
            "linecolor": "white",
            "ticks": ""
           },
           "baxis": {
            "gridcolor": "white",
            "linecolor": "white",
            "ticks": ""
           },
           "bgcolor": "#E5ECF6",
           "caxis": {
            "gridcolor": "white",
            "linecolor": "white",
            "ticks": ""
           }
          },
          "title": {
           "x": 0.05
          },
          "xaxis": {
           "automargin": true,
           "gridcolor": "white",
           "linecolor": "white",
           "ticks": "",
           "title": {
            "standoff": 15
           },
           "zerolinecolor": "white",
           "zerolinewidth": 2
          },
          "yaxis": {
           "automargin": true,
           "gridcolor": "white",
           "linecolor": "white",
           "ticks": "",
           "title": {
            "standoff": 15
           },
           "zerolinecolor": "white",
           "zerolinewidth": 2
          }
         }
        },
        "title": {
         "text": "Venn Diagram (Protein)",
         "x": 0.5,
         "xanchor": "center"
        },
        "width": 800,
        "xaxis": {
         "range": [
          -0.8090395964689281,
          0.8137259502065357
         ],
         "showticklabels": false,
         "ticklen": 0
        },
        "yaxis": {
         "range": [
          -0.7004108508785649,
          0.7004108508785649
         ],
         "scaleanchor": "x",
         "scaleratio": 1,
         "showticklabels": false,
         "ticklen": 0
        }
       }
      }
     },
     "metadata": {},
     "output_type": "display_data"
    }
   ],
   "source": [
    "# ID Venns plot\n",
    "plot_options={\n",
    "            \"compare groups\": [\"FP22\",\"FP21\"],\n",
    "            \"title\": \"Venn Diagram (Protein)\",\n",
    "            \"opacity\": 0.75,\n",
    "            \"color\": [\"#3E6990\", \"#C6878F\", \"#AABD8C\",\"#fac8d3\",\"#7aa8e6\", \"#E9E3B4\",\"#00FF00\", \"#FFFF00\", \"#FF0000\", \"yellow\", \"red\",\n",
    "                      \"green\", \"purple\", \"orange\", \"brown\", \"pink\",\n",
    "                      \"gray\",  \"olive\", \"cyan\", \"blue\",  \"black\", ]\n",
    "        }\n",
    "plot_options[\"plot_type\"] = 1 # 1 is protein, 2 is peptide\n",
    "figure, _, _ =plotter.venns_plots(data_obj, plot_options, saved_settings)\n",
    "figure.show()\n",
    "\n"
   ]
  },
  {
   "cell_type": "code",
   "execution_count": 10,
   "id": "a0d72857",
   "metadata": {},
   "outputs": [
    {
     "name": "stderr",
     "output_type": "stream",
     "text": [
      "c:\\VS_Code\\SCP_PP\\SCP_plotter.py:1938: FutureWarning:\n",
      "\n",
      "Dropping of nuisance columns in DataFrame reductions (with 'numeric_only=None') is deprecated; in a future version this will raise TypeError.  Select only valid columns before calling the reduction.\n",
      "\n",
      "c:\\VS_Code\\SCP_PP\\SCP_plotter.py:1938: SettingWithCopyWarning:\n",
      "\n",
      "\n",
      "A value is trying to be set on a copy of a slice from a DataFrame.\n",
      "Try using .loc[row_indexer,col_indexer] = value instead\n",
      "\n",
      "See the caveats in the documentation: https://pandas.pydata.org/pandas-docs/stable/user_guide/indexing.html#returning-a-view-versus-a-copy\n",
      "\n",
      "c:\\VS_Code\\SCP_PP\\SCP_plotter.py:1976: FutureWarning:\n",
      "\n",
      "Dropping of nuisance columns in DataFrame reductions (with 'numeric_only=None') is deprecated; in a future version this will raise TypeError.  Select only valid columns before calling the reduction.\n",
      "\n"
     ]
    },
    {
     "name": "stdout",
     "output_type": "stream",
     "text": [
      "Downloading links...\n"
     ]
    },
    {
     "data": {
      "application/vnd.plotly.v1+json": {
       "config": {
        "plotlyServerURL": "https://plot.ly"
       },
       "data": [
        {
         "hovertemplate": "<extra></extra>",
         "legendgroup": "",
         "marker": {
          "color": "#636efa",
          "symbol": "circle"
         },
         "mode": "markers",
         "name": "",
         "orientation": "v",
         "showlegend": false,
         "type": "scatter",
         "xaxis": "x",
         "yaxis": "y"
        },
        {
         "marker": {
          "color": "blue"
         },
         "mode": "markers",
         "name": "FP22",
         "text": [
          "ACTB",
          "ENO1",
          "H2BC12",
          "H1-4",
          "HSPA8",
          "H2BC26",
          "PKM",
          "EEF2",
          "CALR",
          "NCL",
          "YWHAE",
          "VIM",
          "PRDX1",
          "RPL5",
          "ALDOA",
          "PFN1",
          "YWHAZ",
          "HNRNPU",
          "TPI1",
          "HNRNPC",
          "HNRNPA3",
          "SYNCRIP",
          "RPS6",
          "PGK1",
          "ILF3",
          "RPS11",
          "HDGF",
          "DARS1",
          "BANF1",
          "RPL10A",
          "ST13",
          "RPL24",
          "RPS16",
          "MARCKS",
          "TRA2B",
          "CAPZA1"
         ],
         "type": "scatter",
         "x": [
          0,
          1,
          2,
          3,
          4,
          5,
          6,
          7,
          8,
          9,
          10,
          11,
          12,
          13,
          14,
          15,
          16,
          17,
          18,
          19,
          21,
          22,
          23,
          24,
          25,
          26,
          27,
          28,
          29,
          30,
          31,
          33,
          34,
          35,
          36,
          37
         ],
         "y": [
          28.506838686882265,
          27.434795417784468,
          27.274991370192414,
          26.96275183091537,
          27.03416379976391,
          26.340888058421427,
          25.59967442323102,
          26.04193621785303,
          25.712183073534796,
          25.991173578228924,
          25.298033815793122,
          25.402537570101877,
          25.63153943353605,
          24.868698475193188,
          25.45836919090223,
          25.026662426142657,
          24.913849970694958,
          24.770582304870754,
          24.64141231920393,
          24.6253345189594,
          24.44337545393436,
          23.732994998354638,
          23.589370362185687,
          23.5263318731948,
          23.332977248924948,
          22.999882063173843,
          23.104130644019754,
          22.54281690815355,
          22.967206598822727,
          22.59252953847454,
          22.60285569204237,
          22.452377898625247,
          22.110296837618097,
          21.88302486490234,
          21.908919664462278,
          21.881794487095966
         ]
        }
       ],
       "layout": {
        "font": {
         "family": "Arial black",
         "size": 16
        },
        "height": 450,
        "legend": {
         "tracegroupgap": 0
        },
        "margin": {
         "t": 60
        },
        "paper_bgcolor": "white",
        "plot_bgcolor": "white",
        "template": {
         "data": {
          "bar": [
           {
            "error_x": {
             "color": "#2a3f5f"
            },
            "error_y": {
             "color": "#2a3f5f"
            },
            "marker": {
             "line": {
              "color": "#E5ECF6",
              "width": 0.5
             },
             "pattern": {
              "fillmode": "overlay",
              "size": 10,
              "solidity": 0.2
             }
            },
            "type": "bar"
           }
          ],
          "barpolar": [
           {
            "marker": {
             "line": {
              "color": "#E5ECF6",
              "width": 0.5
             },
             "pattern": {
              "fillmode": "overlay",
              "size": 10,
              "solidity": 0.2
             }
            },
            "type": "barpolar"
           }
          ],
          "carpet": [
           {
            "aaxis": {
             "endlinecolor": "#2a3f5f",
             "gridcolor": "white",
             "linecolor": "white",
             "minorgridcolor": "white",
             "startlinecolor": "#2a3f5f"
            },
            "baxis": {
             "endlinecolor": "#2a3f5f",
             "gridcolor": "white",
             "linecolor": "white",
             "minorgridcolor": "white",
             "startlinecolor": "#2a3f5f"
            },
            "type": "carpet"
           }
          ],
          "choropleth": [
           {
            "colorbar": {
             "outlinewidth": 0,
             "ticks": ""
            },
            "type": "choropleth"
           }
          ],
          "contour": [
           {
            "colorbar": {
             "outlinewidth": 0,
             "ticks": ""
            },
            "colorscale": [
             [
              0,
              "#0d0887"
             ],
             [
              0.1111111111111111,
              "#46039f"
             ],
             [
              0.2222222222222222,
              "#7201a8"
             ],
             [
              0.3333333333333333,
              "#9c179e"
             ],
             [
              0.4444444444444444,
              "#bd3786"
             ],
             [
              0.5555555555555556,
              "#d8576b"
             ],
             [
              0.6666666666666666,
              "#ed7953"
             ],
             [
              0.7777777777777778,
              "#fb9f3a"
             ],
             [
              0.8888888888888888,
              "#fdca26"
             ],
             [
              1,
              "#f0f921"
             ]
            ],
            "type": "contour"
           }
          ],
          "contourcarpet": [
           {
            "colorbar": {
             "outlinewidth": 0,
             "ticks": ""
            },
            "type": "contourcarpet"
           }
          ],
          "heatmap": [
           {
            "colorbar": {
             "outlinewidth": 0,
             "ticks": ""
            },
            "colorscale": [
             [
              0,
              "#0d0887"
             ],
             [
              0.1111111111111111,
              "#46039f"
             ],
             [
              0.2222222222222222,
              "#7201a8"
             ],
             [
              0.3333333333333333,
              "#9c179e"
             ],
             [
              0.4444444444444444,
              "#bd3786"
             ],
             [
              0.5555555555555556,
              "#d8576b"
             ],
             [
              0.6666666666666666,
              "#ed7953"
             ],
             [
              0.7777777777777778,
              "#fb9f3a"
             ],
             [
              0.8888888888888888,
              "#fdca26"
             ],
             [
              1,
              "#f0f921"
             ]
            ],
            "type": "heatmap"
           }
          ],
          "heatmapgl": [
           {
            "colorbar": {
             "outlinewidth": 0,
             "ticks": ""
            },
            "colorscale": [
             [
              0,
              "#0d0887"
             ],
             [
              0.1111111111111111,
              "#46039f"
             ],
             [
              0.2222222222222222,
              "#7201a8"
             ],
             [
              0.3333333333333333,
              "#9c179e"
             ],
             [
              0.4444444444444444,
              "#bd3786"
             ],
             [
              0.5555555555555556,
              "#d8576b"
             ],
             [
              0.6666666666666666,
              "#ed7953"
             ],
             [
              0.7777777777777778,
              "#fb9f3a"
             ],
             [
              0.8888888888888888,
              "#fdca26"
             ],
             [
              1,
              "#f0f921"
             ]
            ],
            "type": "heatmapgl"
           }
          ],
          "histogram": [
           {
            "marker": {
             "pattern": {
              "fillmode": "overlay",
              "size": 10,
              "solidity": 0.2
             }
            },
            "type": "histogram"
           }
          ],
          "histogram2d": [
           {
            "colorbar": {
             "outlinewidth": 0,
             "ticks": ""
            },
            "colorscale": [
             [
              0,
              "#0d0887"
             ],
             [
              0.1111111111111111,
              "#46039f"
             ],
             [
              0.2222222222222222,
              "#7201a8"
             ],
             [
              0.3333333333333333,
              "#9c179e"
             ],
             [
              0.4444444444444444,
              "#bd3786"
             ],
             [
              0.5555555555555556,
              "#d8576b"
             ],
             [
              0.6666666666666666,
              "#ed7953"
             ],
             [
              0.7777777777777778,
              "#fb9f3a"
             ],
             [
              0.8888888888888888,
              "#fdca26"
             ],
             [
              1,
              "#f0f921"
             ]
            ],
            "type": "histogram2d"
           }
          ],
          "histogram2dcontour": [
           {
            "colorbar": {
             "outlinewidth": 0,
             "ticks": ""
            },
            "colorscale": [
             [
              0,
              "#0d0887"
             ],
             [
              0.1111111111111111,
              "#46039f"
             ],
             [
              0.2222222222222222,
              "#7201a8"
             ],
             [
              0.3333333333333333,
              "#9c179e"
             ],
             [
              0.4444444444444444,
              "#bd3786"
             ],
             [
              0.5555555555555556,
              "#d8576b"
             ],
             [
              0.6666666666666666,
              "#ed7953"
             ],
             [
              0.7777777777777778,
              "#fb9f3a"
             ],
             [
              0.8888888888888888,
              "#fdca26"
             ],
             [
              1,
              "#f0f921"
             ]
            ],
            "type": "histogram2dcontour"
           }
          ],
          "mesh3d": [
           {
            "colorbar": {
             "outlinewidth": 0,
             "ticks": ""
            },
            "type": "mesh3d"
           }
          ],
          "parcoords": [
           {
            "line": {
             "colorbar": {
              "outlinewidth": 0,
              "ticks": ""
             }
            },
            "type": "parcoords"
           }
          ],
          "pie": [
           {
            "automargin": true,
            "type": "pie"
           }
          ],
          "scatter": [
           {
            "fillpattern": {
             "fillmode": "overlay",
             "size": 10,
             "solidity": 0.2
            },
            "type": "scatter"
           }
          ],
          "scatter3d": [
           {
            "line": {
             "colorbar": {
              "outlinewidth": 0,
              "ticks": ""
             }
            },
            "marker": {
             "colorbar": {
              "outlinewidth": 0,
              "ticks": ""
             }
            },
            "type": "scatter3d"
           }
          ],
          "scattercarpet": [
           {
            "marker": {
             "colorbar": {
              "outlinewidth": 0,
              "ticks": ""
             }
            },
            "type": "scattercarpet"
           }
          ],
          "scattergeo": [
           {
            "marker": {
             "colorbar": {
              "outlinewidth": 0,
              "ticks": ""
             }
            },
            "type": "scattergeo"
           }
          ],
          "scattergl": [
           {
            "marker": {
             "colorbar": {
              "outlinewidth": 0,
              "ticks": ""
             }
            },
            "type": "scattergl"
           }
          ],
          "scattermapbox": [
           {
            "marker": {
             "colorbar": {
              "outlinewidth": 0,
              "ticks": ""
             }
            },
            "type": "scattermapbox"
           }
          ],
          "scatterpolar": [
           {
            "marker": {
             "colorbar": {
              "outlinewidth": 0,
              "ticks": ""
             }
            },
            "type": "scatterpolar"
           }
          ],
          "scatterpolargl": [
           {
            "marker": {
             "colorbar": {
              "outlinewidth": 0,
              "ticks": ""
             }
            },
            "type": "scatterpolargl"
           }
          ],
          "scatterternary": [
           {
            "marker": {
             "colorbar": {
              "outlinewidth": 0,
              "ticks": ""
             }
            },
            "type": "scatterternary"
           }
          ],
          "surface": [
           {
            "colorbar": {
             "outlinewidth": 0,
             "ticks": ""
            },
            "colorscale": [
             [
              0,
              "#0d0887"
             ],
             [
              0.1111111111111111,
              "#46039f"
             ],
             [
              0.2222222222222222,
              "#7201a8"
             ],
             [
              0.3333333333333333,
              "#9c179e"
             ],
             [
              0.4444444444444444,
              "#bd3786"
             ],
             [
              0.5555555555555556,
              "#d8576b"
             ],
             [
              0.6666666666666666,
              "#ed7953"
             ],
             [
              0.7777777777777778,
              "#fb9f3a"
             ],
             [
              0.8888888888888888,
              "#fdca26"
             ],
             [
              1,
              "#f0f921"
             ]
            ],
            "type": "surface"
           }
          ],
          "table": [
           {
            "cells": {
             "fill": {
              "color": "#EBF0F8"
             },
             "line": {
              "color": "white"
             }
            },
            "header": {
             "fill": {
              "color": "#C8D4E3"
             },
             "line": {
              "color": "white"
             }
            },
            "type": "table"
           }
          ]
         },
         "layout": {
          "annotationdefaults": {
           "arrowcolor": "#2a3f5f",
           "arrowhead": 0,
           "arrowwidth": 1
          },
          "autotypenumbers": "strict",
          "coloraxis": {
           "colorbar": {
            "outlinewidth": 0,
            "ticks": ""
           }
          },
          "colorscale": {
           "diverging": [
            [
             0,
             "#8e0152"
            ],
            [
             0.1,
             "#c51b7d"
            ],
            [
             0.2,
             "#de77ae"
            ],
            [
             0.3,
             "#f1b6da"
            ],
            [
             0.4,
             "#fde0ef"
            ],
            [
             0.5,
             "#f7f7f7"
            ],
            [
             0.6,
             "#e6f5d0"
            ],
            [
             0.7,
             "#b8e186"
            ],
            [
             0.8,
             "#7fbc41"
            ],
            [
             0.9,
             "#4d9221"
            ],
            [
             1,
             "#276419"
            ]
           ],
           "sequential": [
            [
             0,
             "#0d0887"
            ],
            [
             0.1111111111111111,
             "#46039f"
            ],
            [
             0.2222222222222222,
             "#7201a8"
            ],
            [
             0.3333333333333333,
             "#9c179e"
            ],
            [
             0.4444444444444444,
             "#bd3786"
            ],
            [
             0.5555555555555556,
             "#d8576b"
            ],
            [
             0.6666666666666666,
             "#ed7953"
            ],
            [
             0.7777777777777778,
             "#fb9f3a"
            ],
            [
             0.8888888888888888,
             "#fdca26"
            ],
            [
             1,
             "#f0f921"
            ]
           ],
           "sequentialminus": [
            [
             0,
             "#0d0887"
            ],
            [
             0.1111111111111111,
             "#46039f"
            ],
            [
             0.2222222222222222,
             "#7201a8"
            ],
            [
             0.3333333333333333,
             "#9c179e"
            ],
            [
             0.4444444444444444,
             "#bd3786"
            ],
            [
             0.5555555555555556,
             "#d8576b"
            ],
            [
             0.6666666666666666,
             "#ed7953"
            ],
            [
             0.7777777777777778,
             "#fb9f3a"
            ],
            [
             0.8888888888888888,
             "#fdca26"
            ],
            [
             1,
             "#f0f921"
            ]
           ]
          },
          "colorway": [
           "#636efa",
           "#EF553B",
           "#00cc96",
           "#ab63fa",
           "#FFA15A",
           "#19d3f3",
           "#FF6692",
           "#B6E880",
           "#FF97FF",
           "#FECB52"
          ],
          "font": {
           "color": "#2a3f5f"
          },
          "geo": {
           "bgcolor": "white",
           "lakecolor": "white",
           "landcolor": "#E5ECF6",
           "showlakes": true,
           "showland": true,
           "subunitcolor": "white"
          },
          "hoverlabel": {
           "align": "left"
          },
          "hovermode": "closest",
          "mapbox": {
           "style": "light"
          },
          "paper_bgcolor": "white",
          "plot_bgcolor": "#E5ECF6",
          "polar": {
           "angularaxis": {
            "gridcolor": "white",
            "linecolor": "white",
            "ticks": ""
           },
           "bgcolor": "#E5ECF6",
           "radialaxis": {
            "gridcolor": "white",
            "linecolor": "white",
            "ticks": ""
           }
          },
          "scene": {
           "xaxis": {
            "backgroundcolor": "#E5ECF6",
            "gridcolor": "white",
            "gridwidth": 2,
            "linecolor": "white",
            "showbackground": true,
            "ticks": "",
            "zerolinecolor": "white"
           },
           "yaxis": {
            "backgroundcolor": "#E5ECF6",
            "gridcolor": "white",
            "gridwidth": 2,
            "linecolor": "white",
            "showbackground": true,
            "ticks": "",
            "zerolinecolor": "white"
           },
           "zaxis": {
            "backgroundcolor": "#E5ECF6",
            "gridcolor": "white",
            "gridwidth": 2,
            "linecolor": "white",
            "showbackground": true,
            "ticks": "",
            "zerolinecolor": "white"
           }
          },
          "shapedefaults": {
           "line": {
            "color": "#2a3f5f"
           }
          },
          "ternary": {
           "aaxis": {
            "gridcolor": "white",
            "linecolor": "white",
            "ticks": ""
           },
           "baxis": {
            "gridcolor": "white",
            "linecolor": "white",
            "ticks": ""
           },
           "bgcolor": "#E5ECF6",
           "caxis": {
            "gridcolor": "white",
            "linecolor": "white",
            "ticks": ""
           }
          },
          "title": {
           "x": 0.05
          },
          "xaxis": {
           "automargin": true,
           "gridcolor": "white",
           "linecolor": "white",
           "ticks": "",
           "title": {
            "standoff": 15
           },
           "zerolinecolor": "white",
           "zerolinewidth": 2
          },
          "yaxis": {
           "automargin": true,
           "gridcolor": "white",
           "linecolor": "white",
           "ticks": "",
           "title": {
            "standoff": 15
           },
           "zerolinecolor": "white",
           "zerolinewidth": 2
          }
         }
        },
        "title": {
         "text": "Ranked Abundance"
        },
        "width": 700,
        "xaxis": {
         "anchor": "y",
         "domain": [
          0,
          1
         ],
         "title": {
          "text": "Ranked Abundance"
         }
        },
        "yaxis": {
         "anchor": "x",
         "domain": [
          0,
          1
         ],
         "title": {
          "text": "Average Reporter Ion Abundance"
         }
        }
       }
      }
     },
     "metadata": {},
     "output_type": "display_data"
    }
   ],
   "source": [
    "# Protein Ranked Abundance plot\n",
    "plot_options={\n",
    "            \"reference_group\": \"FP21\",\n",
    "            \"compare groups\": [\"FP22\"],\n",
    "            \"title\": \"Ranked Abundance\",\n",
    "            \"color\": [\"blue\", \"red\", \"green\", \"black\", \"yellow\", \"purple\",\n",
    "                      \"orange\", \"brown\", \"pink\", \"gray\", \"olive\", \"cyan\"],\n",
    "            \"symbol\": ['circle', 'circle', 'circle'],\n",
    "            \"marker_size\": 8,\n",
    "            \"width\": 700,\n",
    "            \"height\": 450,\n",
    "            \"font\": dict(size=16, family=\"Arial black\"),\n",
    "            \"ylimits\": [],\n",
    "            \"xlimits\": [],\n",
    "            \"X Title\": \"Ranked Abundance\",\n",
    "            \"Y Title\": \"Average Reporter Ion Abundance\",\n",
    "        }\n",
    "figure, _, _ =plotter.Rank_Abundance_Plots(data_obj, plot_options, saved_settings)\n",
    "figure.show()"
   ]
  },
  {
   "cell_type": "code",
   "execution_count": 11,
   "id": "f81fdef7",
   "metadata": {},
   "outputs": [
    {
     "name": "stdout",
     "output_type": "stream",
     "text": [
      "(320,)\n",
      "(445, 4)\n",
      "(461, 4)\n",
      "(320, 4)\n",
      "(320, 4)\n",
      "Index(['FP21_Intensity', 'group2_stdev', 'group2_num', 'Accession'], dtype='object')\n",
      "Index(['FP22_Intensity', 'group1_stdev', 'group1_num', 'Accession'], dtype='object')\n",
      "0       RPSA2\n",
      "6      PSMD11\n",
      "9        IPO5\n",
      "11     PSMD14\n",
      "14      DDX3X\n",
      "        ...  \n",
      "664    RUVBL1\n",
      "665      NUDC\n",
      "667    THRAP3\n",
      "669    LUC7L2\n",
      "676     RBM8A\n",
      "Name: Accession, Length: 320, dtype: object\n",
      "     FP21_Intensity  group2_stdev  group2_num Accession  FP22_Intensity  \\\n",
      "0         25.827311      0.283759           9     RPSA2       25.858251   \n",
      "6         20.206812      0.236848           9    MYL12B       20.402975   \n",
      "9         17.198448      0.337079           7     EIF3H       17.529273   \n",
      "11        20.448107      0.265404           9     PHGDH       20.827383   \n",
      "14        19.342838      0.613281           9     NARS1       19.893777   \n",
      "..              ...           ...         ...       ...             ...   \n",
      "313       20.922283      0.431979           9     PA2G4       21.253258   \n",
      "314       21.231191      0.409809           9     RTRAF       21.088149   \n",
      "315       21.853892      0.392900           9    RUVBL1       22.713050   \n",
      "317       21.775684      0.417715           9    THRAP3       21.949001   \n",
      "318       22.026047      0.386123           8    LUC7L2       21.787412   \n",
      "\n",
      "     group1_stdev  group1_num  pOriginal  benjamini  significant  upRegulated  \\\n",
      "0        0.251315           9   0.809707   0.962589        False        False   \n",
      "6        0.506593           9   0.314559   0.732536        False        False   \n",
      "9        0.712402           9   0.243227   0.655632        False        False   \n",
      "11       0.198709           9   0.003763   0.091380        False        False   \n",
      "14       0.452253           9   0.046893   0.274891        False        False   \n",
      "..            ...         ...        ...        ...          ...          ...   \n",
      "313      0.341795           9   0.091324   0.369643        False        False   \n",
      "314      0.509309           9   0.521292   0.875552        False        False   \n",
      "315      0.402357           7   0.000912   0.044985        False        False   \n",
      "317      0.600392           9   0.488605   0.865238        False        False   \n",
      "318      0.295153           9   0.179543   0.535479        False        False   \n",
      "\n",
      "     downRegulated  notRegulated  \n",
      "0            False          True  \n",
      "6            False          True  \n",
      "9            False          True  \n",
      "11           False          True  \n",
      "14           False          True  \n",
      "..             ...           ...  \n",
      "313          False          True  \n",
      "314          False          True  \n",
      "315          False          True  \n",
      "317          False          True  \n",
      "318          False          True  \n",
      "\n",
      "[170 rows x 13 columns]\n",
      "Downloading links...\n"
     ]
    },
    {
     "data": {
      "application/vnd.plotly.v1+json": {
       "config": {
        "plotlyServerURL": "https://plot.ly"
       },
       "data": [
        {
         "hovertemplate": "<extra></extra>",
         "legendgroup": "",
         "marker": {
          "color": "#636efa",
          "symbol": "circle"
         },
         "mode": "markers",
         "name": "",
         "orientation": "v",
         "showlegend": false,
         "type": "scatter",
         "xaxis": "x",
         "yaxis": "y"
        },
        {
         "marker": {
          "color": "gray",
          "size": 20
         },
         "mode": "markers",
         "text": [
          "RPSA2",
          "MYL12B",
          "EIF3H",
          "PHGDH",
          "NARS1",
          "WDR1",
          "SH3BGRL",
          "PSIP1",
          "IDH1",
          "AIFM1",
          "LDHA",
          "PGK1",
          "SLC25A5",
          "HMGN2",
          "SSB",
          "LDHB",
          "TUBB",
          "APRT",
          "HSP90AA1",
          "FH",
          "SLC3A2",
          "PDHA1",
          "HNRNPA1",
          "PARP1",
          "HSPA1A",
          "HSPA5",
          "MTHFD1",
          "PABPC1",
          "XRCC5",
          "PDIA4",
          "ETFA",
          "PRKCSH",
          "PKM",
          "DARS1",
          "H1-3",
          "FAH",
          "HMGA1",
          "DDX5",
          "TCP1",
          "RPL17",
          "PGAM1",
          "EIF2S2",
          "SCP2",
          "UBA1",
          "PPIB",
          "RPS3",
          "CFL1",
          "ATP5PB",
          "ATP5F1A",
          "PSMA1",
          "MSN",
          "HMGB2",
          "PTBP1",
          "EEF1G",
          "YWHAQ",
          "CALR",
          "PSMA5",
          "TKT",
          "MARCKS",
          "PDIA3",
          "CORO1A",
          "MAT2A",
          "ATIC",
          "RPL9",
          "DUT",
          "MCM7",
          "HSPA4",
          "MYH9",
          "BSG",
          "RPL4",
          "RPS19",
          "ANP32A",
          "FEN1",
          "EIF2S3",
          "LRPPRC",
          "RANBP1",
          "RPS5",
          "IQGAP1",
          "CCT5",
          "MARCKSL1",
          "ALDH9A1",
          "RPL34",
          "NASP",
          "CCT3",
          "TUFM",
          "PSMB2",
          "CCT4",
          "BCAP31",
          "HDGF",
          "HNRNPA3",
          "PGD",
          "HNRNPM",
          "SMS",
          "CAPZA1",
          "YARS1",
          "AK2",
          "SNU13",
          "MARS1",
          "MTPN",
          "TPI1",
          "MYL6",
          "DSTN",
          "ABCE1",
          "RPS3A",
          "VBP1",
          "RPS7",
          "RPS8",
          "RPS16",
          "RPS18",
          "SNRPF",
          "RPS6",
          "H4C1",
          "RPS25",
          "RPL11",
          "RPL8",
          "TRA2B",
          "YWHAZ",
          "RACK1",
          "YBX1",
          "ACTC1",
          "CCT2",
          "GSTO1",
          "ERH",
          "CLTC",
          "HNRNPU",
          "EWSR1",
          "FKBP4",
          "RPL6",
          "PSME1",
          "PRDX1",
          "SRSF1",
          "DHX9",
          "RBBP4",
          "TARDBP",
          "CBX3",
          "EIF3I",
          "DYNC1I2",
          "FKBP5",
          "COTL1",
          "LASP1",
          "NOLC1",
          "RRS1",
          "EIF4H",
          "PDIA6",
          "ELOB",
          "TSN",
          "ELAVL1",
          "DDB1",
          "HNRNPUL2",
          "H3-7",
          "PIK3R6",
          "SND1",
          "EIF3M",
          "H2BC26",
          "SERBP1",
          "TFG",
          "DDX17",
          "KHSRP",
          "HNRNPAB",
          "RBM4B",
          "PNN",
          "BOLA2",
          "DDX21",
          "RCC2",
          "PFDN2",
          "PA2G4",
          "RTRAF",
          "RUVBL1",
          "THRAP3",
          "LUC7L2"
         ],
         "type": "scatter",
         "x": [
          -0.0017272870555934895,
          -0.013937830850047997,
          -0.027487812142384615,
          -0.026514297502163633,
          -0.04051775693983984,
          0.004207403932349328,
          0.002299984246422196,
          -0.022020403534154343,
          -0.04758387710096552,
          -0.033925651448061846,
          -0.008223007472604767,
          -0.003445369439250839,
          -0.010496388033300514,
          -0.0011676090762691332,
          0.005163792168131085,
          -0.005568435883400495,
          -0.01697971962988443,
          -0.0005292096135763939,
          -0.015890890807293136,
          -0.00437466544299194,
          -0.0028379468955150497,
          -0.005775671117563192,
          -0.005792480486104571,
          -0.00640309582431111,
          -0.008049936375993536,
          0.0016326495243503241,
          -0.0035045899566809886,
          0.00001110942917983136,
          -0.009982256817809778,
          0.009757615531799468,
          -0.029112345911901837,
          0.002776459490287464,
          0.03838203378212373,
          0.02768461806004715,
          0.014905300920265799,
          -0.040255876803737024,
          0.010011560078675562,
          -0.034657261428395994,
          0.01965256847587229,
          -0.011049988239423705,
          0.012918408754829672,
          -0.004458017078091673,
          0.014046063927501556,
          0.00644783797209282,
          0.030823334673462523,
          0.0043911582179767565,
          -0.014495072168515913,
          0.005823536499230304,
          -0.006148775421896463,
          0.013301144721253495,
          -0.01824227172870894,
          0.010077014451440132,
          -0.026673167761725885,
          -0.004823611659723354,
          0.025798256110621174,
          0.007756374920630587,
          0.0033208187295514576,
          0.008310596218571803,
          0.008806222916571701,
          0.006219212176660659,
          0.039799612160290855,
          -0.04360414621434466,
          0.04370409281860477,
          0.02808137128361676,
          0.00576677545178429,
          -0.010423346985925187,
          -0.005381805304795405,
          0.0014878138425122253,
          0.0224305147777709,
          -0.017351107436058374,
          -0.021427230955158194,
          -0.009256110989190689,
          0.048363987716882766,
          -0.0115453704367201,
          -0.012536591152438251,
          -0.005524684127263135,
          -0.012584156629345486,
          -0.007952271462193352,
          -0.012537779383237985,
          0.025170374963730684,
          0.011140727746427485,
          -0.01740799267573546,
          0.00024819140409897453,
          0.005978809049560056,
          0.00802371280207476,
          -0.00892096745196626,
          -0.021663333353965076,
          -0.020559488919090874,
          0.01035656125761209,
          -0.010899890338035222,
          -0.0041160328426446,
          -0.031211739097540353,
          -0.036460141227666595,
          -0.0015888505664641882,
          0.0007865327036284322,
          0.002708759625293649,
          0.0028538829089216123,
          0.027741162392532222,
          -0.012679679345377053,
          0.00040183858704634904,
          -0.0005146374597383958,
          -0.026988522603598582,
          -0.0002435327420369248,
          0.012566557911213532,
          -0.034026995901093836,
          0.010278150177586721,
          -0.0002743800532155548,
          0.017860832466578727,
          0.033095361708308964,
          -0.001523267542276767,
          -0.0039829188572849845,
          0.006191840228684121,
          -0.01374289906048598,
          0.021176961316311527,
          -0.009708950011017743,
          -0.0031022886340268565,
          -0.008321107654331623,
          -0.005730125818661045,
          -0.03572446907746988,
          -0.011758339853969492,
          -0.030540008194895798,
          -0.001071946613300805,
          -0.0008879747088480018,
          -0.0005966408775150118,
          -0.004697257393255124,
          -0.02775275525169215,
          0.010220377470378102,
          -0.007850257679015333,
          -0.03515725757333754,
          -0.03774360638406333,
          -0.005319618559895577,
          -0.04613399657300313,
          0.02143116902199364,
          -0.00376576350720186,
          0.007419987286235328,
          0.001199902573272891,
          -0.022275517277886767,
          -0.049688307220291654,
          -0.05610776216965432,
          0.0325831838586661,
          -0.009748615589351403,
          0.015382549057537885,
          -0.025326065340805105,
          -0.006279665532803722,
          -0.006679128533530763,
          0.001455246529537788,
          -0.0033094961298120082,
          0.021305898331734175,
          -0.004133673095134207,
          -0.024653993382147587,
          -0.02234002005956895,
          -0.01857106818578039,
          -0.004955327869287433,
          0.010866093846564024,
          0.0075446095058935335,
          0.007330334146710862,
          -0.006948917165948764,
          0.0009119284217549647,
          -0.005185909190723933,
          0.02672705962153965,
          -0.017487875826917205,
          -0.037554774302889775,
          0.022722804207254005,
          -0.005495196341955275,
          0.011031009137572698,
          -0.022643777621563933,
          0.009752788567766403,
          -0.055631240217249814,
          -0.011437248735171431,
          0.01571578412828369
         ],
         "y": [
          0.016559193014280386,
          0.13517126467564994,
          0.18333956601443016,
          1.0391481695371338,
          0.5608395189039956,
          0.012848416056107276,
          0.00437515000999177,
          0.3720919809673527,
          0.28488597114796455,
          0.5011178894842456,
          0.051466350689450616,
          0.04080492212603928,
          0.09856470782327247,
          0.00437515000999177,
          0.048185949991062106,
          0.048185949991062106,
          1.0157690502150034,
          0.00437515000999177,
          0.13504310814552373,
          0.00437515000999177,
          0.00437515000999177,
          0.04080492212603928,
          0.04080492212603928,
          0.03504696221390757,
          0.00437515000999177,
          0.00437515000999177,
          0.04080492212603928,
          0.0004565047891794032,
          0.18333956601443016,
          0.0954248313091755,
          0.5150912998996365,
          0.04080492212603928,
          0.28488597114796455,
          0.5732062004865917,
          0.13517126467564994,
          0.5485687266781675,
          0.048185949991062106,
          0.8669439464391951,
          0.26978219636352097,
          0.13504310814552373,
          0.271257241043038,
          0.03504696221390757,
          0.07628712836932917,
          0.048185949991062106,
          0.271257241043038,
          0.0987547163332474,
          0.13068404780431167,
          0.04080492212603928,
          0.26978219636352097,
          0.25619817449918897,
          0.04080492212603928,
          0.07787073398596628,
          0.6240169170275768,
          0.051466350689450616,
          0.8434558596054451,
          0.04080492212603928,
          0.012848416056107276,
          0.04275596781411072,
          0.061782277899442725,
          0.03504696221390757,
          0.06286418092078817,
          1.0593337589199954,
          1.0157690502150034,
          0.6028926892943824,
          0.00437515000999177,
          0.13504310814552373,
          0.04080492212603928,
          0.00437515000999177,
          0.6453863459584464,
          0.5732062004865917,
          0.6022683375325829,
          0.0954248313091755,
          2.1643173485634994,
          0.07787073398596628,
          0.14955206589147407,
          0.04080492212603928,
          0.07787073398596628,
          0.042048091905853645,
          0.42742780942679676,
          0.09830071840380654,
          0.1351267076858804,
          0.5908736285446027,
          0.00437515000999177,
          0.07787073398596628,
          0.057718028979718415,
          0.06286418092078817,
          0.9584756424443825,
          1.2379245122983027,
          0.061782277899442725,
          0.13517126467564994,
          0.03504696221390757,
          0.48820247894139235,
          0.5485687266781675,
          0.00437515000999177,
          0.00437515000999177,
          0.00437515000999177,
          0.025689662403854868,
          0.48820247894139235,
          0.061782277899442725,
          0.00437515000999177,
          0.00437515000999177,
          0.4322170442770699,
          0.00437515000999177,
          0.16484172251159906,
          1.3469286728702417,
          0.08054325823900862,
          0.00437515000999177,
          0.271257241043038,
          0.8669439464391951,
          0.00437515000999177,
          0.04080492212603928,
          0.048185949991062106,
          0.32804893964697945,
          0.48403881688208755,
          0.042048091905853645,
          0.03504696221390757,
          0.28894325612030325,
          0.06286418092078817,
          0.48820247894139235,
          0.04787545551691137,
          0.5732062004865917,
          0.00437515000999177,
          0.00437515000999177,
          0.00437515000999177,
          0.057718028979718415,
          0.9332371423820256,
          0.051466350689450616,
          0.13517126467564994,
          0.6079014711345214,
          0.5121827866155445,
          0.06286418092078817,
          1.0157690502150034,
          0.28894325612030325,
          0.03504696221390757,
          0.04080492212603928,
          0.00437515000999177,
          0.2990216098702425,
          0.2688915095545269,
          0.8669439464391951,
          0.28894325612030325,
          0.1883777868079609,
          0.13504310814552373,
          1.0157690502150034,
          0.04080492212603928,
          0.04080492212603928,
          0.00437515000999177,
          0.03504696221390757,
          0.14955206589147407,
          0.03504696221390757,
          0.6453863459584464,
          0.07503329129698662,
          0.271257241043038,
          0.03504696221390757,
          0.5150912998996365,
          0.13517126467564994,
          0.04080492212603928,
          0.048185949991062106,
          0.00437515000999177,
          0.04080492212603928,
          0.28894325612030325,
          0.48820247894139235,
          1.3469286728702417,
          0.5732062004865917,
          0.048185949991062106,
          0.13517126467564994,
          0.4322170442770699,
          0.057718028979718415,
          1.3469286728702417,
          0.06286418092078817,
          0.271257241043038
         ]
        }
       ],
       "layout": {
        "font": {
         "family": "Arial black",
         "size": 16
        },
        "height": 450,
        "legend": {
         "tracegroupgap": 0
        },
        "margin": {
         "t": 60
        },
        "paper_bgcolor": "white",
        "plot_bgcolor": "white",
        "shapes": [
         {
          "type": "line",
          "x0": 0,
          "x1": 1,
          "xref": "x domain",
          "y0": 2,
          "y1": 2,
          "yref": "y"
         },
         {
          "type": "line",
          "x0": 0.3219280948873623,
          "x1": 0.3219280948873623,
          "xref": "x",
          "y0": 0,
          "y1": 1,
          "yref": "y domain"
         },
         {
          "type": "line",
          "x0": -0.3219280948873623,
          "x1": -0.3219280948873623,
          "xref": "x",
          "y0": 0,
          "y1": 1,
          "yref": "y domain"
         }
        ],
        "showlegend": false,
        "template": {
         "data": {
          "bar": [
           {
            "error_x": {
             "color": "#2a3f5f"
            },
            "error_y": {
             "color": "#2a3f5f"
            },
            "marker": {
             "line": {
              "color": "#E5ECF6",
              "width": 0.5
             },
             "pattern": {
              "fillmode": "overlay",
              "size": 10,
              "solidity": 0.2
             }
            },
            "type": "bar"
           }
          ],
          "barpolar": [
           {
            "marker": {
             "line": {
              "color": "#E5ECF6",
              "width": 0.5
             },
             "pattern": {
              "fillmode": "overlay",
              "size": 10,
              "solidity": 0.2
             }
            },
            "type": "barpolar"
           }
          ],
          "carpet": [
           {
            "aaxis": {
             "endlinecolor": "#2a3f5f",
             "gridcolor": "white",
             "linecolor": "white",
             "minorgridcolor": "white",
             "startlinecolor": "#2a3f5f"
            },
            "baxis": {
             "endlinecolor": "#2a3f5f",
             "gridcolor": "white",
             "linecolor": "white",
             "minorgridcolor": "white",
             "startlinecolor": "#2a3f5f"
            },
            "type": "carpet"
           }
          ],
          "choropleth": [
           {
            "colorbar": {
             "outlinewidth": 0,
             "ticks": ""
            },
            "type": "choropleth"
           }
          ],
          "contour": [
           {
            "colorbar": {
             "outlinewidth": 0,
             "ticks": ""
            },
            "colorscale": [
             [
              0,
              "#0d0887"
             ],
             [
              0.1111111111111111,
              "#46039f"
             ],
             [
              0.2222222222222222,
              "#7201a8"
             ],
             [
              0.3333333333333333,
              "#9c179e"
             ],
             [
              0.4444444444444444,
              "#bd3786"
             ],
             [
              0.5555555555555556,
              "#d8576b"
             ],
             [
              0.6666666666666666,
              "#ed7953"
             ],
             [
              0.7777777777777778,
              "#fb9f3a"
             ],
             [
              0.8888888888888888,
              "#fdca26"
             ],
             [
              1,
              "#f0f921"
             ]
            ],
            "type": "contour"
           }
          ],
          "contourcarpet": [
           {
            "colorbar": {
             "outlinewidth": 0,
             "ticks": ""
            },
            "type": "contourcarpet"
           }
          ],
          "heatmap": [
           {
            "colorbar": {
             "outlinewidth": 0,
             "ticks": ""
            },
            "colorscale": [
             [
              0,
              "#0d0887"
             ],
             [
              0.1111111111111111,
              "#46039f"
             ],
             [
              0.2222222222222222,
              "#7201a8"
             ],
             [
              0.3333333333333333,
              "#9c179e"
             ],
             [
              0.4444444444444444,
              "#bd3786"
             ],
             [
              0.5555555555555556,
              "#d8576b"
             ],
             [
              0.6666666666666666,
              "#ed7953"
             ],
             [
              0.7777777777777778,
              "#fb9f3a"
             ],
             [
              0.8888888888888888,
              "#fdca26"
             ],
             [
              1,
              "#f0f921"
             ]
            ],
            "type": "heatmap"
           }
          ],
          "heatmapgl": [
           {
            "colorbar": {
             "outlinewidth": 0,
             "ticks": ""
            },
            "colorscale": [
             [
              0,
              "#0d0887"
             ],
             [
              0.1111111111111111,
              "#46039f"
             ],
             [
              0.2222222222222222,
              "#7201a8"
             ],
             [
              0.3333333333333333,
              "#9c179e"
             ],
             [
              0.4444444444444444,
              "#bd3786"
             ],
             [
              0.5555555555555556,
              "#d8576b"
             ],
             [
              0.6666666666666666,
              "#ed7953"
             ],
             [
              0.7777777777777778,
              "#fb9f3a"
             ],
             [
              0.8888888888888888,
              "#fdca26"
             ],
             [
              1,
              "#f0f921"
             ]
            ],
            "type": "heatmapgl"
           }
          ],
          "histogram": [
           {
            "marker": {
             "pattern": {
              "fillmode": "overlay",
              "size": 10,
              "solidity": 0.2
             }
            },
            "type": "histogram"
           }
          ],
          "histogram2d": [
           {
            "colorbar": {
             "outlinewidth": 0,
             "ticks": ""
            },
            "colorscale": [
             [
              0,
              "#0d0887"
             ],
             [
              0.1111111111111111,
              "#46039f"
             ],
             [
              0.2222222222222222,
              "#7201a8"
             ],
             [
              0.3333333333333333,
              "#9c179e"
             ],
             [
              0.4444444444444444,
              "#bd3786"
             ],
             [
              0.5555555555555556,
              "#d8576b"
             ],
             [
              0.6666666666666666,
              "#ed7953"
             ],
             [
              0.7777777777777778,
              "#fb9f3a"
             ],
             [
              0.8888888888888888,
              "#fdca26"
             ],
             [
              1,
              "#f0f921"
             ]
            ],
            "type": "histogram2d"
           }
          ],
          "histogram2dcontour": [
           {
            "colorbar": {
             "outlinewidth": 0,
             "ticks": ""
            },
            "colorscale": [
             [
              0,
              "#0d0887"
             ],
             [
              0.1111111111111111,
              "#46039f"
             ],
             [
              0.2222222222222222,
              "#7201a8"
             ],
             [
              0.3333333333333333,
              "#9c179e"
             ],
             [
              0.4444444444444444,
              "#bd3786"
             ],
             [
              0.5555555555555556,
              "#d8576b"
             ],
             [
              0.6666666666666666,
              "#ed7953"
             ],
             [
              0.7777777777777778,
              "#fb9f3a"
             ],
             [
              0.8888888888888888,
              "#fdca26"
             ],
             [
              1,
              "#f0f921"
             ]
            ],
            "type": "histogram2dcontour"
           }
          ],
          "mesh3d": [
           {
            "colorbar": {
             "outlinewidth": 0,
             "ticks": ""
            },
            "type": "mesh3d"
           }
          ],
          "parcoords": [
           {
            "line": {
             "colorbar": {
              "outlinewidth": 0,
              "ticks": ""
             }
            },
            "type": "parcoords"
           }
          ],
          "pie": [
           {
            "automargin": true,
            "type": "pie"
           }
          ],
          "scatter": [
           {
            "fillpattern": {
             "fillmode": "overlay",
             "size": 10,
             "solidity": 0.2
            },
            "type": "scatter"
           }
          ],
          "scatter3d": [
           {
            "line": {
             "colorbar": {
              "outlinewidth": 0,
              "ticks": ""
             }
            },
            "marker": {
             "colorbar": {
              "outlinewidth": 0,
              "ticks": ""
             }
            },
            "type": "scatter3d"
           }
          ],
          "scattercarpet": [
           {
            "marker": {
             "colorbar": {
              "outlinewidth": 0,
              "ticks": ""
             }
            },
            "type": "scattercarpet"
           }
          ],
          "scattergeo": [
           {
            "marker": {
             "colorbar": {
              "outlinewidth": 0,
              "ticks": ""
             }
            },
            "type": "scattergeo"
           }
          ],
          "scattergl": [
           {
            "marker": {
             "colorbar": {
              "outlinewidth": 0,
              "ticks": ""
             }
            },
            "type": "scattergl"
           }
          ],
          "scattermapbox": [
           {
            "marker": {
             "colorbar": {
              "outlinewidth": 0,
              "ticks": ""
             }
            },
            "type": "scattermapbox"
           }
          ],
          "scatterpolar": [
           {
            "marker": {
             "colorbar": {
              "outlinewidth": 0,
              "ticks": ""
             }
            },
            "type": "scatterpolar"
           }
          ],
          "scatterpolargl": [
           {
            "marker": {
             "colorbar": {
              "outlinewidth": 0,
              "ticks": ""
             }
            },
            "type": "scatterpolargl"
           }
          ],
          "scatterternary": [
           {
            "marker": {
             "colorbar": {
              "outlinewidth": 0,
              "ticks": ""
             }
            },
            "type": "scatterternary"
           }
          ],
          "surface": [
           {
            "colorbar": {
             "outlinewidth": 0,
             "ticks": ""
            },
            "colorscale": [
             [
              0,
              "#0d0887"
             ],
             [
              0.1111111111111111,
              "#46039f"
             ],
             [
              0.2222222222222222,
              "#7201a8"
             ],
             [
              0.3333333333333333,
              "#9c179e"
             ],
             [
              0.4444444444444444,
              "#bd3786"
             ],
             [
              0.5555555555555556,
              "#d8576b"
             ],
             [
              0.6666666666666666,
              "#ed7953"
             ],
             [
              0.7777777777777778,
              "#fb9f3a"
             ],
             [
              0.8888888888888888,
              "#fdca26"
             ],
             [
              1,
              "#f0f921"
             ]
            ],
            "type": "surface"
           }
          ],
          "table": [
           {
            "cells": {
             "fill": {
              "color": "#EBF0F8"
             },
             "line": {
              "color": "white"
             }
            },
            "header": {
             "fill": {
              "color": "#C8D4E3"
             },
             "line": {
              "color": "white"
             }
            },
            "type": "table"
           }
          ]
         },
         "layout": {
          "annotationdefaults": {
           "arrowcolor": "#2a3f5f",
           "arrowhead": 0,
           "arrowwidth": 1
          },
          "autotypenumbers": "strict",
          "coloraxis": {
           "colorbar": {
            "outlinewidth": 0,
            "ticks": ""
           }
          },
          "colorscale": {
           "diverging": [
            [
             0,
             "#8e0152"
            ],
            [
             0.1,
             "#c51b7d"
            ],
            [
             0.2,
             "#de77ae"
            ],
            [
             0.3,
             "#f1b6da"
            ],
            [
             0.4,
             "#fde0ef"
            ],
            [
             0.5,
             "#f7f7f7"
            ],
            [
             0.6,
             "#e6f5d0"
            ],
            [
             0.7,
             "#b8e186"
            ],
            [
             0.8,
             "#7fbc41"
            ],
            [
             0.9,
             "#4d9221"
            ],
            [
             1,
             "#276419"
            ]
           ],
           "sequential": [
            [
             0,
             "#0d0887"
            ],
            [
             0.1111111111111111,
             "#46039f"
            ],
            [
             0.2222222222222222,
             "#7201a8"
            ],
            [
             0.3333333333333333,
             "#9c179e"
            ],
            [
             0.4444444444444444,
             "#bd3786"
            ],
            [
             0.5555555555555556,
             "#d8576b"
            ],
            [
             0.6666666666666666,
             "#ed7953"
            ],
            [
             0.7777777777777778,
             "#fb9f3a"
            ],
            [
             0.8888888888888888,
             "#fdca26"
            ],
            [
             1,
             "#f0f921"
            ]
           ],
           "sequentialminus": [
            [
             0,
             "#0d0887"
            ],
            [
             0.1111111111111111,
             "#46039f"
            ],
            [
             0.2222222222222222,
             "#7201a8"
            ],
            [
             0.3333333333333333,
             "#9c179e"
            ],
            [
             0.4444444444444444,
             "#bd3786"
            ],
            [
             0.5555555555555556,
             "#d8576b"
            ],
            [
             0.6666666666666666,
             "#ed7953"
            ],
            [
             0.7777777777777778,
             "#fb9f3a"
            ],
            [
             0.8888888888888888,
             "#fdca26"
            ],
            [
             1,
             "#f0f921"
            ]
           ]
          },
          "colorway": [
           "#636efa",
           "#EF553B",
           "#00cc96",
           "#ab63fa",
           "#FFA15A",
           "#19d3f3",
           "#FF6692",
           "#B6E880",
           "#FF97FF",
           "#FECB52"
          ],
          "font": {
           "color": "#2a3f5f"
          },
          "geo": {
           "bgcolor": "white",
           "lakecolor": "white",
           "landcolor": "#E5ECF6",
           "showlakes": true,
           "showland": true,
           "subunitcolor": "white"
          },
          "hoverlabel": {
           "align": "left"
          },
          "hovermode": "closest",
          "mapbox": {
           "style": "light"
          },
          "paper_bgcolor": "white",
          "plot_bgcolor": "#E5ECF6",
          "polar": {
           "angularaxis": {
            "gridcolor": "white",
            "linecolor": "white",
            "ticks": ""
           },
           "bgcolor": "#E5ECF6",
           "radialaxis": {
            "gridcolor": "white",
            "linecolor": "white",
            "ticks": ""
           }
          },
          "scene": {
           "xaxis": {
            "backgroundcolor": "#E5ECF6",
            "gridcolor": "white",
            "gridwidth": 2,
            "linecolor": "white",
            "showbackground": true,
            "ticks": "",
            "zerolinecolor": "white"
           },
           "yaxis": {
            "backgroundcolor": "#E5ECF6",
            "gridcolor": "white",
            "gridwidth": 2,
            "linecolor": "white",
            "showbackground": true,
            "ticks": "",
            "zerolinecolor": "white"
           },
           "zaxis": {
            "backgroundcolor": "#E5ECF6",
            "gridcolor": "white",
            "gridwidth": 2,
            "linecolor": "white",
            "showbackground": true,
            "ticks": "",
            "zerolinecolor": "white"
           }
          },
          "shapedefaults": {
           "line": {
            "color": "#2a3f5f"
           }
          },
          "ternary": {
           "aaxis": {
            "gridcolor": "white",
            "linecolor": "white",
            "ticks": ""
           },
           "baxis": {
            "gridcolor": "white",
            "linecolor": "white",
            "ticks": ""
           },
           "bgcolor": "#E5ECF6",
           "caxis": {
            "gridcolor": "white",
            "linecolor": "white",
            "ticks": ""
           }
          },
          "title": {
           "x": 0.05
          },
          "xaxis": {
           "automargin": true,
           "gridcolor": "white",
           "linecolor": "white",
           "ticks": "",
           "title": {
            "standoff": 15
           },
           "zerolinecolor": "white",
           "zerolinewidth": 2
          },
          "yaxis": {
           "automargin": true,
           "gridcolor": "white",
           "linecolor": "white",
           "ticks": "",
           "title": {
            "standoff": 15
           },
           "zerolinecolor": "white",
           "zerolinewidth": 2
          }
         }
        },
        "title": {
         "text": "Volcano Plot (FP21/FP22)"
        },
        "width": 700,
        "xaxis": {
         "anchor": "y",
         "domain": [
          0,
          1
         ],
         "title": {
          "text": "Log2 Fold Change"
         }
        },
        "yaxis": {
         "anchor": "x",
         "domain": [
          0,
          1
         ],
         "title": {
          "text": "-Log10(adjusted p-value)"
         }
        }
       }
      }
     },
     "metadata": {},
     "output_type": "display_data"
    }
   ],
   "source": [
    "# Protein Abundance Volcano plot\n",
    "plot_options={\n",
    "            \"compare groups\": [\"FP22\",\"FP21\"],\n",
    "            \"title\": \"Volcano Plot\",\n",
    "            \"X Title\": \"Log2 Fold Change\",\n",
    "            \"Y Title\": \"-Log10(adjusted p-value)\",\n",
    "            \"up color\": \"red\",\n",
    "            \"down color\": \"blue\",\n",
    "            \"all color\": \"gray\",\n",
    "            \"width\": 700,\n",
    "            \"height\": 450,\n",
    "            \"font\": dict(size=16, family=\"Arial black\"),\n",
    "            \"ylimits\": [],\n",
    "            \"xlimits\": []\n",
    "        }\n",
    "figure, _, _ =plotter.volcano_plots(data_obj, plot_options, saved_settings)\n",
    "figure.show()\n"
   ]
  },
  {
   "cell_type": "code",
   "execution_count": 12,
   "id": "a9487aa3",
   "metadata": {},
   "outputs": [
    {
     "name": "stdout",
     "output_type": "stream",
     "text": [
      "Empty\n",
      "Downloading links...\n"
     ]
    },
    {
     "data": {
      "application/vnd.plotly.v1+json": {
       "config": {
        "plotlyServerURL": "https://plot.ly"
       },
       "data": [
        {
         "hovertemplate": "%{text}<br>PC1: %{x} <br>PC2: %{y}",
         "legendgroup": "FP22",
         "marker": {
          "color": "blue",
          "size": 8,
          "symbol": "circle"
         },
         "mode": "markers",
         "name": "FP22",
         "orientation": "v",
         "showlegend": true,
         "text": [
          "0-1-0",
          "0-1-1",
          "0-1-2",
          "0-1-3",
          "0-1-4",
          "0-1-5",
          "0-1-6",
          "0-1-7",
          "0-1-8",
          "0-1-9"
         ],
         "type": "scatter",
         "x": [
          -0.2699475205739371,
          -0.10194443543811753,
          -0.2132070117981236,
          -0.006963900599841441,
          -0.25152790883546705,
          -0.037106099015229495,
          -0.28976623329001117,
          -0.03001705852997238,
          -0.2378694143694741,
          1.635542650465989
         ],
         "xaxis": "x",
         "y": [
          -0.368881598415041,
          0.37147477983467225,
          -0.38359633657789777,
          0.5008102603922114,
          -0.2686299301161711,
          0.410126009976122,
          -0.28993495115817347,
          0.41556646912732065,
          -0.35558128433634184,
          -0.027284602715737842
         ],
         "yaxis": "y"
        },
        {
         "hovertemplate": "%{text}<br>PC1: %{x} <br>PC2: %{y}",
         "legendgroup": "FP21",
         "marker": {
          "color": "red",
          "size": 8,
          "symbol": "circle"
         },
         "mode": "markers",
         "name": "FP21",
         "orientation": "v",
         "showlegend": true,
         "text": [
          "0-0-0",
          "0-0-1",
          "0-0-2",
          "0-0-3",
          "0-0-4",
          "0-0-5",
          "0-0-6",
          "0-0-7",
          "0-0-8",
          "0-0-9"
         ],
         "type": "scatter",
         "x": [
          -0.2925378602056886,
          -0.10318192473946074,
          -0.26291983919126005,
          -0.09675668627211752,
          -0.26516172494188817,
          -0.16395061643020253,
          -0.25823089086551765,
          -0.11181183301409292,
          -0.33443570381861615,
          1.691794011463026
         ],
         "xaxis": "x",
         "y": [
          -0.34990283175408293,
          0.4087081095440651,
          -0.36650366227534875,
          0.5220357963820755,
          -0.25704707109280556,
          0.4699796920650829,
          -0.3047881695275071,
          0.46397730144858645,
          -0.2819161381074322,
          -0.3086118426935754
         ],
         "yaxis": "y"
        }
       ],
       "layout": {
        "font": {
         "family": "Arial black",
         "size": 16
        },
        "height": 450,
        "legend": {
         "title": {
          "text": "Sample Type"
         },
         "tracegroupgap": 0
        },
        "paper_bgcolor": "rgba(255, 255, 255, 255)",
        "plot_bgcolor": "rgba(255, 255, 255, 255)",
        "template": {
         "data": {
          "bar": [
           {
            "error_x": {
             "color": "#2a3f5f"
            },
            "error_y": {
             "color": "#2a3f5f"
            },
            "marker": {
             "line": {
              "color": "#E5ECF6",
              "width": 0.5
             },
             "pattern": {
              "fillmode": "overlay",
              "size": 10,
              "solidity": 0.2
             }
            },
            "type": "bar"
           }
          ],
          "barpolar": [
           {
            "marker": {
             "line": {
              "color": "#E5ECF6",
              "width": 0.5
             },
             "pattern": {
              "fillmode": "overlay",
              "size": 10,
              "solidity": 0.2
             }
            },
            "type": "barpolar"
           }
          ],
          "carpet": [
           {
            "aaxis": {
             "endlinecolor": "#2a3f5f",
             "gridcolor": "white",
             "linecolor": "white",
             "minorgridcolor": "white",
             "startlinecolor": "#2a3f5f"
            },
            "baxis": {
             "endlinecolor": "#2a3f5f",
             "gridcolor": "white",
             "linecolor": "white",
             "minorgridcolor": "white",
             "startlinecolor": "#2a3f5f"
            },
            "type": "carpet"
           }
          ],
          "choropleth": [
           {
            "colorbar": {
             "outlinewidth": 0,
             "ticks": ""
            },
            "type": "choropleth"
           }
          ],
          "contour": [
           {
            "colorbar": {
             "outlinewidth": 0,
             "ticks": ""
            },
            "colorscale": [
             [
              0,
              "#0d0887"
             ],
             [
              0.1111111111111111,
              "#46039f"
             ],
             [
              0.2222222222222222,
              "#7201a8"
             ],
             [
              0.3333333333333333,
              "#9c179e"
             ],
             [
              0.4444444444444444,
              "#bd3786"
             ],
             [
              0.5555555555555556,
              "#d8576b"
             ],
             [
              0.6666666666666666,
              "#ed7953"
             ],
             [
              0.7777777777777778,
              "#fb9f3a"
             ],
             [
              0.8888888888888888,
              "#fdca26"
             ],
             [
              1,
              "#f0f921"
             ]
            ],
            "type": "contour"
           }
          ],
          "contourcarpet": [
           {
            "colorbar": {
             "outlinewidth": 0,
             "ticks": ""
            },
            "type": "contourcarpet"
           }
          ],
          "heatmap": [
           {
            "colorbar": {
             "outlinewidth": 0,
             "ticks": ""
            },
            "colorscale": [
             [
              0,
              "#0d0887"
             ],
             [
              0.1111111111111111,
              "#46039f"
             ],
             [
              0.2222222222222222,
              "#7201a8"
             ],
             [
              0.3333333333333333,
              "#9c179e"
             ],
             [
              0.4444444444444444,
              "#bd3786"
             ],
             [
              0.5555555555555556,
              "#d8576b"
             ],
             [
              0.6666666666666666,
              "#ed7953"
             ],
             [
              0.7777777777777778,
              "#fb9f3a"
             ],
             [
              0.8888888888888888,
              "#fdca26"
             ],
             [
              1,
              "#f0f921"
             ]
            ],
            "type": "heatmap"
           }
          ],
          "heatmapgl": [
           {
            "colorbar": {
             "outlinewidth": 0,
             "ticks": ""
            },
            "colorscale": [
             [
              0,
              "#0d0887"
             ],
             [
              0.1111111111111111,
              "#46039f"
             ],
             [
              0.2222222222222222,
              "#7201a8"
             ],
             [
              0.3333333333333333,
              "#9c179e"
             ],
             [
              0.4444444444444444,
              "#bd3786"
             ],
             [
              0.5555555555555556,
              "#d8576b"
             ],
             [
              0.6666666666666666,
              "#ed7953"
             ],
             [
              0.7777777777777778,
              "#fb9f3a"
             ],
             [
              0.8888888888888888,
              "#fdca26"
             ],
             [
              1,
              "#f0f921"
             ]
            ],
            "type": "heatmapgl"
           }
          ],
          "histogram": [
           {
            "marker": {
             "pattern": {
              "fillmode": "overlay",
              "size": 10,
              "solidity": 0.2
             }
            },
            "type": "histogram"
           }
          ],
          "histogram2d": [
           {
            "colorbar": {
             "outlinewidth": 0,
             "ticks": ""
            },
            "colorscale": [
             [
              0,
              "#0d0887"
             ],
             [
              0.1111111111111111,
              "#46039f"
             ],
             [
              0.2222222222222222,
              "#7201a8"
             ],
             [
              0.3333333333333333,
              "#9c179e"
             ],
             [
              0.4444444444444444,
              "#bd3786"
             ],
             [
              0.5555555555555556,
              "#d8576b"
             ],
             [
              0.6666666666666666,
              "#ed7953"
             ],
             [
              0.7777777777777778,
              "#fb9f3a"
             ],
             [
              0.8888888888888888,
              "#fdca26"
             ],
             [
              1,
              "#f0f921"
             ]
            ],
            "type": "histogram2d"
           }
          ],
          "histogram2dcontour": [
           {
            "colorbar": {
             "outlinewidth": 0,
             "ticks": ""
            },
            "colorscale": [
             [
              0,
              "#0d0887"
             ],
             [
              0.1111111111111111,
              "#46039f"
             ],
             [
              0.2222222222222222,
              "#7201a8"
             ],
             [
              0.3333333333333333,
              "#9c179e"
             ],
             [
              0.4444444444444444,
              "#bd3786"
             ],
             [
              0.5555555555555556,
              "#d8576b"
             ],
             [
              0.6666666666666666,
              "#ed7953"
             ],
             [
              0.7777777777777778,
              "#fb9f3a"
             ],
             [
              0.8888888888888888,
              "#fdca26"
             ],
             [
              1,
              "#f0f921"
             ]
            ],
            "type": "histogram2dcontour"
           }
          ],
          "mesh3d": [
           {
            "colorbar": {
             "outlinewidth": 0,
             "ticks": ""
            },
            "type": "mesh3d"
           }
          ],
          "parcoords": [
           {
            "line": {
             "colorbar": {
              "outlinewidth": 0,
              "ticks": ""
             }
            },
            "type": "parcoords"
           }
          ],
          "pie": [
           {
            "automargin": true,
            "type": "pie"
           }
          ],
          "scatter": [
           {
            "fillpattern": {
             "fillmode": "overlay",
             "size": 10,
             "solidity": 0.2
            },
            "type": "scatter"
           }
          ],
          "scatter3d": [
           {
            "line": {
             "colorbar": {
              "outlinewidth": 0,
              "ticks": ""
             }
            },
            "marker": {
             "colorbar": {
              "outlinewidth": 0,
              "ticks": ""
             }
            },
            "type": "scatter3d"
           }
          ],
          "scattercarpet": [
           {
            "marker": {
             "colorbar": {
              "outlinewidth": 0,
              "ticks": ""
             }
            },
            "type": "scattercarpet"
           }
          ],
          "scattergeo": [
           {
            "marker": {
             "colorbar": {
              "outlinewidth": 0,
              "ticks": ""
             }
            },
            "type": "scattergeo"
           }
          ],
          "scattergl": [
           {
            "marker": {
             "colorbar": {
              "outlinewidth": 0,
              "ticks": ""
             }
            },
            "type": "scattergl"
           }
          ],
          "scattermapbox": [
           {
            "marker": {
             "colorbar": {
              "outlinewidth": 0,
              "ticks": ""
             }
            },
            "type": "scattermapbox"
           }
          ],
          "scatterpolar": [
           {
            "marker": {
             "colorbar": {
              "outlinewidth": 0,
              "ticks": ""
             }
            },
            "type": "scatterpolar"
           }
          ],
          "scatterpolargl": [
           {
            "marker": {
             "colorbar": {
              "outlinewidth": 0,
              "ticks": ""
             }
            },
            "type": "scatterpolargl"
           }
          ],
          "scatterternary": [
           {
            "marker": {
             "colorbar": {
              "outlinewidth": 0,
              "ticks": ""
             }
            },
            "type": "scatterternary"
           }
          ],
          "surface": [
           {
            "colorbar": {
             "outlinewidth": 0,
             "ticks": ""
            },
            "colorscale": [
             [
              0,
              "#0d0887"
             ],
             [
              0.1111111111111111,
              "#46039f"
             ],
             [
              0.2222222222222222,
              "#7201a8"
             ],
             [
              0.3333333333333333,
              "#9c179e"
             ],
             [
              0.4444444444444444,
              "#bd3786"
             ],
             [
              0.5555555555555556,
              "#d8576b"
             ],
             [
              0.6666666666666666,
              "#ed7953"
             ],
             [
              0.7777777777777778,
              "#fb9f3a"
             ],
             [
              0.8888888888888888,
              "#fdca26"
             ],
             [
              1,
              "#f0f921"
             ]
            ],
            "type": "surface"
           }
          ],
          "table": [
           {
            "cells": {
             "fill": {
              "color": "#EBF0F8"
             },
             "line": {
              "color": "white"
             }
            },
            "header": {
             "fill": {
              "color": "#C8D4E3"
             },
             "line": {
              "color": "white"
             }
            },
            "type": "table"
           }
          ]
         },
         "layout": {
          "annotationdefaults": {
           "arrowcolor": "#2a3f5f",
           "arrowhead": 0,
           "arrowwidth": 1
          },
          "autotypenumbers": "strict",
          "coloraxis": {
           "colorbar": {
            "outlinewidth": 0,
            "ticks": ""
           }
          },
          "colorscale": {
           "diverging": [
            [
             0,
             "#8e0152"
            ],
            [
             0.1,
             "#c51b7d"
            ],
            [
             0.2,
             "#de77ae"
            ],
            [
             0.3,
             "#f1b6da"
            ],
            [
             0.4,
             "#fde0ef"
            ],
            [
             0.5,
             "#f7f7f7"
            ],
            [
             0.6,
             "#e6f5d0"
            ],
            [
             0.7,
             "#b8e186"
            ],
            [
             0.8,
             "#7fbc41"
            ],
            [
             0.9,
             "#4d9221"
            ],
            [
             1,
             "#276419"
            ]
           ],
           "sequential": [
            [
             0,
             "#0d0887"
            ],
            [
             0.1111111111111111,
             "#46039f"
            ],
            [
             0.2222222222222222,
             "#7201a8"
            ],
            [
             0.3333333333333333,
             "#9c179e"
            ],
            [
             0.4444444444444444,
             "#bd3786"
            ],
            [
             0.5555555555555556,
             "#d8576b"
            ],
            [
             0.6666666666666666,
             "#ed7953"
            ],
            [
             0.7777777777777778,
             "#fb9f3a"
            ],
            [
             0.8888888888888888,
             "#fdca26"
            ],
            [
             1,
             "#f0f921"
            ]
           ],
           "sequentialminus": [
            [
             0,
             "#0d0887"
            ],
            [
             0.1111111111111111,
             "#46039f"
            ],
            [
             0.2222222222222222,
             "#7201a8"
            ],
            [
             0.3333333333333333,
             "#9c179e"
            ],
            [
             0.4444444444444444,
             "#bd3786"
            ],
            [
             0.5555555555555556,
             "#d8576b"
            ],
            [
             0.6666666666666666,
             "#ed7953"
            ],
            [
             0.7777777777777778,
             "#fb9f3a"
            ],
            [
             0.8888888888888888,
             "#fdca26"
            ],
            [
             1,
             "#f0f921"
            ]
           ]
          },
          "colorway": [
           "#636efa",
           "#EF553B",
           "#00cc96",
           "#ab63fa",
           "#FFA15A",
           "#19d3f3",
           "#FF6692",
           "#B6E880",
           "#FF97FF",
           "#FECB52"
          ],
          "font": {
           "color": "#2a3f5f"
          },
          "geo": {
           "bgcolor": "white",
           "lakecolor": "white",
           "landcolor": "#E5ECF6",
           "showlakes": true,
           "showland": true,
           "subunitcolor": "white"
          },
          "hoverlabel": {
           "align": "left"
          },
          "hovermode": "closest",
          "mapbox": {
           "style": "light"
          },
          "paper_bgcolor": "white",
          "plot_bgcolor": "#E5ECF6",
          "polar": {
           "angularaxis": {
            "gridcolor": "white",
            "linecolor": "white",
            "ticks": ""
           },
           "bgcolor": "#E5ECF6",
           "radialaxis": {
            "gridcolor": "white",
            "linecolor": "white",
            "ticks": ""
           }
          },
          "scene": {
           "xaxis": {
            "backgroundcolor": "#E5ECF6",
            "gridcolor": "white",
            "gridwidth": 2,
            "linecolor": "white",
            "showbackground": true,
            "ticks": "",
            "zerolinecolor": "white"
           },
           "yaxis": {
            "backgroundcolor": "#E5ECF6",
            "gridcolor": "white",
            "gridwidth": 2,
            "linecolor": "white",
            "showbackground": true,
            "ticks": "",
            "zerolinecolor": "white"
           },
           "zaxis": {
            "backgroundcolor": "#E5ECF6",
            "gridcolor": "white",
            "gridwidth": 2,
            "linecolor": "white",
            "showbackground": true,
            "ticks": "",
            "zerolinecolor": "white"
           }
          },
          "shapedefaults": {
           "line": {
            "color": "#2a3f5f"
           }
          },
          "ternary": {
           "aaxis": {
            "gridcolor": "white",
            "linecolor": "white",
            "ticks": ""
           },
           "baxis": {
            "gridcolor": "white",
            "linecolor": "white",
            "ticks": ""
           },
           "bgcolor": "#E5ECF6",
           "caxis": {
            "gridcolor": "white",
            "linecolor": "white",
            "ticks": ""
           }
          },
          "title": {
           "x": 0.05
          },
          "xaxis": {
           "automargin": true,
           "gridcolor": "white",
           "linecolor": "white",
           "ticks": "",
           "title": {
            "standoff": 15
           },
           "zerolinecolor": "white",
           "zerolinewidth": 2
          },
          "yaxis": {
           "automargin": true,
           "gridcolor": "white",
           "linecolor": "white",
           "ticks": "",
           "title": {
            "standoff": 15
           },
           "zerolinecolor": "white",
           "zerolinewidth": 2
          }
         }
        },
        "title": {
         "text": "PCA Analysis"
        },
        "width": 700,
        "xaxis": {
         "anchor": "y",
         "domain": [
          0,
          1
         ],
         "linecolor": "black",
         "mirror": true,
         "showticklabels": false,
         "title": {
          "text": "PC1 (49.97%)"
         }
        },
        "yaxis": {
         "anchor": "x",
         "domain": [
          0,
          1
         ],
         "linecolor": "black",
         "mirror": true,
         "showticklabels": false,
         "title": {
          "text": "PC2 (21.79%)"
         }
        }
       }
      }
     },
     "metadata": {},
     "output_type": "display_data"
    }
   ],
   "source": [
    "# Protein Abundance PCA plot\n",
    "plot_options={\n",
    "            \"compare groups\": [\"FP22\",\"FP21\"],\n",
    "            \"title\": \"PCA Analysis\",\n",
    "            \"color\": [\"blue\", \"red\", \"green\", \"black\", \"yellow\", \"purple\",\n",
    "                      \"orange\", \"brown\", \"pink\", \"gray\", \"olive\", \"cyan\"],\n",
    "            \"symbol\": ['circle', 'circle', 'circle'],\n",
    "            \"marker_size\": 8,\n",
    "            \"width\": 700,\n",
    "            \"height\": 450,\n",
    "            \"font\": dict(size=16, family=\"Arial black\"),\n",
    "            \"ylimits\": [],\n",
    "            \"xlimits\": []\n",
    "        }\n",
    "figure, _, _ =plotter.PCA_plots(data_obj, plot_options, saved_settings)\n",
    "figure.show()\n"
   ]
  },
  {
   "cell_type": "code",
   "execution_count": 13,
   "id": "8542a993",
   "metadata": {},
   "outputs": [
    {
     "name": "stdout",
     "output_type": "stream",
     "text": [
      "{'0-0-0': 'FP22_#0', '0-0-1': 'FP22_#1', '0-0-2': 'FP22_#2', '0-0-3': 'FP22_#3', '0-0-4': 'FP22_#4', '0-0-5': 'FP22_#5', '0-0-6': 'FP22_#6', '0-0-7': 'FP22_#7', '0-0-8': 'FP22_#8', '0-0-9': 'FP22_#9', '0-1-0': 'FP22_#10', '0-1-1': 'FP22_#11', '0-1-2': 'FP22_#12', '0-1-3': 'FP22_#13', '0-1-4': 'FP22_#14', '0-1-5': 'FP22_#15', '0-1-6': 'FP22_#16', '0-1-7': 'FP22_#17', '0-1-8': 'FP22_#18', '0-1-9': 'FP22_#19', '0-2-0': 'FP22_#20', '0-2-1': 'FP22_#21', '0-2-2': 'FP22_#22', '0-2-3': 'FP22_#23', '0-2-4': 'FP22_#24', '0-2-5': 'FP22_#25', '0-2-6': 'FP22_#26', '0-2-7': 'FP22_#27', '0-2-8': 'FP22_#28', '0-2-9': 'FP22_#29'}\n",
      "Empty\n",
      "{'0-0-0': 'FP21_#0', '0-0-1': 'FP21_#1', '0-0-2': 'FP21_#2', '0-0-3': 'FP21_#3', '0-0-4': 'FP21_#4', '0-0-5': 'FP21_#5', '0-0-6': 'FP21_#6', '0-0-7': 'FP21_#7', '0-0-8': 'FP21_#8', '0-0-9': 'FP21_#9', '0-1-0': 'FP21_#10', '0-1-1': 'FP21_#11', '0-1-2': 'FP21_#12', '0-1-3': 'FP21_#13', '0-1-4': 'FP21_#14', '0-1-5': 'FP21_#15', '0-1-6': 'FP21_#16', '0-1-7': 'FP21_#17', '0-1-8': 'FP21_#18', '0-1-9': 'FP21_#19', '0-2-0': 'FP21_#20', '0-2-1': 'FP21_#21', '0-2-2': 'FP21_#22', '0-2-3': 'FP21_#23', '0-2-4': 'FP21_#24', '0-2-5': 'FP21_#25', '0-2-6': 'FP21_#26', '0-2-7': 'FP21_#27', '0-2-8': 'FP21_#28', '0-2-9': 'FP21_#29'}\n",
      "    Accession    FP21_#0    FP21_#1    FP21_#2    FP21_#3    FP21_#4  \\\n",
      "0       RPSA2  24.608352  24.079593  24.783009  24.383762  24.358107   \n",
      "3     SUMO1P1  19.607332  19.523963  19.716455  19.832835  19.463961   \n",
      "5        SMAP  20.698536  21.349332  21.026545  21.579665  20.890228   \n",
      "6      PSMD11  20.721707  20.806738  20.440149  20.472306  20.945241   \n",
      "9        IPO5  19.794401  19.255760  19.913876  18.934323  19.748074   \n",
      "..        ...        ...        ...        ...        ...        ...   \n",
      "670     PPIL1  20.182641  18.916684  19.824410  18.730539  20.345197   \n",
      "673      TLN1  20.774849  20.008623  21.008206        NaN  20.225046   \n",
      "674     HYOU1  21.204804  20.093256  20.264112  20.727652  21.259947   \n",
      "675   SUPT16H  20.593996  20.630023  20.945402  19.715940  19.944461   \n",
      "676     RBM8A  23.377691  22.940200  23.062286  22.599432  22.574347   \n",
      "\n",
      "       FP21_#5    FP21_#6    FP21_#7    FP21_#8  FP21_#9  \n",
      "0    23.883117  24.456754  24.083905  24.613838      NaN  \n",
      "3    19.866923  19.818853  20.021145  20.283184      NaN  \n",
      "5    20.715153        NaN        NaN  20.916654      NaN  \n",
      "6    20.537847  20.656612  20.194679  20.467411      NaN  \n",
      "9    19.401015  19.726284  18.838125  19.633790      NaN  \n",
      "..         ...        ...        ...        ...      ...  \n",
      "670  18.562225  20.162155  19.663960  20.274453      NaN  \n",
      "673  19.996046  20.466491        NaN  20.182471      NaN  \n",
      "674  20.862283  20.706335  20.904501  21.095495      NaN  \n",
      "675  20.385256  20.271108  20.743882  20.535847      NaN  \n",
      "676  22.586753  22.543569  22.712835  22.210196      NaN  \n",
      "\n",
      "[461 rows x 11 columns]\n",
      "    Accession   FP22_#10   FP22_#11   FP22_#12   FP22_#13   FP22_#14  \\\n",
      "0       RPSA2  24.349086  24.290356  24.640815  24.603679  24.428481   \n",
      "1      PSMD11  20.601969  21.199462  20.468596  21.427561  20.649690   \n",
      "2        IPO5  19.515726  18.016502  18.928991  20.769947  20.594334   \n",
      "3      PSMD14  20.586609  20.159246  20.417461  19.718160  19.833067   \n",
      "4       DDX3X  21.444773  22.591711  22.480386  22.339622  22.104721   \n",
      "..        ...        ...        ...        ...        ...        ...   \n",
      "315    RUVBL1  21.572751  22.265484  22.222513        NaN  22.737327   \n",
      "316      NUDC  23.821585  23.515012  23.653494  22.876662  24.124805   \n",
      "317    THRAP3  21.934269  21.233737  21.689730  20.448448  21.440784   \n",
      "318    LUC7L2  21.887513  22.217467  21.546112  22.052010  21.331097   \n",
      "319     RBM8A  23.168455  22.868400  22.600443  22.450492  22.440597   \n",
      "\n",
      "      FP22_#15   FP22_#16   FP22_#17   FP22_#18  ...    FP21_#0    FP21_#1  \\\n",
      "0    24.097095  24.238489  23.703220  24.102555  ...  24.608352  24.079593   \n",
      "1    21.214051  20.124857  20.949507  21.015862  ...  20.721707  20.806738   \n",
      "2    20.365868  21.072086  20.217342  20.910559  ...  19.794401  19.255760   \n",
      "3    19.426862  19.573524  19.052628  19.436184  ...  20.640385  20.427468   \n",
      "4    22.126767  22.512231  21.706342  21.473347  ...  21.697337  21.933368   \n",
      "..         ...        ...        ...        ...  ...        ...        ...   \n",
      "315        NaN  21.828117  21.522134  21.856973  ...  21.741190  21.481537   \n",
      "316  23.139908  23.534232  23.143043  23.687059  ...  23.876396  23.179443   \n",
      "317  20.059590  21.168995  20.354214  21.320448  ...  21.629153  20.324990   \n",
      "318  21.710636  21.558105  21.592402  21.509409  ...  21.501735  22.115128   \n",
      "319  22.818868  22.205889  22.898321  22.499451  ...  23.377691  22.940200   \n",
      "\n",
      "       FP21_#2    FP21_#3    FP21_#4    FP21_#5    FP21_#6    FP21_#7  \\\n",
      "0    24.783009  24.383762  24.358107  23.883117  24.456754  24.083905   \n",
      "1    20.440149  20.472306  20.945241  20.537847  20.656612  20.194679   \n",
      "2    19.913876  18.934323  19.748074  19.401015  19.726284  18.838125   \n",
      "3    20.819280  19.914464  20.690700  20.132172  20.669880  19.979482   \n",
      "4    21.742194  21.984009  21.653017  22.138150  21.761629  21.875124   \n",
      "..         ...        ...        ...        ...        ...        ...   \n",
      "315  21.549477  20.689192  20.691160  21.594770  21.336428  21.287506   \n",
      "316  23.786344  23.831109  24.142345  23.794566  24.156555  23.801080   \n",
      "317  21.091412  20.571047  21.348967  21.128269  21.434877  20.580720   \n",
      "318  21.690901  21.816575        NaN  22.686239  22.278745  22.189002   \n",
      "319  23.062286  22.599432  22.574347  22.586753  22.543569  22.712835   \n",
      "\n",
      "       FP21_#8  FP21_#9  \n",
      "0    24.613838      NaN  \n",
      "1    20.467411      NaN  \n",
      "2    19.633790      NaN  \n",
      "3    20.631777      NaN  \n",
      "4    21.528348      NaN  \n",
      "..         ...      ...  \n",
      "315  20.953601      NaN  \n",
      "316  24.003232      NaN  \n",
      "317  20.951406      NaN  \n",
      "318  22.126229      NaN  \n",
      "319  22.210196      NaN  \n",
      "\n",
      "[320 rows x 21 columns]\n",
      "    Accession  IntensityFP22_#10  IntensityFP22_#11  IntensityFP22_#12  \\\n",
      "0       RPSA2          24.349086          24.290356          24.640815   \n",
      "1      PSMD11          20.601969          21.199462          20.468596   \n",
      "2        IPO5          19.515726          18.016502          18.928991   \n",
      "3      PSMD14          20.586609          20.159246          20.417461   \n",
      "4       DDX3X          21.444773          22.591711          22.480386   \n",
      "..        ...                ...                ...                ...   \n",
      "315    RUVBL1          21.572751          22.265484          22.222513   \n",
      "316      NUDC          23.821585          23.515012          23.653494   \n",
      "317    THRAP3          21.934269          21.233737          21.689730   \n",
      "318    LUC7L2          21.887513          22.217467          21.546112   \n",
      "319     RBM8A          23.168455          22.868400          22.600443   \n",
      "\n",
      "     IntensityFP22_#13  IntensityFP22_#14  IntensityFP22_#15  \\\n",
      "0            24.603679          24.428481          24.097095   \n",
      "1            21.427561          20.649690          21.214051   \n",
      "2            20.769947          20.594334          20.365868   \n",
      "3            19.718160          19.833067          19.426862   \n",
      "4            22.339622          22.104721          22.126767   \n",
      "..                 ...                ...                ...   \n",
      "315                NaN          22.737327                NaN   \n",
      "316          22.876662          24.124805          23.139908   \n",
      "317          20.448448          21.440784          20.059590   \n",
      "318          22.052010          21.331097          21.710636   \n",
      "319          22.450492          22.440597          22.818868   \n",
      "\n",
      "     IntensityFP22_#16  IntensityFP22_#17  IntensityFP22_#18  ...  \\\n",
      "0            24.238489          23.703220          24.102555  ...   \n",
      "1            20.124857          20.949507          21.015862  ...   \n",
      "2            21.072086          20.217342          20.910559  ...   \n",
      "3            19.573524          19.052628          19.436184  ...   \n",
      "4            22.512231          21.706342          21.473347  ...   \n",
      "..                 ...                ...                ...  ...   \n",
      "315          21.828117          21.522134          21.856973  ...   \n",
      "316          23.534232          23.143043          23.687059  ...   \n",
      "317          21.168995          20.354214          21.320448  ...   \n",
      "318          21.558105          21.592402          21.509409  ...   \n",
      "319          22.205889          22.898321          22.499451  ...   \n",
      "\n",
      "     IntensityFP21_#0  IntensityFP21_#1  IntensityFP21_#2  IntensityFP21_#3  \\\n",
      "0           24.608352         24.079593         24.783009         24.383762   \n",
      "1           20.721707         20.806738         20.440149         20.472306   \n",
      "2           19.794401         19.255760         19.913876         18.934323   \n",
      "3           20.640385         20.427468         20.819280         19.914464   \n",
      "4           21.697337         21.933368         21.742194         21.984009   \n",
      "..                ...               ...               ...               ...   \n",
      "315         21.741190         21.481537         21.549477         20.689192   \n",
      "316         23.876396         23.179443         23.786344         23.831109   \n",
      "317         21.629153         20.324990         21.091412         20.571047   \n",
      "318         21.501735         22.115128         21.690901         21.816575   \n",
      "319         23.377691         22.940200         23.062286         22.599432   \n",
      "\n",
      "     IntensityFP21_#4  IntensityFP21_#5  IntensityFP21_#6  IntensityFP21_#7  \\\n",
      "0           24.358107         23.883117         24.456754         24.083905   \n",
      "1           20.945241         20.537847         20.656612         20.194679   \n",
      "2           19.748074         19.401015         19.726284         18.838125   \n",
      "3           20.690700         20.132172         20.669880         19.979482   \n",
      "4           21.653017         22.138150         21.761629         21.875124   \n",
      "..                ...               ...               ...               ...   \n",
      "315         20.691160         21.594770         21.336428         21.287506   \n",
      "316         24.142345         23.794566         24.156555         23.801080   \n",
      "317         21.348967         21.128269         21.434877         20.580720   \n",
      "318               NaN         22.686239         22.278745         22.189002   \n",
      "319         22.574347         22.586753         22.543569         22.712835   \n",
      "\n",
      "     IntensityFP21_#8  IntensityFP21_#9  \n",
      "0           24.613838               NaN  \n",
      "1           20.467411               NaN  \n",
      "2           19.633790               NaN  \n",
      "3           20.631777               NaN  \n",
      "4           21.528348               NaN  \n",
      "..                ...               ...  \n",
      "315         20.953601               NaN  \n",
      "316         24.003232               NaN  \n",
      "317         20.951406               NaN  \n",
      "318         22.126229               NaN  \n",
      "319         22.210196               NaN  \n",
      "\n",
      "[320 rows x 21 columns]\n",
      "     Accession    Sample  index  Intensity\n",
      "0        RPSA2  FP22_#10      0  24.349086\n",
      "1       PSMD11  FP22_#10      1  20.601969\n",
      "2         IPO5  FP22_#10      2  19.515726\n",
      "3       PSMD14  FP22_#10      3  20.586609\n",
      "4        DDX3X  FP22_#10      4  21.444773\n",
      "...        ...       ...    ...        ...\n",
      "6395    RUVBL1   FP21_#9    315        NaN\n",
      "6396      NUDC   FP21_#9    316        NaN\n",
      "6397    THRAP3   FP21_#9    317        NaN\n",
      "6398    LUC7L2   FP21_#9    318        NaN\n",
      "6399     RBM8A   FP21_#9    319        NaN\n",
      "\n",
      "[6400 rows x 4 columns]\n",
      "Accession    Sample      ABCE1       ACLY       ACTB      ACTC1      ACTN4  \\\n",
      "0           FP21_#0  21.512416  21.890733  29.039681  27.224079  23.604956   \n",
      "1           FP21_#1  22.176532  22.226579  28.090247  27.092712  22.569119   \n",
      "2           FP21_#2  21.379727  21.692470  28.667837  27.995129  23.750033   \n",
      "3           FP21_#3  22.190585  22.120775  27.958236  25.856327  22.355552   \n",
      "4           FP21_#4  22.070005  21.090352  29.146569  26.879163  22.855919   \n",
      "5           FP21_#5  21.826493  22.292759  28.277042  25.446050  22.408961   \n",
      "6           FP21_#6  21.846713  21.610967  29.191878  26.901786  23.251504   \n",
      "7           FP21_#7  21.923979  21.878939  28.194320  25.571621  22.305804   \n",
      "8           FP21_#8  22.151182  20.391860  28.902097  27.359337  23.566309   \n",
      "9           FP21_#9        NaN        NaN  26.781243        NaN        NaN   \n",
      "10         FP22_#10  21.508927  21.621996  28.921537  27.083392  23.575933   \n",
      "11         FP22_#11  22.076774  22.378716  28.308907  26.766000  23.028206   \n",
      "12         FP22_#12  21.856042  21.606847  28.674272  27.496474  23.486857   \n",
      "13         FP22_#13  22.023882  21.880900  27.688174  26.483771  23.134939   \n",
      "14         FP22_#14  21.507301  21.463109  29.243609  27.669673  23.851274   \n",
      "15         FP22_#15  21.705080  22.212365  28.155979  25.335704  23.543836   \n",
      "16         FP22_#16  21.932741  21.111528  29.173164  27.316434  23.895818   \n",
      "17         FP22_#17  21.760109  21.632301  27.992167  25.480895  22.220647   \n",
      "18         FP22_#18  21.788380  21.426462  28.869316  27.501998  24.177896   \n",
      "19         FP22_#19        NaN        NaN  25.715262        NaN        NaN   \n",
      "\n",
      "Accession      AHSA1      AIFM1        AK2    ALDH9A1  ...        VCP  \\\n",
      "0          20.645987  22.307359  23.646698  21.194252  ...  24.338374   \n",
      "1          20.965930  22.254437  22.867541  21.305759  ...  23.624820   \n",
      "2          20.605702  21.842807  23.933694  20.780475  ...  24.418952   \n",
      "3          21.289666  21.839194  22.784490  21.072894  ...  23.593292   \n",
      "4          20.585914  22.002684  23.555492        NaN  ...  24.233116   \n",
      "5          21.283582  22.137703  22.814955  21.475894  ...  23.748188   \n",
      "6          20.388777  22.231147  23.420525        NaN  ...  24.257188   \n",
      "7          21.094427  22.275705  23.333883  21.391790  ...  23.361105   \n",
      "8          21.443573  22.593738  22.920989  20.724794  ...  24.317149   \n",
      "9                NaN        NaN        NaN        NaN  ...        NaN   \n",
      "10         20.967908  22.835730  24.192652  20.882896  ...  24.383067   \n",
      "11         20.573097  22.622972  22.756630  21.019768  ...  23.658285   \n",
      "12         20.963599  22.593283  23.892272  20.662661  ...  24.092420   \n",
      "13         20.606952  22.300543  22.329551  21.392890  ...  23.522189   \n",
      "14         20.677628  21.756225  23.283952        NaN  ...  24.189863   \n",
      "15         20.541369  22.331259  22.340442  20.966098  ...  23.387710   \n",
      "16         20.684063  22.293667  23.242808  20.576681  ...  24.430601   \n",
      "17         21.279234  22.540983  22.343321        NaN  ...  23.306419   \n",
      "18         19.693964  22.284894  23.500982  20.601029  ...  24.139130   \n",
      "19               NaN  22.205489        NaN        NaN  ...        NaN   \n",
      "\n",
      "Accession        VIM       WDR1      XRCC5      YARS1       YBX1      YWHAB  \\\n",
      "0          24.379505  21.006459  22.628953  22.928745  23.282172  24.268741   \n",
      "1          25.603550  20.122014  22.765099  22.274632  23.900209  23.222178   \n",
      "2          23.513064  20.805457  22.691345  22.904338  22.678829  24.034116   \n",
      "3          25.963037  20.180846  23.031538  22.696182        NaN  23.938004   \n",
      "4          24.719507  21.312854  22.926752  23.071595  24.134728  24.400773   \n",
      "5          25.817675  19.931708  23.221844  22.664810  23.863106  23.352835   \n",
      "6          24.162456  21.167725  22.670293  23.460091  23.590606  23.798536   \n",
      "7          25.748529  20.060861  22.878755  22.557619        NaN  23.504057   \n",
      "8          24.554160  21.123074  22.584671  23.289692  24.108442  24.334259   \n",
      "9          24.702565        NaN        NaN        NaN        NaN        NaN   \n",
      "10         24.439229  20.925585  22.536509  23.374445  23.274787  23.352641   \n",
      "11         25.918942  19.973522  23.004109  22.367428  24.181160  24.357043   \n",
      "12         23.867245  20.643671  23.109166  23.256213  24.723141  24.275543   \n",
      "13         25.971008        NaN  23.420831  23.184034  23.218016  24.427487   \n",
      "14         25.362305  20.501923  22.392160  22.800355  25.040204  24.389062   \n",
      "15         25.833996  19.582312  22.577675  21.811459  23.485950        NaN   \n",
      "16         24.890509  20.714157  22.762105  22.993283  24.896922  24.393238   \n",
      "17         25.975147  20.280433  23.181011  22.224889  23.072872  24.640953   \n",
      "18         25.095143  21.182544  22.839069  22.734708  25.183059  25.101394   \n",
      "19         24.443349        NaN        NaN        NaN        NaN        NaN   \n",
      "\n",
      "Accession      YWHAE      YWHAQ      YWHAZ  \n",
      "0          25.009396  24.094007  24.926356  \n",
      "1          26.335924  24.033308  24.654133  \n",
      "2          25.321607  23.758508  24.554760  \n",
      "3          26.381317  23.816506  25.124432  \n",
      "4          25.132541  23.871039  25.126002  \n",
      "5          26.063025  23.638009  25.015829  \n",
      "6          24.949120  23.955746  25.072964  \n",
      "7          25.805933  23.192147  24.484452  \n",
      "8          25.007855  23.631581  25.147169  \n",
      "9          23.630030        NaN  22.688634  \n",
      "10         25.039680  24.056681  25.166413  \n",
      "11         25.896340  22.870381  24.814271  \n",
      "12         24.615278  23.116412  24.857918  \n",
      "13         25.854012  23.090257  24.715648  \n",
      "14         24.810714  23.225884  25.042733  \n",
      "15         26.341473  23.029678  24.631738  \n",
      "16         24.663729  23.370835  25.301598  \n",
      "17         26.067905  23.016403  24.752325  \n",
      "18         24.326119  23.406702  24.987279  \n",
      "19         23.244723        NaN        NaN  \n",
      "\n",
      "[20 rows x 321 columns]\n"
     ]
    },
    {
     "data": {
      "application/vnd.plotly.v1+json": {
       "config": {
        "plotlyServerURL": "https://plot.ly"
       },
       "data": [
        {
         "coloraxis": "coloraxis",
         "hovertemplate": "x: %{x}<br>Accession: %{y}<br>color: %{z}<extra></extra>",
         "name": "0",
         "type": "heatmap",
         "x": [
          "FP22_#10",
          "FP22_#11",
          "FP22_#12",
          "FP22_#13",
          "FP22_#14",
          "FP22_#15",
          "FP22_#16",
          "FP22_#17",
          "FP22_#18",
          "FP22_#19",
          "FP21_#0",
          "FP21_#1",
          "FP21_#2",
          "FP21_#3",
          "FP21_#4",
          "FP21_#5",
          "FP21_#6",
          "FP21_#7",
          "FP21_#8",
          "FP21_#9"
         ],
         "xaxis": "x",
         "y": [
          "PGK1",
          "VIM",
          "H1-4",
          "ACTB",
          "YWHAE"
         ],
         "yaxis": "y",
         "z": [
          [
           23.68217035206155,
           23.321815381607237,
           23.597217422488168,
           23.194705196790103,
           23.764475871286116,
           23.14929944217931,
           23.822605666190146,
           23.506549489253384,
           23.697026360462118,
           21.572354465395364,
           23.90388370957945,
           23.487632004681192,
           23.970190167119494,
           22.889515997561475,
           23.74797109931423,
           23.408886523830787,
           23.571472479152863,
           22.93198771697949,
           23.76237687113869,
           22.108561024487457
          ],
          [
           24.439229320173204,
           25.918942003718797,
           23.867245053851626,
           25.971008033068074,
           25.362304962321325,
           25.83399597157019,
           24.890509432381947,
           25.975146895270505,
           25.095142694911093,
           24.44334857461106,
           24.379504850827452,
           25.60355025617251,
           23.51306423242249,
           25.963036673793162,
           24.719507115678336,
           25.817675492091677,
           24.162456104217977,
           25.74852941122775,
           24.55416000686281,
           24.702565467938914
          ],
          [
           27.353474377887032,
           27.508653861005538,
           26.78726066714083,
           27.276923981241634,
           26.796578520015327,
           27.061657042850314,
           26.419017790018913,
           27.318762158846774,
           26.331882929953423,
           24.54358743462621,
           27.274855194488453,
           27.338922222767195,
           26.859752865491444,
           27.274954713355815,
           26.978045315818527,
           27.37824878767045,
           27.013851211216327,
           27.514607962916912,
           26.918261858406225,
           23.76525767868195
          ],
          [
           28.921536947842604,
           28.308907256176145,
           28.67427177230666,
           27.68817437113023,
           29.243609005936843,
           28.155979482402863,
           29.173164340624357,
           27.992167243720512,
           28.86931561998201,
           25.715262467209268,
           29.039681451878412,
           28.09024740847741,
           28.667836894642345,
           27.95823579198769,
           29.14656917605706,
           28.27704243427967,
           29.1918779885776,
           28.194320013850103,
           28.902097472648688,
           26.78124347839605
          ],
          [
           25.039680133294265,
           25.89634016242792,
           24.61527761437891,
           25.854011672856014,
           24.810713565217444,
           26.341473318226548,
           24.663728674577175,
           26.067905122218598,
           24.326118775119905,
           23.244722677237814,
           25.009395531732874,
           26.33592417414271,
           25.32160739252247,
           26.38131658353553,
           25.132540652278266,
           26.06302504929196,
           24.949120312017957,
           25.805933043801602,
           25.00785498851221,
           23.63003043186449
          ]
         ]
        }
       ],
       "layout": {
        "coloraxis": {
         "colorscale": [
          [
           0,
           "#0d0887"
          ],
          [
           0.1111111111111111,
           "#46039f"
          ],
          [
           0.2222222222222222,
           "#7201a8"
          ],
          [
           0.3333333333333333,
           "#9c179e"
          ],
          [
           0.4444444444444444,
           "#bd3786"
          ],
          [
           0.5555555555555556,
           "#d8576b"
          ],
          [
           0.6666666666666666,
           "#ed7953"
          ],
          [
           0.7777777777777778,
           "#fb9f3a"
          ],
          [
           0.8888888888888888,
           "#fdca26"
          ],
          [
           1,
           "#f0f921"
          ]
         ]
        },
        "margin": {
         "t": 60
        },
        "template": {
         "data": {
          "bar": [
           {
            "error_x": {
             "color": "#2a3f5f"
            },
            "error_y": {
             "color": "#2a3f5f"
            },
            "marker": {
             "line": {
              "color": "#E5ECF6",
              "width": 0.5
             },
             "pattern": {
              "fillmode": "overlay",
              "size": 10,
              "solidity": 0.2
             }
            },
            "type": "bar"
           }
          ],
          "barpolar": [
           {
            "marker": {
             "line": {
              "color": "#E5ECF6",
              "width": 0.5
             },
             "pattern": {
              "fillmode": "overlay",
              "size": 10,
              "solidity": 0.2
             }
            },
            "type": "barpolar"
           }
          ],
          "carpet": [
           {
            "aaxis": {
             "endlinecolor": "#2a3f5f",
             "gridcolor": "white",
             "linecolor": "white",
             "minorgridcolor": "white",
             "startlinecolor": "#2a3f5f"
            },
            "baxis": {
             "endlinecolor": "#2a3f5f",
             "gridcolor": "white",
             "linecolor": "white",
             "minorgridcolor": "white",
             "startlinecolor": "#2a3f5f"
            },
            "type": "carpet"
           }
          ],
          "choropleth": [
           {
            "colorbar": {
             "outlinewidth": 0,
             "ticks": ""
            },
            "type": "choropleth"
           }
          ],
          "contour": [
           {
            "colorbar": {
             "outlinewidth": 0,
             "ticks": ""
            },
            "colorscale": [
             [
              0,
              "#0d0887"
             ],
             [
              0.1111111111111111,
              "#46039f"
             ],
             [
              0.2222222222222222,
              "#7201a8"
             ],
             [
              0.3333333333333333,
              "#9c179e"
             ],
             [
              0.4444444444444444,
              "#bd3786"
             ],
             [
              0.5555555555555556,
              "#d8576b"
             ],
             [
              0.6666666666666666,
              "#ed7953"
             ],
             [
              0.7777777777777778,
              "#fb9f3a"
             ],
             [
              0.8888888888888888,
              "#fdca26"
             ],
             [
              1,
              "#f0f921"
             ]
            ],
            "type": "contour"
           }
          ],
          "contourcarpet": [
           {
            "colorbar": {
             "outlinewidth": 0,
             "ticks": ""
            },
            "type": "contourcarpet"
           }
          ],
          "heatmap": [
           {
            "colorbar": {
             "outlinewidth": 0,
             "ticks": ""
            },
            "colorscale": [
             [
              0,
              "#0d0887"
             ],
             [
              0.1111111111111111,
              "#46039f"
             ],
             [
              0.2222222222222222,
              "#7201a8"
             ],
             [
              0.3333333333333333,
              "#9c179e"
             ],
             [
              0.4444444444444444,
              "#bd3786"
             ],
             [
              0.5555555555555556,
              "#d8576b"
             ],
             [
              0.6666666666666666,
              "#ed7953"
             ],
             [
              0.7777777777777778,
              "#fb9f3a"
             ],
             [
              0.8888888888888888,
              "#fdca26"
             ],
             [
              1,
              "#f0f921"
             ]
            ],
            "type": "heatmap"
           }
          ],
          "heatmapgl": [
           {
            "colorbar": {
             "outlinewidth": 0,
             "ticks": ""
            },
            "colorscale": [
             [
              0,
              "#0d0887"
             ],
             [
              0.1111111111111111,
              "#46039f"
             ],
             [
              0.2222222222222222,
              "#7201a8"
             ],
             [
              0.3333333333333333,
              "#9c179e"
             ],
             [
              0.4444444444444444,
              "#bd3786"
             ],
             [
              0.5555555555555556,
              "#d8576b"
             ],
             [
              0.6666666666666666,
              "#ed7953"
             ],
             [
              0.7777777777777778,
              "#fb9f3a"
             ],
             [
              0.8888888888888888,
              "#fdca26"
             ],
             [
              1,
              "#f0f921"
             ]
            ],
            "type": "heatmapgl"
           }
          ],
          "histogram": [
           {
            "marker": {
             "pattern": {
              "fillmode": "overlay",
              "size": 10,
              "solidity": 0.2
             }
            },
            "type": "histogram"
           }
          ],
          "histogram2d": [
           {
            "colorbar": {
             "outlinewidth": 0,
             "ticks": ""
            },
            "colorscale": [
             [
              0,
              "#0d0887"
             ],
             [
              0.1111111111111111,
              "#46039f"
             ],
             [
              0.2222222222222222,
              "#7201a8"
             ],
             [
              0.3333333333333333,
              "#9c179e"
             ],
             [
              0.4444444444444444,
              "#bd3786"
             ],
             [
              0.5555555555555556,
              "#d8576b"
             ],
             [
              0.6666666666666666,
              "#ed7953"
             ],
             [
              0.7777777777777778,
              "#fb9f3a"
             ],
             [
              0.8888888888888888,
              "#fdca26"
             ],
             [
              1,
              "#f0f921"
             ]
            ],
            "type": "histogram2d"
           }
          ],
          "histogram2dcontour": [
           {
            "colorbar": {
             "outlinewidth": 0,
             "ticks": ""
            },
            "colorscale": [
             [
              0,
              "#0d0887"
             ],
             [
              0.1111111111111111,
              "#46039f"
             ],
             [
              0.2222222222222222,
              "#7201a8"
             ],
             [
              0.3333333333333333,
              "#9c179e"
             ],
             [
              0.4444444444444444,
              "#bd3786"
             ],
             [
              0.5555555555555556,
              "#d8576b"
             ],
             [
              0.6666666666666666,
              "#ed7953"
             ],
             [
              0.7777777777777778,
              "#fb9f3a"
             ],
             [
              0.8888888888888888,
              "#fdca26"
             ],
             [
              1,
              "#f0f921"
             ]
            ],
            "type": "histogram2dcontour"
           }
          ],
          "mesh3d": [
           {
            "colorbar": {
             "outlinewidth": 0,
             "ticks": ""
            },
            "type": "mesh3d"
           }
          ],
          "parcoords": [
           {
            "line": {
             "colorbar": {
              "outlinewidth": 0,
              "ticks": ""
             }
            },
            "type": "parcoords"
           }
          ],
          "pie": [
           {
            "automargin": true,
            "type": "pie"
           }
          ],
          "scatter": [
           {
            "fillpattern": {
             "fillmode": "overlay",
             "size": 10,
             "solidity": 0.2
            },
            "type": "scatter"
           }
          ],
          "scatter3d": [
           {
            "line": {
             "colorbar": {
              "outlinewidth": 0,
              "ticks": ""
             }
            },
            "marker": {
             "colorbar": {
              "outlinewidth": 0,
              "ticks": ""
             }
            },
            "type": "scatter3d"
           }
          ],
          "scattercarpet": [
           {
            "marker": {
             "colorbar": {
              "outlinewidth": 0,
              "ticks": ""
             }
            },
            "type": "scattercarpet"
           }
          ],
          "scattergeo": [
           {
            "marker": {
             "colorbar": {
              "outlinewidth": 0,
              "ticks": ""
             }
            },
            "type": "scattergeo"
           }
          ],
          "scattergl": [
           {
            "marker": {
             "colorbar": {
              "outlinewidth": 0,
              "ticks": ""
             }
            },
            "type": "scattergl"
           }
          ],
          "scattermapbox": [
           {
            "marker": {
             "colorbar": {
              "outlinewidth": 0,
              "ticks": ""
             }
            },
            "type": "scattermapbox"
           }
          ],
          "scatterpolar": [
           {
            "marker": {
             "colorbar": {
              "outlinewidth": 0,
              "ticks": ""
             }
            },
            "type": "scatterpolar"
           }
          ],
          "scatterpolargl": [
           {
            "marker": {
             "colorbar": {
              "outlinewidth": 0,
              "ticks": ""
             }
            },
            "type": "scatterpolargl"
           }
          ],
          "scatterternary": [
           {
            "marker": {
             "colorbar": {
              "outlinewidth": 0,
              "ticks": ""
             }
            },
            "type": "scatterternary"
           }
          ],
          "surface": [
           {
            "colorbar": {
             "outlinewidth": 0,
             "ticks": ""
            },
            "colorscale": [
             [
              0,
              "#0d0887"
             ],
             [
              0.1111111111111111,
              "#46039f"
             ],
             [
              0.2222222222222222,
              "#7201a8"
             ],
             [
              0.3333333333333333,
              "#9c179e"
             ],
             [
              0.4444444444444444,
              "#bd3786"
             ],
             [
              0.5555555555555556,
              "#d8576b"
             ],
             [
              0.6666666666666666,
              "#ed7953"
             ],
             [
              0.7777777777777778,
              "#fb9f3a"
             ],
             [
              0.8888888888888888,
              "#fdca26"
             ],
             [
              1,
              "#f0f921"
             ]
            ],
            "type": "surface"
           }
          ],
          "table": [
           {
            "cells": {
             "fill": {
              "color": "#EBF0F8"
             },
             "line": {
              "color": "white"
             }
            },
            "header": {
             "fill": {
              "color": "#C8D4E3"
             },
             "line": {
              "color": "white"
             }
            },
            "type": "table"
           }
          ]
         },
         "layout": {
          "annotationdefaults": {
           "arrowcolor": "#2a3f5f",
           "arrowhead": 0,
           "arrowwidth": 1
          },
          "autotypenumbers": "strict",
          "coloraxis": {
           "colorbar": {
            "outlinewidth": 0,
            "ticks": ""
           }
          },
          "colorscale": {
           "diverging": [
            [
             0,
             "#8e0152"
            ],
            [
             0.1,
             "#c51b7d"
            ],
            [
             0.2,
             "#de77ae"
            ],
            [
             0.3,
             "#f1b6da"
            ],
            [
             0.4,
             "#fde0ef"
            ],
            [
             0.5,
             "#f7f7f7"
            ],
            [
             0.6,
             "#e6f5d0"
            ],
            [
             0.7,
             "#b8e186"
            ],
            [
             0.8,
             "#7fbc41"
            ],
            [
             0.9,
             "#4d9221"
            ],
            [
             1,
             "#276419"
            ]
           ],
           "sequential": [
            [
             0,
             "#0d0887"
            ],
            [
             0.1111111111111111,
             "#46039f"
            ],
            [
             0.2222222222222222,
             "#7201a8"
            ],
            [
             0.3333333333333333,
             "#9c179e"
            ],
            [
             0.4444444444444444,
             "#bd3786"
            ],
            [
             0.5555555555555556,
             "#d8576b"
            ],
            [
             0.6666666666666666,
             "#ed7953"
            ],
            [
             0.7777777777777778,
             "#fb9f3a"
            ],
            [
             0.8888888888888888,
             "#fdca26"
            ],
            [
             1,
             "#f0f921"
            ]
           ],
           "sequentialminus": [
            [
             0,
             "#0d0887"
            ],
            [
             0.1111111111111111,
             "#46039f"
            ],
            [
             0.2222222222222222,
             "#7201a8"
            ],
            [
             0.3333333333333333,
             "#9c179e"
            ],
            [
             0.4444444444444444,
             "#bd3786"
            ],
            [
             0.5555555555555556,
             "#d8576b"
            ],
            [
             0.6666666666666666,
             "#ed7953"
            ],
            [
             0.7777777777777778,
             "#fb9f3a"
            ],
            [
             0.8888888888888888,
             "#fdca26"
            ],
            [
             1,
             "#f0f921"
            ]
           ]
          },
          "colorway": [
           "#636efa",
           "#EF553B",
           "#00cc96",
           "#ab63fa",
           "#FFA15A",
           "#19d3f3",
           "#FF6692",
           "#B6E880",
           "#FF97FF",
           "#FECB52"
          ],
          "font": {
           "color": "#2a3f5f"
          },
          "geo": {
           "bgcolor": "white",
           "lakecolor": "white",
           "landcolor": "#E5ECF6",
           "showlakes": true,
           "showland": true,
           "subunitcolor": "white"
          },
          "hoverlabel": {
           "align": "left"
          },
          "hovermode": "closest",
          "mapbox": {
           "style": "light"
          },
          "paper_bgcolor": "white",
          "plot_bgcolor": "#E5ECF6",
          "polar": {
           "angularaxis": {
            "gridcolor": "white",
            "linecolor": "white",
            "ticks": ""
           },
           "bgcolor": "#E5ECF6",
           "radialaxis": {
            "gridcolor": "white",
            "linecolor": "white",
            "ticks": ""
           }
          },
          "scene": {
           "xaxis": {
            "backgroundcolor": "#E5ECF6",
            "gridcolor": "white",
            "gridwidth": 2,
            "linecolor": "white",
            "showbackground": true,
            "ticks": "",
            "zerolinecolor": "white"
           },
           "yaxis": {
            "backgroundcolor": "#E5ECF6",
            "gridcolor": "white",
            "gridwidth": 2,
            "linecolor": "white",
            "showbackground": true,
            "ticks": "",
            "zerolinecolor": "white"
           },
           "zaxis": {
            "backgroundcolor": "#E5ECF6",
            "gridcolor": "white",
            "gridwidth": 2,
            "linecolor": "white",
            "showbackground": true,
            "ticks": "",
            "zerolinecolor": "white"
           }
          },
          "shapedefaults": {
           "line": {
            "color": "#2a3f5f"
           }
          },
          "ternary": {
           "aaxis": {
            "gridcolor": "white",
            "linecolor": "white",
            "ticks": ""
           },
           "baxis": {
            "gridcolor": "white",
            "linecolor": "white",
            "ticks": ""
           },
           "bgcolor": "#E5ECF6",
           "caxis": {
            "gridcolor": "white",
            "linecolor": "white",
            "ticks": ""
           }
          },
          "title": {
           "x": 0.05
          },
          "xaxis": {
           "automargin": true,
           "gridcolor": "white",
           "linecolor": "white",
           "ticks": "",
           "title": {
            "standoff": 15
           },
           "zerolinecolor": "white",
           "zerolinewidth": 2
          },
          "yaxis": {
           "automargin": true,
           "gridcolor": "white",
           "linecolor": "white",
           "ticks": "",
           "title": {
            "standoff": 15
           },
           "zerolinecolor": "white",
           "zerolinewidth": 2
          }
         }
        },
        "xaxis": {
         "anchor": "y",
         "domain": [
          0,
          1
         ]
        },
        "yaxis": {
         "anchor": "x",
         "autorange": "reversed",
         "domain": [
          0,
          1
         ],
         "title": {
          "text": "Accession"
         }
        }
       }
      }
     },
     "metadata": {},
     "output_type": "display_data"
    }
   ],
   "source": [
    "# Protein Abundance Heat Map\n",
    "plot_options={\n",
    "            \"compare groups\": [\"FP22\",\"FP21\"],\n",
    "            \"log2_transform\": False,\n",
    "            \"significant_only\": False,\n",
    "            \"alpha\": 0.05, \n",
    "            \"min_fold_change\": 2\n",
    "        }\n",
    "figure, _, _ =plotter.heatmap_plots(data_obj, plot_options, saved_settings)\n",
    "figure.show()"
   ]
  },
  {
   "cell_type": "code",
   "execution_count": 14,
   "id": "ee99842b",
   "metadata": {},
   "outputs": [
    {
     "ename": "KeyError",
     "evalue": "'Quant'",
     "output_type": "error",
     "traceback": [
      "\u001b[1;31m---------------------------------------------------------------------------\u001b[0m",
      "\u001b[1;31mKeyError\u001b[0m                                  Traceback (most recent call last)",
      "Cell \u001b[1;32mIn[14], line 12\u001b[0m\n\u001b[0;32m      2\u001b[0m plot_options\u001b[38;5;241m=\u001b[39m{\n\u001b[0;32m      3\u001b[0m             \u001b[38;5;124m\"\u001b[39m\u001b[38;5;124mcompare groups\u001b[39m\u001b[38;5;124m\"\u001b[39m: [\u001b[38;5;124m\"\u001b[39m\u001b[38;5;124mQuant\u001b[39m\u001b[38;5;124m\"\u001b[39m,\u001b[38;5;124m\"\u001b[39m\u001b[38;5;124mLibrary\u001b[39m\u001b[38;5;124m\"\u001b[39m],\n\u001b[0;32m      4\u001b[0m             \u001b[38;5;124m\"\u001b[39m\u001b[38;5;124minclusion list\u001b[39m\u001b[38;5;124m\"\u001b[39m: \u001b[38;5;124m\"\u001b[39m\u001b[38;5;124mproteins_symbols.csv\u001b[39m\u001b[38;5;124m\"\u001b[39m,\n\u001b[1;32m   (...)\u001b[0m\n\u001b[0;32m      9\u001b[0m                       \u001b[38;5;124m\"\u001b[39m\u001b[38;5;124mgray\u001b[39m\u001b[38;5;124m\"\u001b[39m,  \u001b[38;5;124m\"\u001b[39m\u001b[38;5;124molive\u001b[39m\u001b[38;5;124m\"\u001b[39m, \u001b[38;5;124m\"\u001b[39m\u001b[38;5;124mcyan\u001b[39m\u001b[38;5;124m\"\u001b[39m, \u001b[38;5;124m\"\u001b[39m\u001b[38;5;124mblue\u001b[39m\u001b[38;5;124m\"\u001b[39m,  \u001b[38;5;124m\"\u001b[39m\u001b[38;5;124mblack\u001b[39m\u001b[38;5;124m\"\u001b[39m, ]\n\u001b[0;32m     10\u001b[0m         }\n\u001b[0;32m     11\u001b[0m plot_options[\u001b[38;5;124m\"\u001b[39m\u001b[38;5;124mplot_type\u001b[39m\u001b[38;5;124m\"\u001b[39m] \u001b[38;5;241m=\u001b[39m \u001b[38;5;241m1\u001b[39m \u001b[38;5;66;03m# 1 is protein, 2 is peptide\u001b[39;00m\n\u001b[1;32m---> 12\u001b[0m figure, _, _ \u001b[38;5;241m=\u001b[39m\u001b[43mplotter\u001b[49m\u001b[38;5;241;43m.\u001b[39;49m\u001b[43minclusion_venn_plots\u001b[49m\u001b[43m(\u001b[49m\u001b[43mdata_obj\u001b[49m\u001b[43m,\u001b[49m\u001b[43m \u001b[49m\u001b[43mplot_options\u001b[49m\u001b[43m,\u001b[49m\u001b[43m \u001b[49m\u001b[43msaved_settings\u001b[49m\u001b[43m,\u001b[49m\u001b[43mmiss_val_thresh\u001b[49m\u001b[38;5;241;43m=\u001b[39;49m\u001b[38;5;241;43m99\u001b[39;49m\u001b[43m)\u001b[49m\n\u001b[0;32m     13\u001b[0m figure\u001b[38;5;241m.\u001b[39mshow()\n",
      "File \u001b[1;32mc:\\VS_Code\\SCP_PP\\SCP_plotter.py:1229\u001b[0m, in \u001b[0;36mSCP_plotter.inclusion_venn_plots\u001b[1;34m(self, data_object, plot_options, saved_settings, username, miss_val_thresh)\u001b[0m\n\u001b[0;32m   1226\u001b[0m runname_list \u001b[38;5;241m=\u001b[39m []  \u001b[38;5;66;03m# contain list of run names list for each groups\u001b[39;00m\n\u001b[0;32m   1227\u001b[0m \u001b[38;5;28;01mfor\u001b[39;00m eachGroup \u001b[38;5;129;01min\u001b[39;00m group_names:\n\u001b[1;32m-> 1229\u001b[0m     run_ids \u001b[38;5;241m=\u001b[39m \u001b[43msaved_settings\u001b[49m\u001b[43m[\u001b[49m\u001b[43meachGroup\u001b[49m\u001b[43m]\u001b[49m[\u001b[38;5;124m\"\u001b[39m\u001b[38;5;124mrecords\u001b[39m\u001b[38;5;124m\"\u001b[39m]\n\u001b[0;32m   1230\u001b[0m     runname_sublist \u001b[38;5;241m=\u001b[39m data_object[\u001b[38;5;124m\"\u001b[39m\u001b[38;5;124mrun_metadata\u001b[39m\u001b[38;5;124m\"\u001b[39m]\u001b[38;5;241m.\u001b[39mloc[data_object[\u001b[38;5;124m\"\u001b[39m\u001b[38;5;124mrun_metadata\u001b[39m\u001b[38;5;124m\"\u001b[39m][\u001b[38;5;124m\"\u001b[39m\u001b[38;5;124mRun Identifier\u001b[39m\u001b[38;5;124m\"\u001b[39m]\u001b[38;5;241m.\u001b[39misin(run_ids)][\u001b[38;5;124m\"\u001b[39m\u001b[38;5;124mRun Names\u001b[39m\u001b[38;5;124m\"\u001b[39m]\u001b[38;5;241m.\u001b[39mto_list()\n\u001b[0;32m   1232\u001b[0m     \u001b[38;5;28;01mif\u001b[39;00m \u001b[38;5;28mself\u001b[39m\u001b[38;5;241m.\u001b[39mprocessor\u001b[38;5;241m.\u001b[39mdata_type \u001b[38;5;241m==\u001b[39m \u001b[38;5;124m\"\u001b[39m\u001b[38;5;124mTMT\u001b[39m\u001b[38;5;124m\"\u001b[39m:\n",
      "\u001b[1;31mKeyError\u001b[0m: 'Quant'"
     ]
    }
   ],
   "source": [
    "# ID Venns plot\n",
    "plot_options={\n",
    "            \"compare groups\": [\"Quant\",\"Library\"],\n",
    "            \"inclusion list\": \"proteins_symbols.csv\",\n",
    "            \"title\": \"Venn Diagram (Protein)\",\n",
    "            \"opacity\": 0.75,\n",
    "            \"color\": [\"#3E6990\", \"#C6878F\", \"#AABD8C\",\"#fac8d3\",\"#7aa8e6\", \"#E9E3B4\",\"#00FF00\", \"#FFFF00\", \"#FF0000\", \"yellow\", \"red\",\n",
    "                      \"green\", \"purple\", \"orange\", \"brown\", \"pink\",\n",
    "                      \"gray\",  \"olive\", \"cyan\", \"blue\",  \"black\", ]\n",
    "        }\n",
    "plot_options[\"plot_type\"] = 1 # 1 is protein, 2 is peptide\n",
    "figure, _, _ =plotter.inclusion_venn_plots(data_obj, plot_options, saved_settings,miss_val_thresh=99)\n",
    "figure.show()\n",
    "\n"
   ]
  }
 ],
 "metadata": {
  "kernelspec": {
   "display_name": ".venv",
   "language": "python",
   "name": "python3"
  },
  "language_info": {
   "codemirror_mode": {
    "name": "ipython",
    "version": 3
   },
   "file_extension": ".py",
   "mimetype": "text/x-python",
   "name": "python",
   "nbconvert_exporter": "python",
   "pygments_lexer": "ipython3",
   "version": "3.10.11"
  },
  "vscode": {
   "interpreter": {
    "hash": "a889046d7ab3fc532e7617178168e652077a93fddee421a252a8a2c494ffb595"
   }
  }
 },
 "nbformat": 4,
 "nbformat_minor": 5
}
